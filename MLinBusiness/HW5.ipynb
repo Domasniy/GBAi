{
  "nbformat": 4,
  "nbformat_minor": 0,
  "metadata": {
    "colab": {
      "name": "HW5.ipynb",
      "provenance": [],
      "collapsed_sections": []
    },
    "kernelspec": {
      "name": "python3",
      "display_name": "Python 3"
    },
    "language_info": {
      "name": "python"
    },
    "accelerator": "GPU"
  },
  "cells": [
    {
      "cell_type": "markdown",
      "metadata": {
        "id": "7Q7QRw7JdaJH"
      },
      "source": [
        "1. Для нашего пайплайна (Case1) поэкспериментировать с разными моделями: 1 - бустинг, 2 - логистическая регрессия (не забудьте здесь добавить в cont_transformer стандартизацию - нормирование вещественных признаков)"
      ]
    },
    {
      "cell_type": "code",
      "metadata": {
        "id": "hNQPzMekdL9a"
      },
      "source": [
        "import pandas as pd\n",
        "import numpy as np\n",
        "from sklearn.pipeline import Pipeline, make_pipeline\n",
        "from sklearn.base import BaseEstimator, TransformerMixin\n",
        "from sklearn.linear_model import LogisticRegression\n",
        "from sklearn.model_selection import train_test_split, GridSearchCV, StratifiedKFold, KFold\n",
        "#from sklearn.feature_extraction.text import TfidfVectorizer\n",
        "import itertools\n",
        "from sklearn.compose import ColumnTransformer\n",
        "from sklearn.preprocessing import StandardScaler, OneHotEncoder\n",
        "\n",
        "import matplotlib.pyplot as plt\n",
        "\n",
        "%matplotlib inline"
      ],
      "execution_count": 1,
      "outputs": []
    },
    {
      "cell_type": "code",
      "metadata": {
        "id": "4vSeUFCnjsu3"
      },
      "source": [
        "SEED = 0\n",
        "models_results = {\n",
        "    'Model': [],\n",
        "    'F-score': [],\n",
        "    'Precision': [],\n",
        "    'Recall': [],\n",
        "    'ROC-AUC': [],\n",
        "    'Confusion Matrix': []\n",
        "}"
      ],
      "execution_count": 19,
      "outputs": []
    },
    {
      "cell_type": "code",
      "metadata": {
        "colab": {
          "base_uri": "https://localhost:8080/",
          "height": 143
        },
        "id": "_bNaftRvdiCX",
        "outputId": "280286b3-be3f-4bf5-d9b6-dda54f364aee"
      },
      "source": [
        "df = pd.read_csv(\"churn_data.csv\")\n",
        "df.head(3)"
      ],
      "execution_count": 3,
      "outputs": [
        {
          "output_type": "execute_result",
          "data": {
            "text/html": [
              "<div>\n",
              "<style scoped>\n",
              "    .dataframe tbody tr th:only-of-type {\n",
              "        vertical-align: middle;\n",
              "    }\n",
              "\n",
              "    .dataframe tbody tr th {\n",
              "        vertical-align: top;\n",
              "    }\n",
              "\n",
              "    .dataframe thead th {\n",
              "        text-align: right;\n",
              "    }\n",
              "</style>\n",
              "<table border=\"1\" class=\"dataframe\">\n",
              "  <thead>\n",
              "    <tr style=\"text-align: right;\">\n",
              "      <th></th>\n",
              "      <th>RowNumber</th>\n",
              "      <th>CustomerId</th>\n",
              "      <th>Surname</th>\n",
              "      <th>CreditScore</th>\n",
              "      <th>Geography</th>\n",
              "      <th>Gender</th>\n",
              "      <th>Age</th>\n",
              "      <th>Tenure</th>\n",
              "      <th>Balance</th>\n",
              "      <th>NumOfProducts</th>\n",
              "      <th>HasCrCard</th>\n",
              "      <th>IsActiveMember</th>\n",
              "      <th>EstimatedSalary</th>\n",
              "      <th>Exited</th>\n",
              "    </tr>\n",
              "  </thead>\n",
              "  <tbody>\n",
              "    <tr>\n",
              "      <th>0</th>\n",
              "      <td>1</td>\n",
              "      <td>15634602</td>\n",
              "      <td>Hargrave</td>\n",
              "      <td>619</td>\n",
              "      <td>France</td>\n",
              "      <td>Female</td>\n",
              "      <td>42</td>\n",
              "      <td>2</td>\n",
              "      <td>0.00</td>\n",
              "      <td>1</td>\n",
              "      <td>1</td>\n",
              "      <td>1</td>\n",
              "      <td>101348.88</td>\n",
              "      <td>1</td>\n",
              "    </tr>\n",
              "    <tr>\n",
              "      <th>1</th>\n",
              "      <td>2</td>\n",
              "      <td>15647311</td>\n",
              "      <td>Hill</td>\n",
              "      <td>608</td>\n",
              "      <td>Spain</td>\n",
              "      <td>Female</td>\n",
              "      <td>41</td>\n",
              "      <td>1</td>\n",
              "      <td>83807.86</td>\n",
              "      <td>1</td>\n",
              "      <td>0</td>\n",
              "      <td>1</td>\n",
              "      <td>112542.58</td>\n",
              "      <td>0</td>\n",
              "    </tr>\n",
              "    <tr>\n",
              "      <th>2</th>\n",
              "      <td>3</td>\n",
              "      <td>15619304</td>\n",
              "      <td>Onio</td>\n",
              "      <td>502</td>\n",
              "      <td>France</td>\n",
              "      <td>Female</td>\n",
              "      <td>42</td>\n",
              "      <td>8</td>\n",
              "      <td>159660.80</td>\n",
              "      <td>3</td>\n",
              "      <td>1</td>\n",
              "      <td>0</td>\n",
              "      <td>113931.57</td>\n",
              "      <td>1</td>\n",
              "    </tr>\n",
              "  </tbody>\n",
              "</table>\n",
              "</div>"
            ],
            "text/plain": [
              "   RowNumber  CustomerId   Surname  ...  IsActiveMember EstimatedSalary Exited\n",
              "0          1    15634602  Hargrave  ...               1       101348.88      1\n",
              "1          2    15647311      Hill  ...               1       112542.58      0\n",
              "2          3    15619304      Onio  ...               0       113931.57      1\n",
              "\n",
              "[3 rows x 14 columns]"
            ]
          },
          "metadata": {
            "tags": []
          },
          "execution_count": 3
        }
      ]
    },
    {
      "cell_type": "markdown",
      "metadata": {
        "id": "thRH2_fddtFp"
      },
      "source": [
        "Есть как категориальные, так и вещественные признаки. Поле CustomerId нужно будет удалить. \n",
        "\n",
        "Посмотрим на распределение классов:"
      ]
    },
    {
      "cell_type": "code",
      "metadata": {
        "colab": {
          "base_uri": "https://localhost:8080/"
        },
        "id": "ga2_fjyRdsAv",
        "outputId": "94a619d7-a5ee-43ad-9d2b-d099bb55b24e"
      },
      "source": [
        "df['Exited'].value_counts()"
      ],
      "execution_count": 4,
      "outputs": [
        {
          "output_type": "execute_result",
          "data": {
            "text/plain": [
              "0    7963\n",
              "1    2037\n",
              "Name: Exited, dtype: int64"
            ]
          },
          "metadata": {
            "tags": []
          },
          "execution_count": 4
        }
      ]
    },
    {
      "cell_type": "code",
      "metadata": {
        "id": "z1nJUMJCewZk"
      },
      "source": [
        "categorical_columns = ['Geography', 'Gender', 'Tenure', 'HasCrCard', 'IsActiveMember']\n",
        "continuous_columns = ['CreditScore', 'Age', 'Balance', 'NumOfProducts', 'EstimatedSalary']\n",
        "feature_cols = categorical_columns + continuous_columns\n",
        "target = 'Exited'"
      ],
      "execution_count": 5,
      "outputs": []
    },
    {
      "cell_type": "code",
      "metadata": {
        "id": "cTjL6SBwduzj"
      },
      "source": [
        "#разделим данные на train/test\n",
        "X_train, X_test, y_train, y_test = train_test_split(df[feature_cols], df[target], random_state=SEED)"
      ],
      "execution_count": 6,
      "outputs": []
    },
    {
      "cell_type": "markdown",
      "metadata": {
        "id": "SI1xJuUYeFB7"
      },
      "source": [
        "Зададим списки признаков"
      ]
    },
    {
      "cell_type": "code",
      "metadata": {
        "id": "Wx7tk1t3d3D1"
      },
      "source": [
        "categorical_columns = ['Geography', 'Gender', 'Tenure', 'HasCrCard', 'IsActiveMember']\n",
        "continuous_columns = ['CreditScore', 'Age', 'Balance', 'NumOfProducts', 'EstimatedSalary']"
      ],
      "execution_count": 7,
      "outputs": []
    },
    {
      "cell_type": "code",
      "metadata": {
        "id": "k34rxObYeG4Y"
      },
      "source": [
        "#Сделаем трансформер для колонок: числовых признаков с помощью StandardScaler, и категориальных с помощью OneHotEncoder\n",
        "t = [('cat', OneHotEncoder(drop='first'), categorical_columns)]\n",
        "col_transform = ColumnTransformer(transformers=t, remainder='passthrough')"
      ],
      "execution_count": 8,
      "outputs": []
    },
    {
      "cell_type": "code",
      "metadata": {
        "id": "M6Jm2cpqgeZV"
      },
      "source": [
        "from sklearn.ensemble import RandomForestClassifier\n",
        "\n",
        "model = make_pipeline(\n",
        "    col_transform,\n",
        "    RandomForestClassifier(random_state = SEED))"
      ],
      "execution_count": 9,
      "outputs": []
    },
    {
      "cell_type": "markdown",
      "metadata": {
        "id": "5fTBRGQ3g0Fb"
      },
      "source": [
        "Обучим модель"
      ]
    },
    {
      "cell_type": "code",
      "metadata": {
        "colab": {
          "base_uri": "https://localhost:8080/"
        },
        "id": "ZzAZgCEdgxtN",
        "outputId": "bf392e53-7fa5-4a1f-da54-2ea75f7c617e"
      },
      "source": [
        "#обучим наш пайплайн\n",
        "model.fit(X_train, y_train)"
      ],
      "execution_count": 10,
      "outputs": [
        {
          "output_type": "execute_result",
          "data": {
            "text/plain": [
              "Pipeline(memory=None,\n",
              "         steps=[('columntransformer',\n",
              "                 ColumnTransformer(n_jobs=None, remainder='passthrough',\n",
              "                                   sparse_threshold=0.3,\n",
              "                                   transformer_weights=None,\n",
              "                                   transformers=[('cat',\n",
              "                                                  OneHotEncoder(categories='auto',\n",
              "                                                                drop='first',\n",
              "                                                                dtype=<class 'numpy.float64'>,\n",
              "                                                                handle_unknown='error',\n",
              "                                                                sparse=True),\n",
              "                                                  ['Geography', 'Gender',\n",
              "                                                   'Tenure', 'HasCrCard',\n",
              "                                                   'IsActiveMember'])],\n",
              "                                   verbose...\n",
              "                 RandomForestClassifier(bootstrap=True, ccp_alpha=0.0,\n",
              "                                        class_weight=None, criterion='gini',\n",
              "                                        max_depth=None, max_features='auto',\n",
              "                                        max_leaf_nodes=None, max_samples=None,\n",
              "                                        min_impurity_decrease=0.0,\n",
              "                                        min_impurity_split=None,\n",
              "                                        min_samples_leaf=1, min_samples_split=2,\n",
              "                                        min_weight_fraction_leaf=0.0,\n",
              "                                        n_estimators=100, n_jobs=None,\n",
              "                                        oob_score=False, random_state=0,\n",
              "                                        verbose=0, warm_start=False))],\n",
              "         verbose=False)"
            ]
          },
          "metadata": {
            "tags": []
          },
          "execution_count": 10
        }
      ]
    },
    {
      "cell_type": "code",
      "metadata": {
        "colab": {
          "base_uri": "https://localhost:8080/"
        },
        "id": "NfzQFWE8g4Q2",
        "outputId": "5ee992c8-eb3b-4eff-e8c4-ae32a787f3ee"
      },
      "source": [
        "#наши прогнозы для тестовой выборки\n",
        "preds = model.predict_proba(X_test)[:, 1]\n",
        "preds[:10]"
      ],
      "execution_count": 11,
      "outputs": [
        {
          "output_type": "execute_result",
          "data": {
            "text/plain": [
              "array([0.29, 0.24, 0.27, 0.01, 0.01, 0.7 , 0.02, 0.12, 0.13, 0.79])"
            ]
          },
          "metadata": {
            "tags": []
          },
          "execution_count": 11
        }
      ]
    },
    {
      "cell_type": "code",
      "metadata": {
        "id": "l9lFgwoTiOWo"
      },
      "source": [
        "from sklearn.metrics import f1_score, roc_auc_score, precision_score, classification_report, precision_recall_curve, confusion_matrix"
      ],
      "execution_count": 12,
      "outputs": []
    },
    {
      "cell_type": "code",
      "metadata": {
        "colab": {
          "base_uri": "https://localhost:8080/"
        },
        "id": "sKsHDnIFiRzO",
        "outputId": "335e195d-7594-4d8f-824b-d4e7d19c4328"
      },
      "source": [
        "precision, recall, thresholds = precision_recall_curve(y_test, preds)\n",
        "\n",
        "fscore = (2 * precision * recall) / (precision + recall)\n",
        "# locate the index of the largest f score\n",
        "ix = np.argmax(fscore)\n",
        "print('Best Threshold=%f, F-Score=%.3f, Precision=%.3f, Recall=%.3f' % (thresholds[ix], \n",
        "                                                                        fscore[ix],\n",
        "                                                                        precision[ix],\n",
        "                                                                        recall[ix]))"
      ],
      "execution_count": 13,
      "outputs": [
        {
          "output_type": "stream",
          "text": [
            "Best Threshold=0.350000, F-Score=0.650, Precision=0.625, Recall=0.676\n"
          ],
          "name": "stdout"
        }
      ]
    },
    {
      "cell_type": "markdown",
      "metadata": {
        "id": "F1uRIa8TiaYc"
      },
      "source": [
        "Отрисуем матрицу ошибок"
      ]
    },
    {
      "cell_type": "code",
      "metadata": {
        "id": "eZB1WiXqiTdv"
      },
      "source": [
        "def plot_confusion_matrix(cm, classes,\n",
        "                          normalize=False,\n",
        "                          title='Confusion matrix',\n",
        "                          cmap=plt.cm.Blues):\n",
        "    \"\"\"\n",
        "    This function prints and plots the confusion matrix.\n",
        "    Normalization can be applied by setting `normalize=True`.\n",
        "    \"\"\"\n",
        "    plt.imshow(cm, interpolation='nearest', cmap=cmap)\n",
        "    plt.title(title)\n",
        "    plt.colorbar()\n",
        "    tick_marks = np.arange(len(classes))\n",
        "    plt.xticks(tick_marks, classes, rotation=45)\n",
        "    plt.yticks(tick_marks, classes)\n",
        "\n",
        "    if normalize:\n",
        "        cm = cm.astype('float') / cm.sum(axis=1)[:, np.newaxis]\n",
        "        print(\"Normalized confusion matrix\")\n",
        "    else:\n",
        "        print('Confusion matrix, without normalization')\n",
        "\n",
        "    print(cm)\n",
        "\n",
        "    thresh = cm.max() / 2.\n",
        "    for i, j in itertools.product(range(cm.shape[0]), range(cm.shape[1])):\n",
        "        plt.text(j, i, cm[i, j],\n",
        "                 horizontalalignment=\"center\",\n",
        "                 color=\"white\" if cm[i, j] > thresh else \"black\")\n",
        "\n",
        "    plt.tight_layout()\n",
        "    plt.ylabel('True label')\n",
        "    plt.xlabel('Predicted label')"
      ],
      "execution_count": 14,
      "outputs": []
    },
    {
      "cell_type": "code",
      "metadata": {
        "colab": {
          "base_uri": "https://localhost:8080/",
          "height": 648
        },
        "id": "sjen-KuticSP",
        "outputId": "c0c5ef96-cb8b-4328-95b2-e57343bb0b39"
      },
      "source": [
        "#мы уже нашли ранее \"оптимальный\" порог, когда максимизировали f_score\n",
        "font = {'size' : 15}\n",
        "\n",
        "plt.rc('font', **font)\n",
        "\n",
        "cnf_matrix = confusion_matrix(y_test, preds>thresholds[ix])\n",
        "plt.figure(figsize=(10, 8))\n",
        "plot_confusion_matrix(cnf_matrix, classes=['NonChurn', 'Churn'],\n",
        "                      title='Confusion matrix')\n",
        "plt.savefig(\"conf_matrix.png\")\n",
        "plt.show()"
      ],
      "execution_count": 15,
      "outputs": [
        {
          "output_type": "stream",
          "text": [
            "Confusion matrix, without normalization\n",
            "[[1795  196]\n",
            " [ 172  337]]\n"
          ],
          "name": "stdout"
        },
        {
          "output_type": "display_data",
          "data": {
            "image/png": "[encoded data removed]",
            "text/plain": [
              "<Figure size 720x576 with 2 Axes>"
            ]
          },
          "metadata": {
            "tags": [],
            "needs_background": "light"
          }
        }
      ]
    },
    {
      "cell_type": "code",
      "metadata": {
        "id": "8tpMFSRto0FN"
      },
      "source": [
        "models_results['Model'].append('RandomForest')\n",
        "models_results['F-score'].append(fscore[ix])\n",
        "models_results['Precision'].append(precision[ix])\n",
        "models_results['Recall'].append(recall[ix])\n",
        "models_results['ROC-AUC'].append(roc_auc_score(y_test, preds))\n",
        "models_results['Confusion Matrix'].append(cnf_matrix)"
      ],
      "execution_count": 20,
      "outputs": []
    },
    {
      "cell_type": "markdown",
      "metadata": {
        "id": "NLdPnS1ykxDZ"
      },
      "source": [
        "Попробуем Catboost"
      ]
    },
    {
      "cell_type": "code",
      "metadata": {
        "id": "6ley4lRoifn2"
      },
      "source": [
        "import catboost"
      ],
      "execution_count": 23,
      "outputs": []
    },
    {
      "cell_type": "code",
      "metadata": {
        "id": "Er2zagIqk3xA"
      },
      "source": [
        "X_train, X_val, y_train, y_val = train_test_split(df[feature_cols], df[target], \n",
        "                                                  random_state=SEED)"
      ],
      "execution_count": 24,
      "outputs": []
    },
    {
      "cell_type": "code",
      "metadata": {
        "id": "S4JqyLjKlO1p"
      },
      "source": [
        "clf = catboost.CatBoostClassifier(random_seed=SEED)"
      ],
      "execution_count": 25,
      "outputs": []
    },
    {
      "cell_type": "code",
      "metadata": {
        "colab": {
          "base_uri": "https://localhost:8080/"
        },
        "id": "jnwVWp3blatm",
        "outputId": "7e666468-4a4b-473f-d5b8-9fa0df198e30"
      },
      "source": [
        "clf.fit(\n",
        "    X_train, y_train,\n",
        "    cat_features=categorical_columns,\n",
        ")"
      ],
      "execution_count": 26,
      "outputs": [
        {
          "output_type": "stream",
          "text": [
            "Learning rate set to 0.024355\n",
            "0:\tlearn: 0.6732734\ttotal: 56.9ms\tremaining: 56.8s\n",
            "1:\tlearn: 0.6546409\ttotal: 65ms\tremaining: 32.4s\n",
            "2:\tlearn: 0.6372412\ttotal: 72.3ms\tremaining: 24s\n",
            "3:\tlearn: 0.6214332\ttotal: 79ms\tremaining: 19.7s\n",
            "4:\tlearn: 0.6057064\ttotal: 86.6ms\tremaining: 17.2s\n",
            "5:\tlearn: 0.5910305\ttotal: 94.3ms\tremaining: 15.6s\n",
            "6:\tlearn: 0.5766300\ttotal: 105ms\tremaining: 15s\n",
            "7:\tlearn: 0.5630720\ttotal: 113ms\tremaining: 14s\n",
            "8:\tlearn: 0.5507865\ttotal: 120ms\tremaining: 13.2s\n",
            "9:\tlearn: 0.5419090\ttotal: 127ms\tremaining: 12.5s\n",
            "10:\tlearn: 0.5305959\ttotal: 134ms\tremaining: 12s\n",
            "11:\tlearn: 0.5208150\ttotal: 141ms\tremaining: 11.6s\n",
            "12:\tlearn: 0.5114535\ttotal: 148ms\tremaining: 11.3s\n",
            "13:\tlearn: 0.5016030\ttotal: 156ms\tremaining: 11s\n",
            "14:\tlearn: 0.4943738\ttotal: 163ms\tremaining: 10.7s\n",
            "15:\tlearn: 0.4866827\ttotal: 171ms\tremaining: 10.5s\n",
            "16:\tlearn: 0.4811981\ttotal: 176ms\tremaining: 10.2s\n",
            "17:\tlearn: 0.4756414\ttotal: 185ms\tremaining: 10.1s\n",
            "18:\tlearn: 0.4686879\ttotal: 194ms\tremaining: 10s\n",
            "19:\tlearn: 0.4614436\ttotal: 205ms\tremaining: 10.1s\n",
            "20:\tlearn: 0.4556109\ttotal: 215ms\tremaining: 10s\n",
            "21:\tlearn: 0.4494264\ttotal: 224ms\tremaining: 9.95s\n",
            "22:\tlearn: 0.4451437\ttotal: 233ms\tremaining: 9.88s\n",
            "23:\tlearn: 0.4405844\ttotal: 242ms\tremaining: 9.86s\n",
            "24:\tlearn: 0.4362040\ttotal: 251ms\tremaining: 9.78s\n",
            "25:\tlearn: 0.4317892\ttotal: 260ms\tremaining: 9.72s\n",
            "26:\tlearn: 0.4280439\ttotal: 268ms\tremaining: 9.67s\n",
            "27:\tlearn: 0.4234992\ttotal: 277ms\tremaining: 9.61s\n",
            "28:\tlearn: 0.4206995\ttotal: 284ms\tremaining: 9.49s\n",
            "29:\tlearn: 0.4175903\ttotal: 293ms\tremaining: 9.46s\n",
            "30:\tlearn: 0.4142411\ttotal: 302ms\tremaining: 9.44s\n",
            "31:\tlearn: 0.4107303\ttotal: 314ms\tremaining: 9.5s\n",
            "32:\tlearn: 0.4080519\ttotal: 325ms\tremaining: 9.51s\n",
            "33:\tlearn: 0.4046718\ttotal: 334ms\tremaining: 9.48s\n",
            "34:\tlearn: 0.4019407\ttotal: 342ms\tremaining: 9.44s\n",
            "35:\tlearn: 0.3997093\ttotal: 351ms\tremaining: 9.4s\n",
            "36:\tlearn: 0.3969314\ttotal: 359ms\tremaining: 9.35s\n",
            "37:\tlearn: 0.3942471\ttotal: 367ms\tremaining: 9.29s\n",
            "38:\tlearn: 0.3928533\ttotal: 372ms\tremaining: 9.17s\n",
            "39:\tlearn: 0.3905108\ttotal: 380ms\tremaining: 9.12s\n",
            "40:\tlearn: 0.3883840\ttotal: 388ms\tremaining: 9.07s\n",
            "41:\tlearn: 0.3875078\ttotal: 392ms\tremaining: 8.94s\n",
            "42:\tlearn: 0.3849812\ttotal: 399ms\tremaining: 8.88s\n",
            "43:\tlearn: 0.3835391\ttotal: 410ms\tremaining: 8.9s\n",
            "44:\tlearn: 0.3817586\ttotal: 417ms\tremaining: 8.85s\n",
            "45:\tlearn: 0.3802584\ttotal: 425ms\tremaining: 8.81s\n",
            "46:\tlearn: 0.3789207\ttotal: 432ms\tremaining: 8.75s\n",
            "47:\tlearn: 0.3780823\ttotal: 435ms\tremaining: 8.63s\n",
            "48:\tlearn: 0.3762303\ttotal: 443ms\tremaining: 8.6s\n",
            "49:\tlearn: 0.3747186\ttotal: 451ms\tremaining: 8.56s\n",
            "50:\tlearn: 0.3730488\ttotal: 458ms\tremaining: 8.53s\n",
            "51:\tlearn: 0.3715600\ttotal: 466ms\tremaining: 8.49s\n",
            "52:\tlearn: 0.3703399\ttotal: 473ms\tremaining: 8.45s\n",
            "53:\tlearn: 0.3689966\ttotal: 480ms\tremaining: 8.4s\n",
            "54:\tlearn: 0.3675302\ttotal: 488ms\tremaining: 8.38s\n",
            "55:\tlearn: 0.3657857\ttotal: 495ms\tremaining: 8.34s\n",
            "56:\tlearn: 0.3645043\ttotal: 503ms\tremaining: 8.32s\n",
            "57:\tlearn: 0.3631122\ttotal: 511ms\tremaining: 8.3s\n",
            "58:\tlearn: 0.3622089\ttotal: 525ms\tremaining: 8.37s\n",
            "59:\tlearn: 0.3614598\ttotal: 534ms\tremaining: 8.37s\n",
            "60:\tlearn: 0.3603803\ttotal: 546ms\tremaining: 8.4s\n",
            "61:\tlearn: 0.3594735\ttotal: 553ms\tremaining: 8.36s\n",
            "62:\tlearn: 0.3582802\ttotal: 560ms\tremaining: 8.33s\n",
            "63:\tlearn: 0.3571260\ttotal: 568ms\tremaining: 8.3s\n",
            "64:\tlearn: 0.3558832\ttotal: 574ms\tremaining: 8.26s\n",
            "65:\tlearn: 0.3550669\ttotal: 582ms\tremaining: 8.23s\n",
            "66:\tlearn: 0.3539840\ttotal: 589ms\tremaining: 8.2s\n",
            "67:\tlearn: 0.3529874\ttotal: 597ms\tremaining: 8.18s\n",
            "68:\tlearn: 0.3520867\ttotal: 604ms\tremaining: 8.15s\n",
            "69:\tlearn: 0.3513378\ttotal: 615ms\tremaining: 8.17s\n",
            "70:\tlearn: 0.3505422\ttotal: 622ms\tremaining: 8.14s\n",
            "71:\tlearn: 0.3499785\ttotal: 629ms\tremaining: 8.1s\n",
            "72:\tlearn: 0.3492777\ttotal: 636ms\tremaining: 8.08s\n",
            "73:\tlearn: 0.3488206\ttotal: 644ms\tremaining: 8.06s\n",
            "74:\tlearn: 0.3483687\ttotal: 651ms\tremaining: 8.02s\n",
            "75:\tlearn: 0.3478122\ttotal: 659ms\tremaining: 8.01s\n",
            "76:\tlearn: 0.3473561\ttotal: 666ms\tremaining: 7.98s\n",
            "77:\tlearn: 0.3468142\ttotal: 672ms\tremaining: 7.95s\n",
            "78:\tlearn: 0.3459548\ttotal: 680ms\tremaining: 7.93s\n",
            "79:\tlearn: 0.3453936\ttotal: 687ms\tremaining: 7.9s\n",
            "80:\tlearn: 0.3449698\ttotal: 696ms\tremaining: 7.89s\n",
            "81:\tlearn: 0.3445044\ttotal: 703ms\tremaining: 7.87s\n",
            "82:\tlearn: 0.3441001\ttotal: 710ms\tremaining: 7.85s\n",
            "83:\tlearn: 0.3436689\ttotal: 717ms\tremaining: 7.82s\n",
            "84:\tlearn: 0.3432039\ttotal: 725ms\tremaining: 7.8s\n",
            "85:\tlearn: 0.3430316\ttotal: 729ms\tremaining: 7.75s\n",
            "86:\tlearn: 0.3425418\ttotal: 736ms\tremaining: 7.72s\n",
            "87:\tlearn: 0.3421983\ttotal: 743ms\tremaining: 7.7s\n",
            "88:\tlearn: 0.3419412\ttotal: 749ms\tremaining: 7.67s\n",
            "89:\tlearn: 0.3415811\ttotal: 758ms\tremaining: 7.67s\n",
            "90:\tlearn: 0.3412442\ttotal: 768ms\tremaining: 7.67s\n",
            "91:\tlearn: 0.3410308\ttotal: 775ms\tremaining: 7.65s\n",
            "92:\tlearn: 0.3406650\ttotal: 783ms\tremaining: 7.63s\n",
            "93:\tlearn: 0.3405796\ttotal: 787ms\tremaining: 7.58s\n",
            "94:\tlearn: 0.3404973\ttotal: 791ms\tremaining: 7.53s\n",
            "95:\tlearn: 0.3401732\ttotal: 799ms\tremaining: 7.52s\n",
            "96:\tlearn: 0.3395916\ttotal: 806ms\tremaining: 7.5s\n",
            "97:\tlearn: 0.3395169\ttotal: 810ms\tremaining: 7.45s\n",
            "98:\tlearn: 0.3391725\ttotal: 822ms\tremaining: 7.48s\n",
            "99:\tlearn: 0.3384386\ttotal: 830ms\tremaining: 7.47s\n",
            "100:\tlearn: 0.3379938\ttotal: 838ms\tremaining: 7.46s\n",
            "101:\tlearn: 0.3374905\ttotal: 846ms\tremaining: 7.45s\n",
            "102:\tlearn: 0.3370070\ttotal: 854ms\tremaining: 7.44s\n",
            "103:\tlearn: 0.3369106\ttotal: 860ms\tremaining: 7.41s\n",
            "104:\tlearn: 0.3366127\ttotal: 867ms\tremaining: 7.39s\n",
            "105:\tlearn: 0.3362304\ttotal: 874ms\tremaining: 7.37s\n",
            "106:\tlearn: 0.3360387\ttotal: 882ms\tremaining: 7.36s\n",
            "107:\tlearn: 0.3357860\ttotal: 889ms\tremaining: 7.34s\n",
            "108:\tlearn: 0.3355551\ttotal: 896ms\tremaining: 7.33s\n",
            "109:\tlearn: 0.3350879\ttotal: 904ms\tremaining: 7.31s\n",
            "110:\tlearn: 0.3348386\ttotal: 910ms\tremaining: 7.29s\n",
            "111:\tlearn: 0.3344518\ttotal: 918ms\tremaining: 7.27s\n",
            "112:\tlearn: 0.3340771\ttotal: 925ms\tremaining: 7.26s\n",
            "113:\tlearn: 0.3338553\ttotal: 932ms\tremaining: 7.24s\n",
            "114:\tlearn: 0.3337043\ttotal: 939ms\tremaining: 7.22s\n",
            "115:\tlearn: 0.3332356\ttotal: 947ms\tremaining: 7.22s\n",
            "116:\tlearn: 0.3330661\ttotal: 954ms\tremaining: 7.2s\n",
            "117:\tlearn: 0.3328664\ttotal: 961ms\tremaining: 7.18s\n",
            "118:\tlearn: 0.3324935\ttotal: 968ms\tremaining: 7.17s\n",
            "119:\tlearn: 0.3324260\ttotal: 972ms\tremaining: 7.13s\n",
            "120:\tlearn: 0.3323929\ttotal: 979ms\tremaining: 7.11s\n",
            "121:\tlearn: 0.3321461\ttotal: 987ms\tremaining: 7.1s\n",
            "122:\tlearn: 0.3318981\ttotal: 994ms\tremaining: 7.09s\n",
            "123:\tlearn: 0.3315345\ttotal: 1s\tremaining: 7.07s\n",
            "124:\tlearn: 0.3313860\ttotal: 1.01s\tremaining: 7.06s\n",
            "125:\tlearn: 0.3312450\ttotal: 1.01s\tremaining: 7.04s\n",
            "126:\tlearn: 0.3307971\ttotal: 1.03s\tremaining: 7.05s\n",
            "127:\tlearn: 0.3307581\ttotal: 1.03s\tremaining: 7.02s\n",
            "128:\tlearn: 0.3307309\ttotal: 1.03s\tremaining: 6.99s\n",
            "129:\tlearn: 0.3306063\ttotal: 1.04s\tremaining: 6.97s\n",
            "130:\tlearn: 0.3303449\ttotal: 1.05s\tremaining: 6.96s\n",
            "131:\tlearn: 0.3301827\ttotal: 1.05s\tremaining: 6.94s\n",
            "132:\tlearn: 0.3299343\ttotal: 1.06s\tremaining: 6.93s\n",
            "133:\tlearn: 0.3296427\ttotal: 1.07s\tremaining: 6.91s\n",
            "134:\tlearn: 0.3295566\ttotal: 1.08s\tremaining: 6.9s\n",
            "135:\tlearn: 0.3294446\ttotal: 1.08s\tremaining: 6.88s\n",
            "136:\tlearn: 0.3292894\ttotal: 1.09s\tremaining: 6.86s\n",
            "137:\tlearn: 0.3290217\ttotal: 1.1s\tremaining: 6.85s\n",
            "138:\tlearn: 0.3287240\ttotal: 1.1s\tremaining: 6.84s\n",
            "139:\tlearn: 0.3284043\ttotal: 1.11s\tremaining: 6.83s\n",
            "140:\tlearn: 0.3282208\ttotal: 1.12s\tremaining: 6.82s\n",
            "141:\tlearn: 0.3280911\ttotal: 1.13s\tremaining: 6.8s\n",
            "142:\tlearn: 0.3279602\ttotal: 1.13s\tremaining: 6.79s\n",
            "143:\tlearn: 0.3278279\ttotal: 1.14s\tremaining: 6.77s\n",
            "144:\tlearn: 0.3277660\ttotal: 1.15s\tremaining: 6.75s\n",
            "145:\tlearn: 0.3275286\ttotal: 1.15s\tremaining: 6.74s\n",
            "146:\tlearn: 0.3272977\ttotal: 1.16s\tremaining: 6.73s\n",
            "147:\tlearn: 0.3270044\ttotal: 1.17s\tremaining: 6.71s\n",
            "148:\tlearn: 0.3267845\ttotal: 1.17s\tremaining: 6.7s\n",
            "149:\tlearn: 0.3266396\ttotal: 1.18s\tremaining: 6.69s\n",
            "150:\tlearn: 0.3265092\ttotal: 1.19s\tremaining: 6.68s\n",
            "151:\tlearn: 0.3264573\ttotal: 1.19s\tremaining: 6.66s\n",
            "152:\tlearn: 0.3261868\ttotal: 1.2s\tremaining: 6.64s\n",
            "153:\tlearn: 0.3261596\ttotal: 1.2s\tremaining: 6.62s\n",
            "154:\tlearn: 0.3259010\ttotal: 1.21s\tremaining: 6.61s\n",
            "155:\tlearn: 0.3255790\ttotal: 1.22s\tremaining: 6.62s\n",
            "156:\tlearn: 0.3253469\ttotal: 1.23s\tremaining: 6.62s\n",
            "157:\tlearn: 0.3252739\ttotal: 1.24s\tremaining: 6.6s\n",
            "158:\tlearn: 0.3250676\ttotal: 1.25s\tremaining: 6.59s\n",
            "159:\tlearn: 0.3249521\ttotal: 1.25s\tremaining: 6.58s\n",
            "160:\tlearn: 0.3247867\ttotal: 1.26s\tremaining: 6.56s\n",
            "161:\tlearn: 0.3246313\ttotal: 1.27s\tremaining: 6.55s\n",
            "162:\tlearn: 0.3244132\ttotal: 1.27s\tremaining: 6.54s\n",
            "163:\tlearn: 0.3241059\ttotal: 1.28s\tremaining: 6.53s\n",
            "164:\tlearn: 0.3238807\ttotal: 1.29s\tremaining: 6.52s\n",
            "165:\tlearn: 0.3237559\ttotal: 1.3s\tremaining: 6.51s\n",
            "166:\tlearn: 0.3235260\ttotal: 1.3s\tremaining: 6.51s\n",
            "167:\tlearn: 0.3233318\ttotal: 1.31s\tremaining: 6.49s\n",
            "168:\tlearn: 0.3233109\ttotal: 1.31s\tremaining: 6.47s\n",
            "169:\tlearn: 0.3230408\ttotal: 1.32s\tremaining: 6.46s\n",
            "170:\tlearn: 0.3228680\ttotal: 1.33s\tremaining: 6.45s\n",
            "171:\tlearn: 0.3227190\ttotal: 1.34s\tremaining: 6.43s\n",
            "172:\tlearn: 0.3224622\ttotal: 1.34s\tremaining: 6.42s\n",
            "173:\tlearn: 0.3221680\ttotal: 1.35s\tremaining: 6.41s\n",
            "174:\tlearn: 0.3220415\ttotal: 1.36s\tremaining: 6.4s\n",
            "175:\tlearn: 0.3219488\ttotal: 1.36s\tremaining: 6.39s\n",
            "176:\tlearn: 0.3217334\ttotal: 1.37s\tremaining: 6.38s\n",
            "177:\tlearn: 0.3214829\ttotal: 1.38s\tremaining: 6.37s\n",
            "178:\tlearn: 0.3213170\ttotal: 1.39s\tremaining: 6.36s\n",
            "179:\tlearn: 0.3212267\ttotal: 1.39s\tremaining: 6.35s\n",
            "180:\tlearn: 0.3210615\ttotal: 1.4s\tremaining: 6.34s\n",
            "181:\tlearn: 0.3209337\ttotal: 1.41s\tremaining: 6.33s\n",
            "182:\tlearn: 0.3207442\ttotal: 1.42s\tremaining: 6.32s\n",
            "183:\tlearn: 0.3206670\ttotal: 1.42s\tremaining: 6.31s\n",
            "184:\tlearn: 0.3204878\ttotal: 1.43s\tremaining: 6.3s\n",
            "185:\tlearn: 0.3203939\ttotal: 1.44s\tremaining: 6.31s\n",
            "186:\tlearn: 0.3201916\ttotal: 1.45s\tremaining: 6.29s\n",
            "187:\tlearn: 0.3200153\ttotal: 1.46s\tremaining: 6.29s\n",
            "188:\tlearn: 0.3199400\ttotal: 1.47s\tremaining: 6.29s\n",
            "189:\tlearn: 0.3198491\ttotal: 1.47s\tremaining: 6.28s\n",
            "190:\tlearn: 0.3196714\ttotal: 1.48s\tremaining: 6.26s\n",
            "191:\tlearn: 0.3195522\ttotal: 1.49s\tremaining: 6.26s\n",
            "192:\tlearn: 0.3194490\ttotal: 1.49s\tremaining: 6.25s\n",
            "193:\tlearn: 0.3192391\ttotal: 1.5s\tremaining: 6.24s\n",
            "194:\tlearn: 0.3190298\ttotal: 1.51s\tremaining: 6.24s\n",
            "195:\tlearn: 0.3188065\ttotal: 1.52s\tremaining: 6.24s\n",
            "196:\tlearn: 0.3187814\ttotal: 1.53s\tremaining: 6.22s\n",
            "197:\tlearn: 0.3186174\ttotal: 1.53s\tremaining: 6.21s\n",
            "198:\tlearn: 0.3185237\ttotal: 1.54s\tremaining: 6.2s\n",
            "199:\tlearn: 0.3184043\ttotal: 1.55s\tremaining: 6.19s\n",
            "200:\tlearn: 0.3182525\ttotal: 1.55s\tremaining: 6.18s\n",
            "201:\tlearn: 0.3180962\ttotal: 1.56s\tremaining: 6.17s\n",
            "202:\tlearn: 0.3179823\ttotal: 1.57s\tremaining: 6.16s\n",
            "203:\tlearn: 0.3178350\ttotal: 1.58s\tremaining: 6.15s\n",
            "204:\tlearn: 0.3177177\ttotal: 1.58s\tremaining: 6.15s\n",
            "205:\tlearn: 0.3175444\ttotal: 1.59s\tremaining: 6.14s\n",
            "206:\tlearn: 0.3173776\ttotal: 1.6s\tremaining: 6.13s\n",
            "207:\tlearn: 0.3172608\ttotal: 1.61s\tremaining: 6.12s\n",
            "208:\tlearn: 0.3171180\ttotal: 1.61s\tremaining: 6.11s\n",
            "209:\tlearn: 0.3169193\ttotal: 1.62s\tremaining: 6.1s\n",
            "210:\tlearn: 0.3168069\ttotal: 1.63s\tremaining: 6.09s\n",
            "211:\tlearn: 0.3166950\ttotal: 1.64s\tremaining: 6.08s\n",
            "212:\tlearn: 0.3165405\ttotal: 1.65s\tremaining: 6.08s\n",
            "213:\tlearn: 0.3165162\ttotal: 1.65s\tremaining: 6.06s\n",
            "214:\tlearn: 0.3164881\ttotal: 1.66s\tremaining: 6.05s\n",
            "215:\tlearn: 0.3164648\ttotal: 1.67s\tremaining: 6.04s\n",
            "216:\tlearn: 0.3163549\ttotal: 1.68s\tremaining: 6.05s\n",
            "217:\tlearn: 0.3162297\ttotal: 1.68s\tremaining: 6.04s\n",
            "218:\tlearn: 0.3161418\ttotal: 1.69s\tremaining: 6.03s\n",
            "219:\tlearn: 0.3159064\ttotal: 1.7s\tremaining: 6.02s\n",
            "220:\tlearn: 0.3158777\ttotal: 1.7s\tremaining: 6s\n",
            "221:\tlearn: 0.3157351\ttotal: 1.71s\tremaining: 5.99s\n",
            "222:\tlearn: 0.3157347\ttotal: 1.71s\tremaining: 5.97s\n",
            "223:\tlearn: 0.3156372\ttotal: 1.72s\tremaining: 5.96s\n",
            "224:\tlearn: 0.3155719\ttotal: 1.73s\tremaining: 5.95s\n",
            "225:\tlearn: 0.3154442\ttotal: 1.74s\tremaining: 5.94s\n",
            "226:\tlearn: 0.3153158\ttotal: 1.74s\tremaining: 5.94s\n",
            "227:\tlearn: 0.3151503\ttotal: 1.75s\tremaining: 5.93s\n",
            "228:\tlearn: 0.3151496\ttotal: 1.75s\tremaining: 5.91s\n",
            "229:\tlearn: 0.3150112\ttotal: 1.76s\tremaining: 5.9s\n",
            "230:\tlearn: 0.3148225\ttotal: 1.77s\tremaining: 5.89s\n",
            "231:\tlearn: 0.3147392\ttotal: 1.78s\tremaining: 5.88s\n",
            "232:\tlearn: 0.3146222\ttotal: 1.78s\tremaining: 5.87s\n",
            "233:\tlearn: 0.3145301\ttotal: 1.79s\tremaining: 5.86s\n",
            "234:\tlearn: 0.3144300\ttotal: 1.8s\tremaining: 5.85s\n",
            "235:\tlearn: 0.3143362\ttotal: 1.8s\tremaining: 5.84s\n",
            "236:\tlearn: 0.3142032\ttotal: 1.81s\tremaining: 5.83s\n",
            "237:\tlearn: 0.3141657\ttotal: 1.82s\tremaining: 5.82s\n",
            "238:\tlearn: 0.3141279\ttotal: 1.82s\tremaining: 5.81s\n",
            "239:\tlearn: 0.3140307\ttotal: 1.83s\tremaining: 5.79s\n",
            "240:\tlearn: 0.3139400\ttotal: 1.84s\tremaining: 5.79s\n",
            "241:\tlearn: 0.3138540\ttotal: 1.84s\tremaining: 5.77s\n",
            "242:\tlearn: 0.3137679\ttotal: 1.85s\tremaining: 5.77s\n",
            "243:\tlearn: 0.3136165\ttotal: 1.86s\tremaining: 5.76s\n",
            "244:\tlearn: 0.3133953\ttotal: 1.87s\tremaining: 5.75s\n",
            "245:\tlearn: 0.3132489\ttotal: 1.88s\tremaining: 5.75s\n",
            "246:\tlearn: 0.3131592\ttotal: 1.88s\tremaining: 5.74s\n",
            "247:\tlearn: 0.3130376\ttotal: 1.89s\tremaining: 5.73s\n",
            "248:\tlearn: 0.3130055\ttotal: 1.9s\tremaining: 5.73s\n",
            "249:\tlearn: 0.3129175\ttotal: 1.91s\tremaining: 5.72s\n",
            "250:\tlearn: 0.3128652\ttotal: 1.92s\tremaining: 5.72s\n",
            "251:\tlearn: 0.3128652\ttotal: 1.92s\tremaining: 5.7s\n",
            "252:\tlearn: 0.3127453\ttotal: 1.93s\tremaining: 5.69s\n",
            "253:\tlearn: 0.3125649\ttotal: 1.93s\tremaining: 5.68s\n",
            "254:\tlearn: 0.3125119\ttotal: 1.94s\tremaining: 5.67s\n",
            "255:\tlearn: 0.3123595\ttotal: 1.95s\tremaining: 5.66s\n",
            "256:\tlearn: 0.3123218\ttotal: 1.95s\tremaining: 5.65s\n",
            "257:\tlearn: 0.3121602\ttotal: 1.96s\tremaining: 5.64s\n",
            "258:\tlearn: 0.3121372\ttotal: 1.97s\tremaining: 5.63s\n",
            "259:\tlearn: 0.3121369\ttotal: 1.97s\tremaining: 5.61s\n",
            "260:\tlearn: 0.3119698\ttotal: 1.98s\tremaining: 5.6s\n",
            "261:\tlearn: 0.3118191\ttotal: 1.98s\tremaining: 5.59s\n",
            "262:\tlearn: 0.3116562\ttotal: 1.99s\tremaining: 5.58s\n",
            "263:\tlearn: 0.3115941\ttotal: 2s\tremaining: 5.57s\n",
            "264:\tlearn: 0.3115180\ttotal: 2s\tremaining: 5.56s\n",
            "265:\tlearn: 0.3114361\ttotal: 2.01s\tremaining: 5.55s\n",
            "266:\tlearn: 0.3114150\ttotal: 2.02s\tremaining: 5.54s\n",
            "267:\tlearn: 0.3113142\ttotal: 2.02s\tremaining: 5.53s\n",
            "268:\tlearn: 0.3112598\ttotal: 2.03s\tremaining: 5.52s\n",
            "269:\tlearn: 0.3111770\ttotal: 2.04s\tremaining: 5.51s\n",
            "270:\tlearn: 0.3110874\ttotal: 2.05s\tremaining: 5.5s\n",
            "271:\tlearn: 0.3110858\ttotal: 2.05s\tremaining: 5.49s\n",
            "272:\tlearn: 0.3108480\ttotal: 2.06s\tremaining: 5.5s\n",
            "273:\tlearn: 0.3107942\ttotal: 2.07s\tremaining: 5.49s\n",
            "274:\tlearn: 0.3107611\ttotal: 2.08s\tremaining: 5.48s\n",
            "275:\tlearn: 0.3106282\ttotal: 2.08s\tremaining: 5.47s\n",
            "276:\tlearn: 0.3106151\ttotal: 2.09s\tremaining: 5.45s\n",
            "277:\tlearn: 0.3106127\ttotal: 2.09s\tremaining: 5.44s\n",
            "278:\tlearn: 0.3105942\ttotal: 2.1s\tremaining: 5.42s\n",
            "279:\tlearn: 0.3104527\ttotal: 2.1s\tremaining: 5.41s\n",
            "280:\tlearn: 0.3102502\ttotal: 2.11s\tremaining: 5.41s\n",
            "281:\tlearn: 0.3101509\ttotal: 2.12s\tremaining: 5.4s\n",
            "282:\tlearn: 0.3101459\ttotal: 2.12s\tremaining: 5.38s\n",
            "283:\tlearn: 0.3100520\ttotal: 2.13s\tremaining: 5.37s\n",
            "284:\tlearn: 0.3098381\ttotal: 2.14s\tremaining: 5.36s\n",
            "285:\tlearn: 0.3097008\ttotal: 2.14s\tremaining: 5.35s\n",
            "286:\tlearn: 0.3095895\ttotal: 2.15s\tremaining: 5.34s\n",
            "287:\tlearn: 0.3094330\ttotal: 2.16s\tremaining: 5.33s\n",
            "288:\tlearn: 0.3094315\ttotal: 2.17s\tremaining: 5.33s\n",
            "289:\tlearn: 0.3094201\ttotal: 2.17s\tremaining: 5.32s\n",
            "290:\tlearn: 0.3092803\ttotal: 2.18s\tremaining: 5.32s\n",
            "291:\tlearn: 0.3091082\ttotal: 2.19s\tremaining: 5.31s\n",
            "292:\tlearn: 0.3089958\ttotal: 2.2s\tremaining: 5.3s\n",
            "293:\tlearn: 0.3088553\ttotal: 2.2s\tremaining: 5.29s\n",
            "294:\tlearn: 0.3088403\ttotal: 2.21s\tremaining: 5.28s\n",
            "295:\tlearn: 0.3087973\ttotal: 2.22s\tremaining: 5.27s\n",
            "296:\tlearn: 0.3086700\ttotal: 2.22s\tremaining: 5.26s\n",
            "297:\tlearn: 0.3085976\ttotal: 2.23s\tremaining: 5.26s\n",
            "298:\tlearn: 0.3084900\ttotal: 2.24s\tremaining: 5.25s\n",
            "299:\tlearn: 0.3083953\ttotal: 2.25s\tremaining: 5.24s\n",
            "300:\tlearn: 0.3083675\ttotal: 2.25s\tremaining: 5.23s\n",
            "301:\tlearn: 0.3083282\ttotal: 2.26s\tremaining: 5.22s\n",
            "302:\tlearn: 0.3082910\ttotal: 2.27s\tremaining: 5.22s\n",
            "303:\tlearn: 0.3082163\ttotal: 2.28s\tremaining: 5.22s\n",
            "304:\tlearn: 0.3080926\ttotal: 2.29s\tremaining: 5.21s\n",
            "305:\tlearn: 0.3080020\ttotal: 2.29s\tremaining: 5.2s\n",
            "306:\tlearn: 0.3079246\ttotal: 2.3s\tremaining: 5.19s\n",
            "307:\tlearn: 0.3077913\ttotal: 2.31s\tremaining: 5.18s\n",
            "308:\tlearn: 0.3077912\ttotal: 2.31s\tremaining: 5.17s\n",
            "309:\tlearn: 0.3076406\ttotal: 2.32s\tremaining: 5.16s\n",
            "310:\tlearn: 0.3075302\ttotal: 2.33s\tremaining: 5.15s\n",
            "311:\tlearn: 0.3074289\ttotal: 2.33s\tremaining: 5.14s\n",
            "312:\tlearn: 0.3074116\ttotal: 2.34s\tremaining: 5.13s\n",
            "313:\tlearn: 0.3072758\ttotal: 2.34s\tremaining: 5.12s\n",
            "314:\tlearn: 0.3072756\ttotal: 2.35s\tremaining: 5.11s\n",
            "315:\tlearn: 0.3072746\ttotal: 2.35s\tremaining: 5.09s\n",
            "316:\tlearn: 0.3071610\ttotal: 2.36s\tremaining: 5.08s\n",
            "317:\tlearn: 0.3071232\ttotal: 2.37s\tremaining: 5.07s\n",
            "318:\tlearn: 0.3070343\ttotal: 2.37s\tremaining: 5.06s\n",
            "319:\tlearn: 0.3070017\ttotal: 2.38s\tremaining: 5.05s\n",
            "320:\tlearn: 0.3069607\ttotal: 2.38s\tremaining: 5.04s\n",
            "321:\tlearn: 0.3068695\ttotal: 2.39s\tremaining: 5.04s\n",
            "322:\tlearn: 0.3067230\ttotal: 2.4s\tremaining: 5.03s\n",
            "323:\tlearn: 0.3066343\ttotal: 2.41s\tremaining: 5.02s\n",
            "324:\tlearn: 0.3065234\ttotal: 2.41s\tremaining: 5.01s\n",
            "325:\tlearn: 0.3064703\ttotal: 2.42s\tremaining: 5s\n",
            "326:\tlearn: 0.3064009\ttotal: 2.43s\tremaining: 5s\n",
            "327:\tlearn: 0.3063235\ttotal: 2.43s\tremaining: 4.99s\n",
            "328:\tlearn: 0.3062003\ttotal: 2.44s\tremaining: 4.98s\n",
            "329:\tlearn: 0.3060760\ttotal: 2.45s\tremaining: 4.97s\n",
            "330:\tlearn: 0.3059362\ttotal: 2.46s\tremaining: 4.96s\n",
            "331:\tlearn: 0.3059193\ttotal: 2.46s\tremaining: 4.95s\n",
            "332:\tlearn: 0.3058495\ttotal: 2.47s\tremaining: 4.94s\n",
            "333:\tlearn: 0.3058038\ttotal: 2.48s\tremaining: 4.94s\n",
            "334:\tlearn: 0.3057277\ttotal: 2.48s\tremaining: 4.93s\n",
            "335:\tlearn: 0.3055990\ttotal: 2.49s\tremaining: 4.92s\n",
            "336:\tlearn: 0.3055851\ttotal: 2.5s\tremaining: 4.91s\n",
            "337:\tlearn: 0.3054421\ttotal: 2.51s\tremaining: 4.92s\n",
            "338:\tlearn: 0.3053080\ttotal: 2.52s\tremaining: 4.91s\n",
            "339:\tlearn: 0.3051444\ttotal: 2.52s\tremaining: 4.9s\n",
            "340:\tlearn: 0.3050841\ttotal: 2.53s\tremaining: 4.89s\n",
            "341:\tlearn: 0.3050649\ttotal: 2.54s\tremaining: 4.88s\n",
            "342:\tlearn: 0.3049064\ttotal: 2.55s\tremaining: 4.88s\n",
            "343:\tlearn: 0.3047844\ttotal: 2.56s\tremaining: 4.88s\n",
            "344:\tlearn: 0.3046184\ttotal: 2.57s\tremaining: 4.87s\n",
            "345:\tlearn: 0.3045315\ttotal: 2.57s\tremaining: 4.86s\n",
            "346:\tlearn: 0.3044396\ttotal: 2.58s\tremaining: 4.85s\n",
            "347:\tlearn: 0.3042627\ttotal: 2.59s\tremaining: 4.85s\n",
            "348:\tlearn: 0.3042299\ttotal: 2.59s\tremaining: 4.84s\n",
            "349:\tlearn: 0.3041815\ttotal: 2.6s\tremaining: 4.83s\n",
            "350:\tlearn: 0.3041481\ttotal: 2.61s\tremaining: 4.82s\n",
            "351:\tlearn: 0.3040162\ttotal: 2.62s\tremaining: 4.82s\n",
            "352:\tlearn: 0.3039063\ttotal: 2.62s\tremaining: 4.8s\n",
            "353:\tlearn: 0.3038098\ttotal: 2.63s\tremaining: 4.8s\n",
            "354:\tlearn: 0.3037238\ttotal: 2.63s\tremaining: 4.79s\n",
            "355:\tlearn: 0.3036663\ttotal: 2.64s\tremaining: 4.78s\n",
            "356:\tlearn: 0.3035671\ttotal: 2.65s\tremaining: 4.77s\n",
            "357:\tlearn: 0.3035033\ttotal: 2.65s\tremaining: 4.76s\n",
            "358:\tlearn: 0.3034059\ttotal: 2.66s\tremaining: 4.75s\n",
            "359:\tlearn: 0.3033534\ttotal: 2.67s\tremaining: 4.75s\n",
            "360:\tlearn: 0.3032792\ttotal: 2.68s\tremaining: 4.74s\n",
            "361:\tlearn: 0.3031784\ttotal: 2.69s\tremaining: 4.74s\n",
            "362:\tlearn: 0.3030446\ttotal: 2.69s\tremaining: 4.73s\n",
            "363:\tlearn: 0.3030444\ttotal: 2.7s\tremaining: 4.72s\n",
            "364:\tlearn: 0.3029068\ttotal: 2.71s\tremaining: 4.71s\n",
            "365:\tlearn: 0.3027059\ttotal: 2.71s\tremaining: 4.7s\n",
            "366:\tlearn: 0.3025199\ttotal: 2.72s\tremaining: 4.69s\n",
            "367:\tlearn: 0.3023931\ttotal: 2.73s\tremaining: 4.69s\n",
            "368:\tlearn: 0.3022529\ttotal: 2.74s\tremaining: 4.68s\n",
            "369:\tlearn: 0.3021330\ttotal: 2.74s\tremaining: 4.67s\n",
            "370:\tlearn: 0.3020876\ttotal: 2.75s\tremaining: 4.67s\n",
            "371:\tlearn: 0.3019891\ttotal: 2.76s\tremaining: 4.66s\n",
            "372:\tlearn: 0.3018125\ttotal: 2.77s\tremaining: 4.65s\n",
            "373:\tlearn: 0.3017676\ttotal: 2.77s\tremaining: 4.64s\n",
            "374:\tlearn: 0.3017464\ttotal: 2.78s\tremaining: 4.63s\n",
            "375:\tlearn: 0.3016998\ttotal: 2.79s\tremaining: 4.62s\n",
            "376:\tlearn: 0.3015837\ttotal: 2.79s\tremaining: 4.62s\n",
            "377:\tlearn: 0.3014643\ttotal: 2.8s\tremaining: 4.61s\n",
            "378:\tlearn: 0.3013852\ttotal: 2.81s\tremaining: 4.6s\n",
            "379:\tlearn: 0.3012646\ttotal: 2.81s\tremaining: 4.59s\n",
            "380:\tlearn: 0.3012201\ttotal: 2.82s\tremaining: 4.58s\n",
            "381:\tlearn: 0.3011514\ttotal: 2.83s\tremaining: 4.58s\n",
            "382:\tlearn: 0.3011499\ttotal: 2.83s\tremaining: 4.56s\n",
            "383:\tlearn: 0.3010464\ttotal: 2.84s\tremaining: 4.55s\n",
            "384:\tlearn: 0.3009645\ttotal: 2.85s\tremaining: 4.55s\n",
            "385:\tlearn: 0.3008343\ttotal: 2.85s\tremaining: 4.54s\n",
            "386:\tlearn: 0.3008149\ttotal: 2.86s\tremaining: 4.53s\n",
            "387:\tlearn: 0.3007521\ttotal: 2.87s\tremaining: 4.52s\n",
            "388:\tlearn: 0.3007234\ttotal: 2.87s\tremaining: 4.51s\n",
            "389:\tlearn: 0.3006338\ttotal: 2.88s\tremaining: 4.51s\n",
            "390:\tlearn: 0.3005791\ttotal: 2.89s\tremaining: 4.51s\n",
            "391:\tlearn: 0.3004676\ttotal: 2.9s\tremaining: 4.5s\n",
            "392:\tlearn: 0.3003813\ttotal: 2.91s\tremaining: 4.49s\n",
            "393:\tlearn: 0.3003345\ttotal: 2.92s\tremaining: 4.49s\n",
            "394:\tlearn: 0.3002480\ttotal: 2.93s\tremaining: 4.48s\n",
            "395:\tlearn: 0.3001128\ttotal: 2.93s\tremaining: 4.48s\n",
            "396:\tlearn: 0.3000609\ttotal: 2.94s\tremaining: 4.47s\n",
            "397:\tlearn: 0.3000390\ttotal: 2.95s\tremaining: 4.46s\n",
            "398:\tlearn: 0.2999779\ttotal: 2.95s\tremaining: 4.45s\n",
            "399:\tlearn: 0.2997890\ttotal: 2.96s\tremaining: 4.44s\n",
            "400:\tlearn: 0.2997398\ttotal: 2.97s\tremaining: 4.43s\n",
            "401:\tlearn: 0.2996247\ttotal: 2.97s\tremaining: 4.42s\n",
            "402:\tlearn: 0.2995815\ttotal: 2.98s\tremaining: 4.42s\n",
            "403:\tlearn: 0.2994737\ttotal: 2.99s\tremaining: 4.41s\n",
            "404:\tlearn: 0.2993839\ttotal: 3s\tremaining: 4.4s\n",
            "405:\tlearn: 0.2992777\ttotal: 3s\tremaining: 4.39s\n",
            "406:\tlearn: 0.2992668\ttotal: 3.01s\tremaining: 4.38s\n",
            "407:\tlearn: 0.2992146\ttotal: 3.02s\tremaining: 4.38s\n",
            "408:\tlearn: 0.2991393\ttotal: 3.02s\tremaining: 4.37s\n",
            "409:\tlearn: 0.2990279\ttotal: 3.03s\tremaining: 4.36s\n",
            "410:\tlearn: 0.2988955\ttotal: 3.04s\tremaining: 4.35s\n",
            "411:\tlearn: 0.2988059\ttotal: 3.04s\tremaining: 4.35s\n",
            "412:\tlearn: 0.2988057\ttotal: 3.05s\tremaining: 4.33s\n",
            "413:\tlearn: 0.2987446\ttotal: 3.06s\tremaining: 4.33s\n",
            "414:\tlearn: 0.2986477\ttotal: 3.06s\tremaining: 4.32s\n",
            "415:\tlearn: 0.2985219\ttotal: 3.07s\tremaining: 4.31s\n",
            "416:\tlearn: 0.2984545\ttotal: 3.08s\tremaining: 4.3s\n",
            "417:\tlearn: 0.2983648\ttotal: 3.09s\tremaining: 4.3s\n",
            "418:\tlearn: 0.2982526\ttotal: 3.1s\tremaining: 4.3s\n",
            "419:\tlearn: 0.2981522\ttotal: 3.1s\tremaining: 4.29s\n",
            "420:\tlearn: 0.2980263\ttotal: 3.11s\tremaining: 4.28s\n",
            "421:\tlearn: 0.2979380\ttotal: 3.12s\tremaining: 4.27s\n",
            "422:\tlearn: 0.2978605\ttotal: 3.13s\tremaining: 4.26s\n",
            "423:\tlearn: 0.2978054\ttotal: 3.13s\tremaining: 4.25s\n",
            "424:\tlearn: 0.2977004\ttotal: 3.14s\tremaining: 4.25s\n",
            "425:\tlearn: 0.2975989\ttotal: 3.15s\tremaining: 4.24s\n",
            "426:\tlearn: 0.2974804\ttotal: 3.15s\tremaining: 4.23s\n",
            "427:\tlearn: 0.2974163\ttotal: 3.16s\tremaining: 4.23s\n",
            "428:\tlearn: 0.2973337\ttotal: 3.17s\tremaining: 4.22s\n",
            "429:\tlearn: 0.2973051\ttotal: 3.17s\tremaining: 4.21s\n",
            "430:\tlearn: 0.2971273\ttotal: 3.18s\tremaining: 4.2s\n",
            "431:\tlearn: 0.2970148\ttotal: 3.19s\tremaining: 4.19s\n",
            "432:\tlearn: 0.2969649\ttotal: 3.19s\tremaining: 4.18s\n",
            "433:\tlearn: 0.2968168\ttotal: 3.2s\tremaining: 4.18s\n",
            "434:\tlearn: 0.2967295\ttotal: 3.21s\tremaining: 4.17s\n",
            "435:\tlearn: 0.2966835\ttotal: 3.22s\tremaining: 4.16s\n",
            "436:\tlearn: 0.2965605\ttotal: 3.22s\tremaining: 4.15s\n",
            "437:\tlearn: 0.2964093\ttotal: 3.23s\tremaining: 4.15s\n",
            "438:\tlearn: 0.2963627\ttotal: 3.24s\tremaining: 4.14s\n",
            "439:\tlearn: 0.2962869\ttotal: 3.25s\tremaining: 4.13s\n",
            "440:\tlearn: 0.2961654\ttotal: 3.25s\tremaining: 4.12s\n",
            "441:\tlearn: 0.2960921\ttotal: 3.26s\tremaining: 4.12s\n",
            "442:\tlearn: 0.2959898\ttotal: 3.27s\tremaining: 4.11s\n",
            "443:\tlearn: 0.2958622\ttotal: 3.27s\tremaining: 4.1s\n",
            "444:\tlearn: 0.2957085\ttotal: 3.28s\tremaining: 4.09s\n",
            "445:\tlearn: 0.2956091\ttotal: 3.29s\tremaining: 4.09s\n",
            "446:\tlearn: 0.2955668\ttotal: 3.3s\tremaining: 4.08s\n",
            "447:\tlearn: 0.2954254\ttotal: 3.31s\tremaining: 4.07s\n",
            "448:\tlearn: 0.2953659\ttotal: 3.31s\tremaining: 4.06s\n",
            "449:\tlearn: 0.2952447\ttotal: 3.32s\tremaining: 4.06s\n",
            "450:\tlearn: 0.2950589\ttotal: 3.33s\tremaining: 4.05s\n",
            "451:\tlearn: 0.2949503\ttotal: 3.33s\tremaining: 4.04s\n",
            "452:\tlearn: 0.2948914\ttotal: 3.34s\tremaining: 4.04s\n",
            "453:\tlearn: 0.2947733\ttotal: 3.35s\tremaining: 4.03s\n",
            "454:\tlearn: 0.2946418\ttotal: 3.36s\tremaining: 4.02s\n",
            "455:\tlearn: 0.2945328\ttotal: 3.36s\tremaining: 4.01s\n",
            "456:\tlearn: 0.2944219\ttotal: 3.38s\tremaining: 4.01s\n",
            "457:\tlearn: 0.2943252\ttotal: 3.38s\tremaining: 4s\n",
            "458:\tlearn: 0.2942895\ttotal: 3.39s\tremaining: 3.99s\n",
            "459:\tlearn: 0.2942036\ttotal: 3.4s\tremaining: 3.99s\n",
            "460:\tlearn: 0.2940974\ttotal: 3.4s\tremaining: 3.98s\n",
            "461:\tlearn: 0.2939495\ttotal: 3.41s\tremaining: 3.97s\n",
            "462:\tlearn: 0.2938250\ttotal: 3.42s\tremaining: 3.96s\n",
            "463:\tlearn: 0.2937150\ttotal: 3.42s\tremaining: 3.96s\n",
            "464:\tlearn: 0.2936253\ttotal: 3.43s\tremaining: 3.95s\n",
            "465:\tlearn: 0.2934929\ttotal: 3.44s\tremaining: 3.94s\n",
            "466:\tlearn: 0.2933565\ttotal: 3.45s\tremaining: 3.93s\n",
            "467:\tlearn: 0.2932993\ttotal: 3.45s\tremaining: 3.93s\n",
            "468:\tlearn: 0.2932012\ttotal: 3.46s\tremaining: 3.92s\n",
            "469:\tlearn: 0.2931058\ttotal: 3.47s\tremaining: 3.91s\n",
            "470:\tlearn: 0.2930243\ttotal: 3.48s\tremaining: 3.9s\n",
            "471:\tlearn: 0.2928597\ttotal: 3.48s\tremaining: 3.9s\n",
            "472:\tlearn: 0.2928223\ttotal: 3.49s\tremaining: 3.89s\n",
            "473:\tlearn: 0.2927636\ttotal: 3.51s\tremaining: 3.9s\n",
            "474:\tlearn: 0.2926968\ttotal: 3.52s\tremaining: 3.89s\n",
            "475:\tlearn: 0.2925636\ttotal: 3.53s\tremaining: 3.88s\n",
            "476:\tlearn: 0.2925389\ttotal: 3.54s\tremaining: 3.88s\n",
            "477:\tlearn: 0.2924744\ttotal: 3.54s\tremaining: 3.87s\n",
            "478:\tlearn: 0.2923954\ttotal: 3.55s\tremaining: 3.86s\n",
            "479:\tlearn: 0.2923434\ttotal: 3.55s\tremaining: 3.85s\n",
            "480:\tlearn: 0.2923133\ttotal: 3.56s\tremaining: 3.84s\n",
            "481:\tlearn: 0.2922692\ttotal: 3.57s\tremaining: 3.83s\n",
            "482:\tlearn: 0.2922249\ttotal: 3.57s\tremaining: 3.82s\n",
            "483:\tlearn: 0.2921849\ttotal: 3.58s\tremaining: 3.82s\n",
            "484:\tlearn: 0.2921839\ttotal: 3.58s\tremaining: 3.81s\n",
            "485:\tlearn: 0.2921120\ttotal: 3.59s\tremaining: 3.8s\n",
            "486:\tlearn: 0.2919919\ttotal: 3.6s\tremaining: 3.79s\n",
            "487:\tlearn: 0.2918982\ttotal: 3.61s\tremaining: 3.79s\n",
            "488:\tlearn: 0.2917330\ttotal: 3.62s\tremaining: 3.78s\n",
            "489:\tlearn: 0.2916375\ttotal: 3.62s\tremaining: 3.77s\n",
            "490:\tlearn: 0.2915265\ttotal: 3.63s\tremaining: 3.76s\n",
            "491:\tlearn: 0.2914517\ttotal: 3.64s\tremaining: 3.76s\n",
            "492:\tlearn: 0.2913403\ttotal: 3.65s\tremaining: 3.75s\n",
            "493:\tlearn: 0.2911737\ttotal: 3.65s\tremaining: 3.74s\n",
            "494:\tlearn: 0.2910192\ttotal: 3.66s\tremaining: 3.73s\n",
            "495:\tlearn: 0.2909053\ttotal: 3.67s\tremaining: 3.73s\n",
            "496:\tlearn: 0.2908130\ttotal: 3.67s\tremaining: 3.72s\n",
            "497:\tlearn: 0.2907301\ttotal: 3.68s\tremaining: 3.71s\n",
            "498:\tlearn: 0.2905870\ttotal: 3.69s\tremaining: 3.7s\n",
            "499:\tlearn: 0.2904610\ttotal: 3.7s\tremaining: 3.7s\n",
            "500:\tlearn: 0.2903944\ttotal: 3.7s\tremaining: 3.69s\n",
            "501:\tlearn: 0.2902934\ttotal: 3.71s\tremaining: 3.68s\n",
            "502:\tlearn: 0.2902119\ttotal: 3.72s\tremaining: 3.68s\n",
            "503:\tlearn: 0.2900814\ttotal: 3.73s\tremaining: 3.67s\n",
            "504:\tlearn: 0.2899409\ttotal: 3.73s\tremaining: 3.66s\n",
            "505:\tlearn: 0.2899152\ttotal: 3.74s\tremaining: 3.65s\n",
            "506:\tlearn: 0.2897952\ttotal: 3.75s\tremaining: 3.64s\n",
            "507:\tlearn: 0.2897376\ttotal: 3.75s\tremaining: 3.64s\n",
            "508:\tlearn: 0.2896457\ttotal: 3.76s\tremaining: 3.63s\n",
            "509:\tlearn: 0.2896052\ttotal: 3.77s\tremaining: 3.62s\n",
            "510:\tlearn: 0.2894728\ttotal: 3.78s\tremaining: 3.61s\n",
            "511:\tlearn: 0.2893672\ttotal: 3.78s\tremaining: 3.61s\n",
            "512:\tlearn: 0.2892728\ttotal: 3.79s\tremaining: 3.6s\n",
            "513:\tlearn: 0.2891097\ttotal: 3.8s\tremaining: 3.59s\n",
            "514:\tlearn: 0.2890486\ttotal: 3.81s\tremaining: 3.58s\n",
            "515:\tlearn: 0.2889446\ttotal: 3.81s\tremaining: 3.58s\n",
            "516:\tlearn: 0.2888387\ttotal: 3.82s\tremaining: 3.57s\n",
            "517:\tlearn: 0.2887395\ttotal: 3.83s\tremaining: 3.56s\n",
            "518:\tlearn: 0.2886271\ttotal: 3.84s\tremaining: 3.56s\n",
            "519:\tlearn: 0.2885134\ttotal: 3.85s\tremaining: 3.55s\n",
            "520:\tlearn: 0.2884445\ttotal: 3.85s\tremaining: 3.54s\n",
            "521:\tlearn: 0.2883537\ttotal: 3.86s\tremaining: 3.54s\n",
            "522:\tlearn: 0.2883379\ttotal: 3.87s\tremaining: 3.53s\n",
            "523:\tlearn: 0.2882552\ttotal: 3.88s\tremaining: 3.52s\n",
            "524:\tlearn: 0.2881999\ttotal: 3.88s\tremaining: 3.51s\n",
            "525:\tlearn: 0.2881510\ttotal: 3.89s\tremaining: 3.51s\n",
            "526:\tlearn: 0.2880338\ttotal: 3.9s\tremaining: 3.5s\n",
            "527:\tlearn: 0.2879648\ttotal: 3.91s\tremaining: 3.49s\n",
            "528:\tlearn: 0.2878600\ttotal: 3.91s\tremaining: 3.48s\n",
            "529:\tlearn: 0.2877791\ttotal: 3.93s\tremaining: 3.48s\n",
            "530:\tlearn: 0.2876224\ttotal: 3.93s\tremaining: 3.47s\n",
            "531:\tlearn: 0.2874890\ttotal: 3.94s\tremaining: 3.47s\n",
            "532:\tlearn: 0.2873679\ttotal: 3.95s\tremaining: 3.46s\n",
            "533:\tlearn: 0.2872500\ttotal: 3.96s\tremaining: 3.45s\n",
            "534:\tlearn: 0.2871484\ttotal: 3.96s\tremaining: 3.45s\n",
            "535:\tlearn: 0.2870554\ttotal: 3.97s\tremaining: 3.44s\n",
            "536:\tlearn: 0.2869831\ttotal: 3.98s\tremaining: 3.43s\n",
            "537:\tlearn: 0.2868602\ttotal: 3.99s\tremaining: 3.42s\n",
            "538:\tlearn: 0.2867702\ttotal: 3.99s\tremaining: 3.42s\n",
            "539:\tlearn: 0.2866684\ttotal: 4s\tremaining: 3.41s\n",
            "540:\tlearn: 0.2866172\ttotal: 4.01s\tremaining: 3.4s\n",
            "541:\tlearn: 0.2865823\ttotal: 4.02s\tremaining: 3.39s\n",
            "542:\tlearn: 0.2864951\ttotal: 4.02s\tremaining: 3.39s\n",
            "543:\tlearn: 0.2864005\ttotal: 4.03s\tremaining: 3.38s\n",
            "544:\tlearn: 0.2863087\ttotal: 4.04s\tremaining: 3.37s\n",
            "545:\tlearn: 0.2862360\ttotal: 4.04s\tremaining: 3.36s\n",
            "546:\tlearn: 0.2861667\ttotal: 4.05s\tremaining: 3.36s\n",
            "547:\tlearn: 0.2861338\ttotal: 4.06s\tremaining: 3.35s\n",
            "548:\tlearn: 0.2860753\ttotal: 4.07s\tremaining: 3.34s\n",
            "549:\tlearn: 0.2859862\ttotal: 4.07s\tremaining: 3.33s\n",
            "550:\tlearn: 0.2858789\ttotal: 4.08s\tremaining: 3.33s\n",
            "551:\tlearn: 0.2858107\ttotal: 4.09s\tremaining: 3.32s\n",
            "552:\tlearn: 0.2857401\ttotal: 4.09s\tremaining: 3.31s\n",
            "553:\tlearn: 0.2856394\ttotal: 4.1s\tremaining: 3.3s\n",
            "554:\tlearn: 0.2855796\ttotal: 4.11s\tremaining: 3.29s\n",
            "555:\tlearn: 0.2855461\ttotal: 4.12s\tremaining: 3.29s\n",
            "556:\tlearn: 0.2854505\ttotal: 4.12s\tremaining: 3.28s\n",
            "557:\tlearn: 0.2853702\ttotal: 4.13s\tremaining: 3.27s\n",
            "558:\tlearn: 0.2852988\ttotal: 4.14s\tremaining: 3.27s\n",
            "559:\tlearn: 0.2852033\ttotal: 4.15s\tremaining: 3.26s\n",
            "560:\tlearn: 0.2851015\ttotal: 4.15s\tremaining: 3.25s\n",
            "561:\tlearn: 0.2849974\ttotal: 4.16s\tremaining: 3.24s\n",
            "562:\tlearn: 0.2848995\ttotal: 4.17s\tremaining: 3.23s\n",
            "563:\tlearn: 0.2848108\ttotal: 4.17s\tremaining: 3.23s\n",
            "564:\tlearn: 0.2847498\ttotal: 4.18s\tremaining: 3.22s\n",
            "565:\tlearn: 0.2847036\ttotal: 4.19s\tremaining: 3.21s\n",
            "566:\tlearn: 0.2846179\ttotal: 4.19s\tremaining: 3.2s\n",
            "567:\tlearn: 0.2845385\ttotal: 4.2s\tremaining: 3.19s\n",
            "568:\tlearn: 0.2844459\ttotal: 4.21s\tremaining: 3.19s\n",
            "569:\tlearn: 0.2843824\ttotal: 4.22s\tremaining: 3.18s\n",
            "570:\tlearn: 0.2843230\ttotal: 4.22s\tremaining: 3.17s\n",
            "571:\tlearn: 0.2842057\ttotal: 4.23s\tremaining: 3.16s\n",
            "572:\tlearn: 0.2840921\ttotal: 4.24s\tremaining: 3.16s\n",
            "573:\tlearn: 0.2840031\ttotal: 4.24s\tremaining: 3.15s\n",
            "574:\tlearn: 0.2839123\ttotal: 4.25s\tremaining: 3.14s\n",
            "575:\tlearn: 0.2838576\ttotal: 4.26s\tremaining: 3.13s\n",
            "576:\tlearn: 0.2838097\ttotal: 4.26s\tremaining: 3.12s\n",
            "577:\tlearn: 0.2836755\ttotal: 4.27s\tremaining: 3.12s\n",
            "578:\tlearn: 0.2835749\ttotal: 4.28s\tremaining: 3.11s\n",
            "579:\tlearn: 0.2835517\ttotal: 4.29s\tremaining: 3.1s\n",
            "580:\tlearn: 0.2834212\ttotal: 4.29s\tremaining: 3.1s\n",
            "581:\tlearn: 0.2833306\ttotal: 4.3s\tremaining: 3.09s\n",
            "582:\tlearn: 0.2832675\ttotal: 4.31s\tremaining: 3.08s\n",
            "583:\tlearn: 0.2831749\ttotal: 4.31s\tremaining: 3.07s\n",
            "584:\tlearn: 0.2831094\ttotal: 4.32s\tremaining: 3.06s\n",
            "585:\tlearn: 0.2830255\ttotal: 4.33s\tremaining: 3.06s\n",
            "586:\tlearn: 0.2829865\ttotal: 4.34s\tremaining: 3.05s\n",
            "587:\tlearn: 0.2829488\ttotal: 4.35s\tremaining: 3.04s\n",
            "588:\tlearn: 0.2829086\ttotal: 4.35s\tremaining: 3.04s\n",
            "589:\tlearn: 0.2828052\ttotal: 4.36s\tremaining: 3.03s\n",
            "590:\tlearn: 0.2827650\ttotal: 4.37s\tremaining: 3.02s\n",
            "591:\tlearn: 0.2827348\ttotal: 4.37s\tremaining: 3.02s\n",
            "592:\tlearn: 0.2826445\ttotal: 4.38s\tremaining: 3.01s\n",
            "593:\tlearn: 0.2825304\ttotal: 4.39s\tremaining: 3s\n",
            "594:\tlearn: 0.2823515\ttotal: 4.4s\tremaining: 2.99s\n",
            "595:\tlearn: 0.2823309\ttotal: 4.4s\tremaining: 2.98s\n",
            "596:\tlearn: 0.2822346\ttotal: 4.41s\tremaining: 2.98s\n",
            "597:\tlearn: 0.2821382\ttotal: 4.42s\tremaining: 2.97s\n",
            "598:\tlearn: 0.2820599\ttotal: 4.42s\tremaining: 2.96s\n",
            "599:\tlearn: 0.2819526\ttotal: 4.43s\tremaining: 2.95s\n",
            "600:\tlearn: 0.2818640\ttotal: 4.44s\tremaining: 2.95s\n",
            "601:\tlearn: 0.2817417\ttotal: 4.45s\tremaining: 2.94s\n",
            "602:\tlearn: 0.2816430\ttotal: 4.46s\tremaining: 2.93s\n",
            "603:\tlearn: 0.2814733\ttotal: 4.46s\tremaining: 2.92s\n",
            "604:\tlearn: 0.2813532\ttotal: 4.47s\tremaining: 2.92s\n",
            "605:\tlearn: 0.2813254\ttotal: 4.48s\tremaining: 2.91s\n",
            "606:\tlearn: 0.2812510\ttotal: 4.48s\tremaining: 2.9s\n",
            "607:\tlearn: 0.2811583\ttotal: 4.49s\tremaining: 2.9s\n",
            "608:\tlearn: 0.2810510\ttotal: 4.51s\tremaining: 2.9s\n",
            "609:\tlearn: 0.2809956\ttotal: 4.52s\tremaining: 2.89s\n",
            "610:\tlearn: 0.2809132\ttotal: 4.52s\tremaining: 2.88s\n",
            "611:\tlearn: 0.2808471\ttotal: 4.53s\tremaining: 2.87s\n",
            "612:\tlearn: 0.2807375\ttotal: 4.54s\tremaining: 2.87s\n",
            "613:\tlearn: 0.2806655\ttotal: 4.55s\tremaining: 2.86s\n",
            "614:\tlearn: 0.2806593\ttotal: 4.56s\tremaining: 2.85s\n",
            "615:\tlearn: 0.2806087\ttotal: 4.57s\tremaining: 2.85s\n",
            "616:\tlearn: 0.2805347\ttotal: 4.57s\tremaining: 2.84s\n",
            "617:\tlearn: 0.2804395\ttotal: 4.58s\tremaining: 2.83s\n",
            "618:\tlearn: 0.2804025\ttotal: 4.59s\tremaining: 2.82s\n",
            "619:\tlearn: 0.2803611\ttotal: 4.59s\tremaining: 2.82s\n",
            "620:\tlearn: 0.2802729\ttotal: 4.6s\tremaining: 2.81s\n",
            "621:\tlearn: 0.2801733\ttotal: 4.61s\tremaining: 2.8s\n",
            "622:\tlearn: 0.2801076\ttotal: 4.62s\tremaining: 2.79s\n",
            "623:\tlearn: 0.2800252\ttotal: 4.62s\tremaining: 2.79s\n",
            "624:\tlearn: 0.2799456\ttotal: 4.63s\tremaining: 2.78s\n",
            "625:\tlearn: 0.2799003\ttotal: 4.63s\tremaining: 2.77s\n",
            "626:\tlearn: 0.2798192\ttotal: 4.64s\tremaining: 2.76s\n",
            "627:\tlearn: 0.2797836\ttotal: 4.65s\tremaining: 2.75s\n",
            "628:\tlearn: 0.2796954\ttotal: 4.66s\tremaining: 2.75s\n",
            "629:\tlearn: 0.2796558\ttotal: 4.67s\tremaining: 2.74s\n",
            "630:\tlearn: 0.2796200\ttotal: 4.67s\tremaining: 2.73s\n",
            "631:\tlearn: 0.2795471\ttotal: 4.68s\tremaining: 2.72s\n",
            "632:\tlearn: 0.2794514\ttotal: 4.69s\tremaining: 2.72s\n",
            "633:\tlearn: 0.2793954\ttotal: 4.69s\tremaining: 2.71s\n",
            "634:\tlearn: 0.2793189\ttotal: 4.7s\tremaining: 2.7s\n",
            "635:\tlearn: 0.2792562\ttotal: 4.71s\tremaining: 2.69s\n",
            "636:\tlearn: 0.2791964\ttotal: 4.71s\tremaining: 2.69s\n",
            "637:\tlearn: 0.2791678\ttotal: 4.72s\tremaining: 2.68s\n",
            "638:\tlearn: 0.2790695\ttotal: 4.73s\tremaining: 2.67s\n",
            "639:\tlearn: 0.2790110\ttotal: 4.74s\tremaining: 2.67s\n",
            "640:\tlearn: 0.2789422\ttotal: 4.75s\tremaining: 2.66s\n",
            "641:\tlearn: 0.2788466\ttotal: 4.76s\tremaining: 2.65s\n",
            "642:\tlearn: 0.2787459\ttotal: 4.76s\tremaining: 2.65s\n",
            "643:\tlearn: 0.2786328\ttotal: 4.77s\tremaining: 2.64s\n",
            "644:\tlearn: 0.2786020\ttotal: 4.78s\tremaining: 2.63s\n",
            "645:\tlearn: 0.2785002\ttotal: 4.79s\tremaining: 2.62s\n",
            "646:\tlearn: 0.2784174\ttotal: 4.8s\tremaining: 2.62s\n",
            "647:\tlearn: 0.2783193\ttotal: 4.8s\tremaining: 2.61s\n",
            "648:\tlearn: 0.2781841\ttotal: 4.81s\tremaining: 2.6s\n",
            "649:\tlearn: 0.2781088\ttotal: 4.82s\tremaining: 2.59s\n",
            "650:\tlearn: 0.2780925\ttotal: 4.83s\tremaining: 2.59s\n",
            "651:\tlearn: 0.2779842\ttotal: 4.83s\tremaining: 2.58s\n",
            "652:\tlearn: 0.2779091\ttotal: 4.84s\tremaining: 2.57s\n",
            "653:\tlearn: 0.2778332\ttotal: 4.85s\tremaining: 2.56s\n",
            "654:\tlearn: 0.2777561\ttotal: 4.85s\tremaining: 2.56s\n",
            "655:\tlearn: 0.2776592\ttotal: 4.86s\tremaining: 2.55s\n",
            "656:\tlearn: 0.2775261\ttotal: 4.87s\tremaining: 2.54s\n",
            "657:\tlearn: 0.2774131\ttotal: 4.88s\tremaining: 2.53s\n",
            "658:\tlearn: 0.2773810\ttotal: 4.88s\tremaining: 2.53s\n",
            "659:\tlearn: 0.2772030\ttotal: 4.89s\tremaining: 2.52s\n",
            "660:\tlearn: 0.2771346\ttotal: 4.9s\tremaining: 2.51s\n",
            "661:\tlearn: 0.2770697\ttotal: 4.9s\tremaining: 2.5s\n",
            "662:\tlearn: 0.2769626\ttotal: 4.91s\tremaining: 2.5s\n",
            "663:\tlearn: 0.2768590\ttotal: 4.92s\tremaining: 2.49s\n",
            "664:\tlearn: 0.2768035\ttotal: 4.93s\tremaining: 2.48s\n",
            "665:\tlearn: 0.2767837\ttotal: 4.93s\tremaining: 2.47s\n",
            "666:\tlearn: 0.2767192\ttotal: 4.94s\tremaining: 2.47s\n",
            "667:\tlearn: 0.2766499\ttotal: 4.95s\tremaining: 2.46s\n",
            "668:\tlearn: 0.2765970\ttotal: 4.96s\tremaining: 2.46s\n",
            "669:\tlearn: 0.2764474\ttotal: 4.97s\tremaining: 2.45s\n",
            "670:\tlearn: 0.2762447\ttotal: 4.98s\tremaining: 2.44s\n",
            "671:\tlearn: 0.2761556\ttotal: 4.99s\tremaining: 2.43s\n",
            "672:\tlearn: 0.2760270\ttotal: 4.99s\tremaining: 2.43s\n",
            "673:\tlearn: 0.2759118\ttotal: 5s\tremaining: 2.42s\n",
            "674:\tlearn: 0.2758457\ttotal: 5.01s\tremaining: 2.41s\n",
            "675:\tlearn: 0.2756832\ttotal: 5.01s\tremaining: 2.4s\n",
            "676:\tlearn: 0.2756218\ttotal: 5.02s\tremaining: 2.4s\n",
            "677:\tlearn: 0.2756036\ttotal: 5.03s\tremaining: 2.39s\n",
            "678:\tlearn: 0.2755344\ttotal: 5.04s\tremaining: 2.38s\n",
            "679:\tlearn: 0.2754647\ttotal: 5.04s\tremaining: 2.37s\n",
            "680:\tlearn: 0.2753236\ttotal: 5.05s\tremaining: 2.37s\n",
            "681:\tlearn: 0.2752584\ttotal: 5.06s\tremaining: 2.36s\n",
            "682:\tlearn: 0.2752454\ttotal: 5.07s\tremaining: 2.35s\n",
            "683:\tlearn: 0.2751112\ttotal: 5.07s\tremaining: 2.34s\n",
            "684:\tlearn: 0.2750260\ttotal: 5.08s\tremaining: 2.34s\n",
            "685:\tlearn: 0.2749561\ttotal: 5.09s\tremaining: 2.33s\n",
            "686:\tlearn: 0.2748664\ttotal: 5.09s\tremaining: 2.32s\n",
            "687:\tlearn: 0.2747850\ttotal: 5.1s\tremaining: 2.31s\n",
            "688:\tlearn: 0.2747048\ttotal: 5.11s\tremaining: 2.31s\n",
            "689:\tlearn: 0.2746343\ttotal: 5.12s\tremaining: 2.3s\n",
            "690:\tlearn: 0.2745857\ttotal: 5.12s\tremaining: 2.29s\n",
            "691:\tlearn: 0.2745256\ttotal: 5.13s\tremaining: 2.28s\n",
            "692:\tlearn: 0.2744568\ttotal: 5.14s\tremaining: 2.28s\n",
            "693:\tlearn: 0.2743849\ttotal: 5.15s\tremaining: 2.27s\n",
            "694:\tlearn: 0.2743040\ttotal: 5.16s\tremaining: 2.26s\n",
            "695:\tlearn: 0.2742398\ttotal: 5.17s\tremaining: 2.26s\n",
            "696:\tlearn: 0.2741757\ttotal: 5.17s\tremaining: 2.25s\n",
            "697:\tlearn: 0.2740483\ttotal: 5.18s\tremaining: 2.24s\n",
            "698:\tlearn: 0.2739699\ttotal: 5.19s\tremaining: 2.24s\n",
            "699:\tlearn: 0.2739227\ttotal: 5.2s\tremaining: 2.23s\n",
            "700:\tlearn: 0.2738670\ttotal: 5.21s\tremaining: 2.22s\n",
            "701:\tlearn: 0.2737790\ttotal: 5.22s\tremaining: 2.21s\n",
            "702:\tlearn: 0.2736985\ttotal: 5.22s\tremaining: 2.21s\n",
            "703:\tlearn: 0.2735891\ttotal: 5.23s\tremaining: 2.2s\n",
            "704:\tlearn: 0.2735382\ttotal: 5.24s\tremaining: 2.19s\n",
            "705:\tlearn: 0.2735004\ttotal: 5.25s\tremaining: 2.19s\n",
            "706:\tlearn: 0.2734677\ttotal: 5.26s\tremaining: 2.18s\n",
            "707:\tlearn: 0.2733819\ttotal: 5.26s\tremaining: 2.17s\n",
            "708:\tlearn: 0.2733408\ttotal: 5.27s\tremaining: 2.16s\n",
            "709:\tlearn: 0.2732201\ttotal: 5.28s\tremaining: 2.15s\n",
            "710:\tlearn: 0.2731477\ttotal: 5.29s\tremaining: 2.15s\n",
            "711:\tlearn: 0.2730923\ttotal: 5.29s\tremaining: 2.14s\n",
            "712:\tlearn: 0.2730370\ttotal: 5.3s\tremaining: 2.13s\n",
            "713:\tlearn: 0.2729661\ttotal: 5.31s\tremaining: 2.13s\n",
            "714:\tlearn: 0.2729294\ttotal: 5.31s\tremaining: 2.12s\n",
            "715:\tlearn: 0.2728893\ttotal: 5.32s\tremaining: 2.11s\n",
            "716:\tlearn: 0.2728629\ttotal: 5.33s\tremaining: 2.1s\n",
            "717:\tlearn: 0.2727330\ttotal: 5.34s\tremaining: 2.1s\n",
            "718:\tlearn: 0.2726787\ttotal: 5.34s\tremaining: 2.09s\n",
            "719:\tlearn: 0.2725962\ttotal: 5.35s\tremaining: 2.08s\n",
            "720:\tlearn: 0.2725606\ttotal: 5.36s\tremaining: 2.08s\n",
            "721:\tlearn: 0.2725047\ttotal: 5.37s\tremaining: 2.07s\n",
            "722:\tlearn: 0.2724351\ttotal: 5.38s\tremaining: 2.06s\n",
            "723:\tlearn: 0.2723827\ttotal: 5.38s\tremaining: 2.05s\n",
            "724:\tlearn: 0.2723279\ttotal: 5.39s\tremaining: 2.04s\n",
            "725:\tlearn: 0.2722495\ttotal: 5.4s\tremaining: 2.04s\n",
            "726:\tlearn: 0.2721094\ttotal: 5.41s\tremaining: 2.03s\n",
            "727:\tlearn: 0.2720106\ttotal: 5.42s\tremaining: 2.02s\n",
            "728:\tlearn: 0.2719784\ttotal: 5.42s\tremaining: 2.02s\n",
            "729:\tlearn: 0.2718887\ttotal: 5.43s\tremaining: 2.01s\n",
            "730:\tlearn: 0.2718142\ttotal: 5.44s\tremaining: 2s\n",
            "731:\tlearn: 0.2717243\ttotal: 5.45s\tremaining: 1.99s\n",
            "732:\tlearn: 0.2716200\ttotal: 5.46s\tremaining: 1.99s\n",
            "733:\tlearn: 0.2715446\ttotal: 5.46s\tremaining: 1.98s\n",
            "734:\tlearn: 0.2714550\ttotal: 5.47s\tremaining: 1.97s\n",
            "735:\tlearn: 0.2713872\ttotal: 5.48s\tremaining: 1.97s\n",
            "736:\tlearn: 0.2713258\ttotal: 5.49s\tremaining: 1.96s\n",
            "737:\tlearn: 0.2711750\ttotal: 5.51s\tremaining: 1.95s\n",
            "738:\tlearn: 0.2710922\ttotal: 5.51s\tremaining: 1.95s\n",
            "739:\tlearn: 0.2710240\ttotal: 5.52s\tremaining: 1.94s\n",
            "740:\tlearn: 0.2709386\ttotal: 5.53s\tremaining: 1.93s\n",
            "741:\tlearn: 0.2708519\ttotal: 5.54s\tremaining: 1.93s\n",
            "742:\tlearn: 0.2707803\ttotal: 5.54s\tremaining: 1.92s\n",
            "743:\tlearn: 0.2706955\ttotal: 5.55s\tremaining: 1.91s\n",
            "744:\tlearn: 0.2706281\ttotal: 5.56s\tremaining: 1.9s\n",
            "745:\tlearn: 0.2705864\ttotal: 5.57s\tremaining: 1.9s\n",
            "746:\tlearn: 0.2705418\ttotal: 5.58s\tremaining: 1.89s\n",
            "747:\tlearn: 0.2704710\ttotal: 5.58s\tremaining: 1.88s\n",
            "748:\tlearn: 0.2704017\ttotal: 5.59s\tremaining: 1.87s\n",
            "749:\tlearn: 0.2703102\ttotal: 5.6s\tremaining: 1.86s\n",
            "750:\tlearn: 0.2702258\ttotal: 5.6s\tremaining: 1.86s\n",
            "751:\tlearn: 0.2700584\ttotal: 5.61s\tremaining: 1.85s\n",
            "752:\tlearn: 0.2699689\ttotal: 5.62s\tremaining: 1.84s\n",
            "753:\tlearn: 0.2698179\ttotal: 5.63s\tremaining: 1.83s\n",
            "754:\tlearn: 0.2697774\ttotal: 5.63s\tremaining: 1.83s\n",
            "755:\tlearn: 0.2697006\ttotal: 5.64s\tremaining: 1.82s\n",
            "756:\tlearn: 0.2695937\ttotal: 5.65s\tremaining: 1.81s\n",
            "757:\tlearn: 0.2694918\ttotal: 5.66s\tremaining: 1.81s\n",
            "758:\tlearn: 0.2694051\ttotal: 5.67s\tremaining: 1.8s\n",
            "759:\tlearn: 0.2693101\ttotal: 5.67s\tremaining: 1.79s\n",
            "760:\tlearn: 0.2692209\ttotal: 5.68s\tremaining: 1.78s\n",
            "761:\tlearn: 0.2691722\ttotal: 5.69s\tremaining: 1.78s\n",
            "762:\tlearn: 0.2691235\ttotal: 5.69s\tremaining: 1.77s\n",
            "763:\tlearn: 0.2690284\ttotal: 5.7s\tremaining: 1.76s\n",
            "764:\tlearn: 0.2689130\ttotal: 5.71s\tremaining: 1.75s\n",
            "765:\tlearn: 0.2688245\ttotal: 5.72s\tremaining: 1.75s\n",
            "766:\tlearn: 0.2687288\ttotal: 5.72s\tremaining: 1.74s\n",
            "767:\tlearn: 0.2686134\ttotal: 5.73s\tremaining: 1.73s\n",
            "768:\tlearn: 0.2685915\ttotal: 5.74s\tremaining: 1.72s\n",
            "769:\tlearn: 0.2685207\ttotal: 5.74s\tremaining: 1.72s\n",
            "770:\tlearn: 0.2684770\ttotal: 5.75s\tremaining: 1.71s\n",
            "771:\tlearn: 0.2684186\ttotal: 5.76s\tremaining: 1.7s\n",
            "772:\tlearn: 0.2683457\ttotal: 5.77s\tremaining: 1.69s\n",
            "773:\tlearn: 0.2682086\ttotal: 5.78s\tremaining: 1.69s\n",
            "774:\tlearn: 0.2681335\ttotal: 5.79s\tremaining: 1.68s\n",
            "775:\tlearn: 0.2680651\ttotal: 5.8s\tremaining: 1.67s\n",
            "776:\tlearn: 0.2679939\ttotal: 5.8s\tremaining: 1.67s\n",
            "777:\tlearn: 0.2679315\ttotal: 5.81s\tremaining: 1.66s\n",
            "778:\tlearn: 0.2678252\ttotal: 5.82s\tremaining: 1.65s\n",
            "779:\tlearn: 0.2677344\ttotal: 5.83s\tremaining: 1.64s\n",
            "780:\tlearn: 0.2676541\ttotal: 5.84s\tremaining: 1.64s\n",
            "781:\tlearn: 0.2675169\ttotal: 5.84s\tremaining: 1.63s\n",
            "782:\tlearn: 0.2674515\ttotal: 5.85s\tremaining: 1.62s\n",
            "783:\tlearn: 0.2673820\ttotal: 5.86s\tremaining: 1.61s\n",
            "784:\tlearn: 0.2673314\ttotal: 5.87s\tremaining: 1.61s\n",
            "785:\tlearn: 0.2673093\ttotal: 5.88s\tremaining: 1.6s\n",
            "786:\tlearn: 0.2671911\ttotal: 5.88s\tremaining: 1.59s\n",
            "787:\tlearn: 0.2670953\ttotal: 5.89s\tremaining: 1.58s\n",
            "788:\tlearn: 0.2670243\ttotal: 5.9s\tremaining: 1.58s\n",
            "789:\tlearn: 0.2669142\ttotal: 5.9s\tremaining: 1.57s\n",
            "790:\tlearn: 0.2668005\ttotal: 5.91s\tremaining: 1.56s\n",
            "791:\tlearn: 0.2667326\ttotal: 5.92s\tremaining: 1.55s\n",
            "792:\tlearn: 0.2666230\ttotal: 5.92s\tremaining: 1.55s\n",
            "793:\tlearn: 0.2666007\ttotal: 5.93s\tremaining: 1.54s\n",
            "794:\tlearn: 0.2665246\ttotal: 5.94s\tremaining: 1.53s\n",
            "795:\tlearn: 0.2664664\ttotal: 5.95s\tremaining: 1.52s\n",
            "796:\tlearn: 0.2663705\ttotal: 5.95s\tremaining: 1.52s\n",
            "797:\tlearn: 0.2663249\ttotal: 5.96s\tremaining: 1.51s\n",
            "798:\tlearn: 0.2662748\ttotal: 5.97s\tremaining: 1.5s\n",
            "799:\tlearn: 0.2661571\ttotal: 5.98s\tremaining: 1.49s\n",
            "800:\tlearn: 0.2660657\ttotal: 5.99s\tremaining: 1.49s\n",
            "801:\tlearn: 0.2660266\ttotal: 5.99s\tremaining: 1.48s\n",
            "802:\tlearn: 0.2659090\ttotal: 6s\tremaining: 1.47s\n",
            "803:\tlearn: 0.2658547\ttotal: 6.01s\tremaining: 1.46s\n",
            "804:\tlearn: 0.2658156\ttotal: 6.01s\tremaining: 1.46s\n",
            "805:\tlearn: 0.2657560\ttotal: 6.02s\tremaining: 1.45s\n",
            "806:\tlearn: 0.2656597\ttotal: 6.03s\tremaining: 1.44s\n",
            "807:\tlearn: 0.2655924\ttotal: 6.04s\tremaining: 1.43s\n",
            "808:\tlearn: 0.2655113\ttotal: 6.04s\tremaining: 1.43s\n",
            "809:\tlearn: 0.2654785\ttotal: 6.05s\tremaining: 1.42s\n",
            "810:\tlearn: 0.2654082\ttotal: 6.06s\tremaining: 1.41s\n",
            "811:\tlearn: 0.2653491\ttotal: 6.06s\tremaining: 1.4s\n",
            "812:\tlearn: 0.2652374\ttotal: 6.07s\tremaining: 1.4s\n",
            "813:\tlearn: 0.2651940\ttotal: 6.08s\tremaining: 1.39s\n",
            "814:\tlearn: 0.2651303\ttotal: 6.08s\tremaining: 1.38s\n",
            "815:\tlearn: 0.2650478\ttotal: 6.09s\tremaining: 1.37s\n",
            "816:\tlearn: 0.2649322\ttotal: 6.1s\tremaining: 1.37s\n",
            "817:\tlearn: 0.2649062\ttotal: 6.11s\tremaining: 1.36s\n",
            "818:\tlearn: 0.2647943\ttotal: 6.11s\tremaining: 1.35s\n",
            "819:\tlearn: 0.2647133\ttotal: 6.12s\tremaining: 1.34s\n",
            "820:\tlearn: 0.2646518\ttotal: 6.13s\tremaining: 1.34s\n",
            "821:\tlearn: 0.2645665\ttotal: 6.13s\tremaining: 1.33s\n",
            "822:\tlearn: 0.2644917\ttotal: 6.14s\tremaining: 1.32s\n",
            "823:\tlearn: 0.2644142\ttotal: 6.15s\tremaining: 1.31s\n",
            "824:\tlearn: 0.2643239\ttotal: 6.16s\tremaining: 1.31s\n",
            "825:\tlearn: 0.2642495\ttotal: 6.17s\tremaining: 1.3s\n",
            "826:\tlearn: 0.2641625\ttotal: 6.18s\tremaining: 1.29s\n",
            "827:\tlearn: 0.2641161\ttotal: 6.19s\tremaining: 1.28s\n",
            "828:\tlearn: 0.2640293\ttotal: 6.2s\tremaining: 1.28s\n",
            "829:\tlearn: 0.2639640\ttotal: 6.2s\tremaining: 1.27s\n",
            "830:\tlearn: 0.2638911\ttotal: 6.21s\tremaining: 1.26s\n",
            "831:\tlearn: 0.2638237\ttotal: 6.22s\tremaining: 1.25s\n",
            "832:\tlearn: 0.2637551\ttotal: 6.23s\tremaining: 1.25s\n",
            "833:\tlearn: 0.2637362\ttotal: 6.24s\tremaining: 1.24s\n",
            "834:\tlearn: 0.2636763\ttotal: 6.24s\tremaining: 1.23s\n",
            "835:\tlearn: 0.2636296\ttotal: 6.25s\tremaining: 1.23s\n",
            "836:\tlearn: 0.2635719\ttotal: 6.25s\tremaining: 1.22s\n",
            "837:\tlearn: 0.2635352\ttotal: 6.26s\tremaining: 1.21s\n",
            "838:\tlearn: 0.2635004\ttotal: 6.27s\tremaining: 1.2s\n",
            "839:\tlearn: 0.2634293\ttotal: 6.28s\tremaining: 1.2s\n",
            "840:\tlearn: 0.2633166\ttotal: 6.28s\tremaining: 1.19s\n",
            "841:\tlearn: 0.2632379\ttotal: 6.29s\tremaining: 1.18s\n",
            "842:\tlearn: 0.2632001\ttotal: 6.3s\tremaining: 1.17s\n",
            "843:\tlearn: 0.2631422\ttotal: 6.31s\tremaining: 1.17s\n",
            "844:\tlearn: 0.2630363\ttotal: 6.31s\tremaining: 1.16s\n",
            "845:\tlearn: 0.2630050\ttotal: 6.32s\tremaining: 1.15s\n",
            "846:\tlearn: 0.2629672\ttotal: 6.33s\tremaining: 1.14s\n",
            "847:\tlearn: 0.2629185\ttotal: 6.33s\tremaining: 1.14s\n",
            "848:\tlearn: 0.2628137\ttotal: 6.34s\tremaining: 1.13s\n",
            "849:\tlearn: 0.2626923\ttotal: 6.35s\tremaining: 1.12s\n",
            "850:\tlearn: 0.2626003\ttotal: 6.36s\tremaining: 1.11s\n",
            "851:\tlearn: 0.2625730\ttotal: 6.36s\tremaining: 1.1s\n",
            "852:\tlearn: 0.2624993\ttotal: 6.37s\tremaining: 1.1s\n",
            "853:\tlearn: 0.2624231\ttotal: 6.38s\tremaining: 1.09s\n",
            "854:\tlearn: 0.2623509\ttotal: 6.4s\tremaining: 1.08s\n",
            "855:\tlearn: 0.2622978\ttotal: 6.41s\tremaining: 1.08s\n",
            "856:\tlearn: 0.2621545\ttotal: 6.42s\tremaining: 1.07s\n",
            "857:\tlearn: 0.2620907\ttotal: 6.42s\tremaining: 1.06s\n",
            "858:\tlearn: 0.2620176\ttotal: 6.43s\tremaining: 1.05s\n",
            "859:\tlearn: 0.2618815\ttotal: 6.44s\tremaining: 1.05s\n",
            "860:\tlearn: 0.2617829\ttotal: 6.45s\tremaining: 1.04s\n",
            "861:\tlearn: 0.2617460\ttotal: 6.46s\tremaining: 1.03s\n",
            "862:\tlearn: 0.2616908\ttotal: 6.47s\tremaining: 1.03s\n",
            "863:\tlearn: 0.2616465\ttotal: 6.47s\tremaining: 1.02s\n",
            "864:\tlearn: 0.2615543\ttotal: 6.48s\tremaining: 1.01s\n",
            "865:\tlearn: 0.2614720\ttotal: 6.49s\tremaining: 1s\n",
            "866:\tlearn: 0.2613942\ttotal: 6.5s\tremaining: 998ms\n",
            "867:\tlearn: 0.2613195\ttotal: 6.51s\tremaining: 991ms\n",
            "868:\tlearn: 0.2612480\ttotal: 6.52s\tremaining: 983ms\n",
            "869:\tlearn: 0.2612149\ttotal: 6.53s\tremaining: 975ms\n",
            "870:\tlearn: 0.2612023\ttotal: 6.53s\tremaining: 968ms\n",
            "871:\tlearn: 0.2611031\ttotal: 6.54s\tremaining: 960ms\n",
            "872:\tlearn: 0.2610498\ttotal: 6.55s\tremaining: 953ms\n",
            "873:\tlearn: 0.2610237\ttotal: 6.55s\tremaining: 945ms\n",
            "874:\tlearn: 0.2609635\ttotal: 6.56s\tremaining: 937ms\n",
            "875:\tlearn: 0.2609256\ttotal: 6.57s\tremaining: 930ms\n",
            "876:\tlearn: 0.2608826\ttotal: 6.58s\tremaining: 922ms\n",
            "877:\tlearn: 0.2608170\ttotal: 6.58s\tremaining: 915ms\n",
            "878:\tlearn: 0.2607332\ttotal: 6.59s\tremaining: 907ms\n",
            "879:\tlearn: 0.2606315\ttotal: 6.6s\tremaining: 901ms\n",
            "880:\tlearn: 0.2605224\ttotal: 6.62s\tremaining: 894ms\n",
            "881:\tlearn: 0.2604271\ttotal: 6.64s\tremaining: 888ms\n",
            "882:\tlearn: 0.2603593\ttotal: 6.64s\tremaining: 880ms\n",
            "883:\tlearn: 0.2603075\ttotal: 6.65s\tremaining: 873ms\n",
            "884:\tlearn: 0.2601465\ttotal: 6.66s\tremaining: 866ms\n",
            "885:\tlearn: 0.2600777\ttotal: 6.67s\tremaining: 858ms\n",
            "886:\tlearn: 0.2600339\ttotal: 6.68s\tremaining: 851ms\n",
            "887:\tlearn: 0.2599662\ttotal: 6.68s\tremaining: 843ms\n",
            "888:\tlearn: 0.2599199\ttotal: 6.69s\tremaining: 836ms\n",
            "889:\tlearn: 0.2598469\ttotal: 6.7s\tremaining: 828ms\n",
            "890:\tlearn: 0.2598121\ttotal: 6.71s\tremaining: 821ms\n",
            "891:\tlearn: 0.2597427\ttotal: 6.72s\tremaining: 813ms\n",
            "892:\tlearn: 0.2596854\ttotal: 6.73s\tremaining: 806ms\n",
            "893:\tlearn: 0.2595655\ttotal: 6.74s\tremaining: 799ms\n",
            "894:\tlearn: 0.2595044\ttotal: 6.75s\tremaining: 792ms\n",
            "895:\tlearn: 0.2594445\ttotal: 6.76s\tremaining: 785ms\n",
            "896:\tlearn: 0.2593719\ttotal: 6.77s\tremaining: 777ms\n",
            "897:\tlearn: 0.2593064\ttotal: 6.77s\tremaining: 770ms\n",
            "898:\tlearn: 0.2592202\ttotal: 6.78s\tremaining: 762ms\n",
            "899:\tlearn: 0.2591545\ttotal: 6.79s\tremaining: 755ms\n",
            "900:\tlearn: 0.2590917\ttotal: 6.8s\tremaining: 747ms\n",
            "901:\tlearn: 0.2590514\ttotal: 6.81s\tremaining: 740ms\n",
            "902:\tlearn: 0.2589959\ttotal: 6.82s\tremaining: 732ms\n",
            "903:\tlearn: 0.2589768\ttotal: 6.83s\tremaining: 725ms\n",
            "904:\tlearn: 0.2589079\ttotal: 6.83s\tremaining: 717ms\n",
            "905:\tlearn: 0.2588443\ttotal: 6.84s\tremaining: 710ms\n",
            "906:\tlearn: 0.2587787\ttotal: 6.85s\tremaining: 702ms\n",
            "907:\tlearn: 0.2586830\ttotal: 6.86s\tremaining: 695ms\n",
            "908:\tlearn: 0.2586602\ttotal: 6.86s\tremaining: 687ms\n",
            "909:\tlearn: 0.2586022\ttotal: 6.87s\tremaining: 679ms\n",
            "910:\tlearn: 0.2585471\ttotal: 6.88s\tremaining: 672ms\n",
            "911:\tlearn: 0.2585299\ttotal: 6.88s\tremaining: 664ms\n",
            "912:\tlearn: 0.2584609\ttotal: 6.89s\tremaining: 657ms\n",
            "913:\tlearn: 0.2584045\ttotal: 6.9s\tremaining: 649ms\n",
            "914:\tlearn: 0.2583472\ttotal: 6.91s\tremaining: 642ms\n",
            "915:\tlearn: 0.2582817\ttotal: 6.91s\tremaining: 634ms\n",
            "916:\tlearn: 0.2582074\ttotal: 6.92s\tremaining: 626ms\n",
            "917:\tlearn: 0.2581534\ttotal: 6.93s\tremaining: 619ms\n",
            "918:\tlearn: 0.2580791\ttotal: 6.94s\tremaining: 611ms\n",
            "919:\tlearn: 0.2580003\ttotal: 6.95s\tremaining: 604ms\n",
            "920:\tlearn: 0.2579140\ttotal: 6.95s\tremaining: 596ms\n",
            "921:\tlearn: 0.2578420\ttotal: 6.96s\tremaining: 589ms\n",
            "922:\tlearn: 0.2577557\ttotal: 6.97s\tremaining: 581ms\n",
            "923:\tlearn: 0.2576897\ttotal: 6.97s\tremaining: 574ms\n",
            "924:\tlearn: 0.2575958\ttotal: 6.98s\tremaining: 566ms\n",
            "925:\tlearn: 0.2575300\ttotal: 6.99s\tremaining: 559ms\n",
            "926:\tlearn: 0.2574570\ttotal: 7s\tremaining: 551ms\n",
            "927:\tlearn: 0.2573971\ttotal: 7s\tremaining: 543ms\n",
            "928:\tlearn: 0.2573396\ttotal: 7.02s\tremaining: 536ms\n",
            "929:\tlearn: 0.2572887\ttotal: 7.03s\tremaining: 529ms\n",
            "930:\tlearn: 0.2572405\ttotal: 7.04s\tremaining: 521ms\n",
            "931:\tlearn: 0.2571638\ttotal: 7.04s\tremaining: 514ms\n",
            "932:\tlearn: 0.2571234\ttotal: 7.05s\tremaining: 506ms\n",
            "933:\tlearn: 0.2570455\ttotal: 7.06s\tremaining: 499ms\n",
            "934:\tlearn: 0.2569920\ttotal: 7.07s\tremaining: 491ms\n",
            "935:\tlearn: 0.2569151\ttotal: 7.07s\tremaining: 484ms\n",
            "936:\tlearn: 0.2568850\ttotal: 7.08s\tremaining: 476ms\n",
            "937:\tlearn: 0.2567953\ttotal: 7.09s\tremaining: 468ms\n",
            "938:\tlearn: 0.2566787\ttotal: 7.09s\tremaining: 461ms\n",
            "939:\tlearn: 0.2566296\ttotal: 7.1s\tremaining: 453ms\n",
            "940:\tlearn: 0.2566179\ttotal: 7.11s\tremaining: 446ms\n",
            "941:\tlearn: 0.2565470\ttotal: 7.11s\tremaining: 438ms\n",
            "942:\tlearn: 0.2565085\ttotal: 7.12s\tremaining: 430ms\n",
            "943:\tlearn: 0.2564187\ttotal: 7.13s\tremaining: 423ms\n",
            "944:\tlearn: 0.2563856\ttotal: 7.13s\tremaining: 415ms\n",
            "945:\tlearn: 0.2562993\ttotal: 7.14s\tremaining: 408ms\n",
            "946:\tlearn: 0.2562153\ttotal: 7.15s\tremaining: 400ms\n",
            "947:\tlearn: 0.2561539\ttotal: 7.16s\tremaining: 393ms\n",
            "948:\tlearn: 0.2560780\ttotal: 7.17s\tremaining: 385ms\n",
            "949:\tlearn: 0.2560055\ttotal: 7.17s\tremaining: 378ms\n",
            "950:\tlearn: 0.2559334\ttotal: 7.18s\tremaining: 370ms\n",
            "951:\tlearn: 0.2558703\ttotal: 7.19s\tremaining: 363ms\n",
            "952:\tlearn: 0.2558098\ttotal: 7.2s\tremaining: 355ms\n",
            "953:\tlearn: 0.2557096\ttotal: 7.21s\tremaining: 347ms\n",
            "954:\tlearn: 0.2556183\ttotal: 7.21s\tremaining: 340ms\n",
            "955:\tlearn: 0.2555431\ttotal: 7.23s\tremaining: 333ms\n",
            "956:\tlearn: 0.2554806\ttotal: 7.23s\tremaining: 325ms\n",
            "957:\tlearn: 0.2554178\ttotal: 7.24s\tremaining: 317ms\n",
            "958:\tlearn: 0.2553443\ttotal: 7.25s\tremaining: 310ms\n",
            "959:\tlearn: 0.2552832\ttotal: 7.25s\tremaining: 302ms\n",
            "960:\tlearn: 0.2552485\ttotal: 7.26s\tremaining: 295ms\n",
            "961:\tlearn: 0.2552089\ttotal: 7.27s\tremaining: 287ms\n",
            "962:\tlearn: 0.2551166\ttotal: 7.28s\tremaining: 280ms\n",
            "963:\tlearn: 0.2550075\ttotal: 7.28s\tremaining: 272ms\n",
            "964:\tlearn: 0.2548949\ttotal: 7.29s\tremaining: 264ms\n",
            "965:\tlearn: 0.2548397\ttotal: 7.3s\tremaining: 257ms\n",
            "966:\tlearn: 0.2547818\ttotal: 7.31s\tremaining: 249ms\n",
            "967:\tlearn: 0.2546815\ttotal: 7.31s\tremaining: 242ms\n",
            "968:\tlearn: 0.2546074\ttotal: 7.32s\tremaining: 234ms\n",
            "969:\tlearn: 0.2545439\ttotal: 7.33s\tremaining: 227ms\n",
            "970:\tlearn: 0.2544076\ttotal: 7.34s\tremaining: 219ms\n",
            "971:\tlearn: 0.2543222\ttotal: 7.34s\tremaining: 212ms\n",
            "972:\tlearn: 0.2542361\ttotal: 7.35s\tremaining: 204ms\n",
            "973:\tlearn: 0.2542160\ttotal: 7.36s\tremaining: 196ms\n",
            "974:\tlearn: 0.2541459\ttotal: 7.37s\tremaining: 189ms\n",
            "975:\tlearn: 0.2541184\ttotal: 7.37s\tremaining: 181ms\n",
            "976:\tlearn: 0.2540568\ttotal: 7.38s\tremaining: 174ms\n",
            "977:\tlearn: 0.2539998\ttotal: 7.39s\tremaining: 166ms\n",
            "978:\tlearn: 0.2539165\ttotal: 7.4s\tremaining: 159ms\n",
            "979:\tlearn: 0.2538267\ttotal: 7.4s\tremaining: 151ms\n",
            "980:\tlearn: 0.2537423\ttotal: 7.41s\tremaining: 144ms\n",
            "981:\tlearn: 0.2535967\ttotal: 7.42s\tremaining: 136ms\n",
            "982:\tlearn: 0.2535187\ttotal: 7.43s\tremaining: 129ms\n",
            "983:\tlearn: 0.2534675\ttotal: 7.44s\tremaining: 121ms\n",
            "984:\tlearn: 0.2534174\ttotal: 7.45s\tremaining: 113ms\n",
            "985:\tlearn: 0.2533560\ttotal: 7.46s\tremaining: 106ms\n",
            "986:\tlearn: 0.2533013\ttotal: 7.46s\tremaining: 98.3ms\n",
            "987:\tlearn: 0.2532523\ttotal: 7.47s\tremaining: 90.8ms\n",
            "988:\tlearn: 0.2531887\ttotal: 7.48s\tremaining: 83.2ms\n",
            "989:\tlearn: 0.2531101\ttotal: 7.49s\tremaining: 75.6ms\n",
            "990:\tlearn: 0.2530399\ttotal: 7.5s\tremaining: 68.1ms\n",
            "991:\tlearn: 0.2529494\ttotal: 7.51s\tremaining: 60.6ms\n",
            "992:\tlearn: 0.2529037\ttotal: 7.51s\tremaining: 53ms\n",
            "993:\tlearn: 0.2528729\ttotal: 7.52s\tremaining: 45.4ms\n",
            "994:\tlearn: 0.2528146\ttotal: 7.53s\tremaining: 37.8ms\n",
            "995:\tlearn: 0.2527523\ttotal: 7.54s\tremaining: 30.3ms\n",
            "996:\tlearn: 0.2526975\ttotal: 7.54s\tremaining: 22.7ms\n",
            "997:\tlearn: 0.2526325\ttotal: 7.55s\tremaining: 15.1ms\n",
            "998:\tlearn: 0.2525522\ttotal: 7.56s\tremaining: 7.57ms\n",
            "999:\tlearn: 0.2524935\ttotal: 7.57s\tremaining: 0us\n"
          ],
          "name": "stdout"
        },
        {
          "output_type": "execute_result",
          "data": {
            "text/plain": [
              "<catboost.core.CatBoostClassifier at 0x7fe9951edd90>"
            ]
          },
          "metadata": {
            "tags": []
          },
          "execution_count": 26
        }
      ]
    },
    {
      "cell_type": "code",
      "metadata": {
        "id": "2tqxU-MDl4vK"
      },
      "source": [
        "#наши прогнозы для тестовой выборки\n",
        "preds = clf.predict_proba(X_val)[:, 1]"
      ],
      "execution_count": 27,
      "outputs": []
    },
    {
      "cell_type": "code",
      "metadata": {
        "colab": {
          "base_uri": "https://localhost:8080/"
        },
        "id": "AuXevkdLmK6w",
        "outputId": "ca6dad77-3f7f-4918-9973-8388905250bf"
      },
      "source": [
        "precision, recall, thresholds = precision_recall_curve(y_val, preds)\n",
        "\n",
        "fscore = (2 * precision * recall) / (precision + recall)\n",
        "# locate the index of the largest f score\n",
        "ix = np.argmax(fscore)\n",
        "print('Best Threshold=%f, F-Score=%.3f, Precision=%.3f, Recall=%.3f' % (thresholds[ix], \n",
        "                                                                        fscore[ix],\n",
        "                                                                        precision[ix],\n",
        "                                                                        recall[ix]))"
      ],
      "execution_count": 28,
      "outputs": [
        {
          "output_type": "stream",
          "text": [
            "Best Threshold=0.417370, F-Score=0.648, Precision=0.698, Recall=0.605\n"
          ],
          "name": "stdout"
        }
      ]
    },
    {
      "cell_type": "code",
      "metadata": {
        "colab": {
          "base_uri": "https://localhost:8080/",
          "height": 648
        },
        "id": "wx8bxVGBmQvF",
        "outputId": "9ad0f525-323b-4f37-df61-d63a1b05a279"
      },
      "source": [
        "font = {'size' : 15}\n",
        "\n",
        "plt.rc('font', **font)\n",
        "\n",
        "cnf_matrix = confusion_matrix(y_val, preds>thresholds[ix])\n",
        "plt.figure(figsize=(10, 8))\n",
        "plot_confusion_matrix(cnf_matrix, classes=['NonChurn', 'Churn'],\n",
        "                      title='Confusion matrix')\n",
        "plt.savefig(\"conf_matrix.png\")\n",
        "plt.show()"
      ],
      "execution_count": 29,
      "outputs": [
        {
          "output_type": "stream",
          "text": [
            "Confusion matrix, without normalization\n",
            "[[1858  133]\n",
            " [ 202  307]]\n"
          ],
          "name": "stdout"
        },
        {
          "output_type": "display_data",
          "data": {
            "image/png": "[encoded data removed]",
            "text/plain": [
              "<Figure size 720x576 with 2 Axes>"
            ]
          },
          "metadata": {
            "tags": [],
            "needs_background": "light"
          }
        }
      ]
    },
    {
      "cell_type": "code",
      "metadata": {
        "id": "8ShWpRKvmWa6"
      },
      "source": [
        "models_results['Model'].append('Catboost')\n",
        "models_results['F-score'].append(fscore[ix])\n",
        "models_results['Precision'].append(precision[ix])\n",
        "models_results['Recall'].append(recall[ix])\n",
        "models_results['ROC-AUC'].append(roc_auc_score(y_val, preds))\n",
        "models_results['Confusion Matrix'].append(cnf_matrix)"
      ],
      "execution_count": 30,
      "outputs": []
    },
    {
      "cell_type": "markdown",
      "metadata": {
        "id": "pP-pGXMhpVxu"
      },
      "source": [
        "Сделаем модель логистической регрессии"
      ]
    },
    {
      "cell_type": "code",
      "metadata": {
        "id": "EKQu6g0upR-f"
      },
      "source": [
        "X_train, X_test, y_train, y_test = train_test_split(df[feature_cols], df[target], random_state=SEED)"
      ],
      "execution_count": 31,
      "outputs": []
    },
    {
      "cell_type": "code",
      "metadata": {
        "id": "mCLjqbYKpoJA"
      },
      "source": [
        "#Сделаем трансформер для колонок: числовых признаков с помощью StandardScaler, и категориальных с помощью OneHotEncoder\n",
        "t = [('cat', OneHotEncoder(drop='first'), categorical_columns), ('num', StandardScaler(), continuous_columns)]\n",
        "col_transform = ColumnTransformer(transformers=t)"
      ],
      "execution_count": 32,
      "outputs": []
    },
    {
      "cell_type": "code",
      "metadata": {
        "id": "gMWwkavpps7d"
      },
      "source": [
        "model = make_pipeline(\n",
        "    col_transform,\n",
        "    LogisticRegression(random_state = SEED))"
      ],
      "execution_count": 33,
      "outputs": []
    },
    {
      "cell_type": "code",
      "metadata": {
        "colab": {
          "base_uri": "https://localhost:8080/"
        },
        "id": "f4ZwKtI6qEoi",
        "outputId": "6743d118-434e-4d7c-fe08-b1d0b3bfbfe8"
      },
      "source": [
        "model.fit(X_train, y_train)"
      ],
      "execution_count": 34,
      "outputs": [
        {
          "output_type": "execute_result",
          "data": {
            "text/plain": [
              "Pipeline(memory=None,\n",
              "         steps=[('columntransformer',\n",
              "                 ColumnTransformer(n_jobs=None, remainder='drop',\n",
              "                                   sparse_threshold=0.3,\n",
              "                                   transformer_weights=None,\n",
              "                                   transformers=[('cat',\n",
              "                                                  OneHotEncoder(categories='auto',\n",
              "                                                                drop='first',\n",
              "                                                                dtype=<class 'numpy.float64'>,\n",
              "                                                                handle_unknown='error',\n",
              "                                                                sparse=True),\n",
              "                                                  ['Geography', 'Gender',\n",
              "                                                   'Tenure', 'HasCrCard',\n",
              "                                                   'IsActiveMember']),\n",
              "                                                 ('num',\n",
              "                                                  Standard...\n",
              "                                                  ['CreditScore', 'Age',\n",
              "                                                   'Balance', 'NumOfProducts',\n",
              "                                                   'EstimatedSalary'])],\n",
              "                                   verbose=False)),\n",
              "                ('logisticregression',\n",
              "                 LogisticRegression(C=1.0, class_weight=None, dual=False,\n",
              "                                    fit_intercept=True, intercept_scaling=1,\n",
              "                                    l1_ratio=None, max_iter=100,\n",
              "                                    multi_class='auto', n_jobs=None,\n",
              "                                    penalty='l2', random_state=0,\n",
              "                                    solver='lbfgs', tol=0.0001, verbose=0,\n",
              "                                    warm_start=False))],\n",
              "         verbose=False)"
            ]
          },
          "metadata": {
            "tags": []
          },
          "execution_count": 34
        }
      ]
    },
    {
      "cell_type": "code",
      "metadata": {
        "id": "mEHACbRXqIfj"
      },
      "source": [
        "preds = model.predict_proba(X_test)[:, 1]"
      ],
      "execution_count": 35,
      "outputs": []
    },
    {
      "cell_type": "code",
      "metadata": {
        "colab": {
          "base_uri": "https://localhost:8080/"
        },
        "id": "Ob1nUTHYqO58",
        "outputId": "ffa0d62b-7a39-4e35-d02c-7d222e97713f"
      },
      "source": [
        "precision, recall, thresholds = precision_recall_curve(y_val, preds)\n",
        "\n",
        "fscore = (2 * precision * recall) / (precision + recall)\n",
        "# locate the index of the largest f score\n",
        "ix = np.argmax(fscore)\n",
        "print('Best Threshold=%f, F-Score=%.3f, Precision=%.3f, Recall=%.3f' % (thresholds[ix], \n",
        "                                                                        fscore[ix],\n",
        "                                                                        precision[ix],\n",
        "                                                                        recall[ix]))"
      ],
      "execution_count": 36,
      "outputs": [
        {
          "output_type": "stream",
          "text": [
            "Best Threshold=0.284569, F-Score=0.509, Precision=0.455, Recall=0.578\n"
          ],
          "name": "stdout"
        }
      ]
    },
    {
      "cell_type": "code",
      "metadata": {
        "colab": {
          "base_uri": "https://localhost:8080/",
          "height": 648
        },
        "id": "pis97j7BqS_l",
        "outputId": "5156100b-94c6-4cf4-bc10-395accf10f2d"
      },
      "source": [
        "font = {'size' : 15}\n",
        "\n",
        "plt.rc('font', **font)\n",
        "\n",
        "cnf_matrix = confusion_matrix(y_test, preds>thresholds[ix])\n",
        "plt.figure(figsize=(10, 8))\n",
        "plot_confusion_matrix(cnf_matrix, classes=['NonChurn', 'Churn'],\n",
        "                      title='Confusion matrix')\n",
        "plt.savefig(\"conf_matrix.png\")\n",
        "plt.show()"
      ],
      "execution_count": 37,
      "outputs": [
        {
          "output_type": "stream",
          "text": [
            "Confusion matrix, without normalization\n",
            "[[1639  352]\n",
            " [ 216  293]]\n"
          ],
          "name": "stdout"
        },
        {
          "output_type": "display_data",
          "data": {
            "image/png": "[encoded data removed]",
            "text/plain": [
              "<Figure size 720x576 with 2 Axes>"
            ]
          },
          "metadata": {
            "tags": [],
            "needs_background": "light"
          }
        }
      ]
    },
    {
      "cell_type": "code",
      "metadata": {
        "id": "pCH-wiwUqXWd"
      },
      "source": [
        "models_results['Model'].append('LogRegression')\n",
        "models_results['F-score'].append(fscore[ix])\n",
        "models_results['Precision'].append(precision[ix])\n",
        "models_results['Recall'].append(recall[ix])\n",
        "models_results['ROC-AUC'].append(roc_auc_score(y_val, preds))\n",
        "models_results['Confusion Matrix'].append(cnf_matrix)"
      ],
      "execution_count": 38,
      "outputs": []
    },
    {
      "cell_type": "code",
      "metadata": {
        "colab": {
          "base_uri": "https://localhost:8080/",
          "height": 143
        },
        "id": "Ddp5lfI-qomu",
        "outputId": "1811b533-136f-4e2e-fc31-6d25b565210b"
      },
      "source": [
        "pd.DataFrame(data=models_results).sort_values('Precision', ascending=False)"
      ],
      "execution_count": 39,
      "outputs": [
        {
          "output_type": "execute_result",
          "data": {
            "text/html": [
              "<div>\n",
              "<style scoped>\n",
              "    .dataframe tbody tr th:only-of-type {\n",
              "        vertical-align: middle;\n",
              "    }\n",
              "\n",
              "    .dataframe tbody tr th {\n",
              "        vertical-align: top;\n",
              "    }\n",
              "\n",
              "    .dataframe thead th {\n",
              "        text-align: right;\n",
              "    }\n",
              "</style>\n",
              "<table border=\"1\" class=\"dataframe\">\n",
              "  <thead>\n",
              "    <tr style=\"text-align: right;\">\n",
              "      <th></th>\n",
              "      <th>Model</th>\n",
              "      <th>F-score</th>\n",
              "      <th>Precision</th>\n",
              "      <th>Recall</th>\n",
              "      <th>ROC-AUC</th>\n",
              "      <th>Confusion Matrix</th>\n",
              "    </tr>\n",
              "  </thead>\n",
              "  <tbody>\n",
              "    <tr>\n",
              "      <th>1</th>\n",
              "      <td>Catboost</td>\n",
              "      <td>0.648421</td>\n",
              "      <td>0.698413</td>\n",
              "      <td>0.605108</td>\n",
              "      <td>0.879072</td>\n",
              "      <td>[[1858, 133], [202, 307]]</td>\n",
              "    </tr>\n",
              "    <tr>\n",
              "      <th>0</th>\n",
              "      <td>RandomForest</td>\n",
              "      <td>0.649669</td>\n",
              "      <td>0.625455</td>\n",
              "      <td>0.675835</td>\n",
              "      <td>0.865678</td>\n",
              "      <td>[[1795, 196], [172, 337]]</td>\n",
              "    </tr>\n",
              "    <tr>\n",
              "      <th>2</th>\n",
              "      <td>LogRegression</td>\n",
              "      <td>0.509091</td>\n",
              "      <td>0.455108</td>\n",
              "      <td>0.577603</td>\n",
              "      <td>0.772102</td>\n",
              "      <td>[[1639, 352], [216, 293]]</td>\n",
              "    </tr>\n",
              "  </tbody>\n",
              "</table>\n",
              "</div>"
            ],
            "text/plain": [
              "           Model   F-score  ...   ROC-AUC           Confusion Matrix\n",
              "1       Catboost  0.648421  ...  0.879072  [[1858, 133], [202, 307]]\n",
              "0   RandomForest  0.649669  ...  0.865678  [[1795, 196], [172, 337]]\n",
              "2  LogRegression  0.509091  ...  0.772102  [[1639, 352], [216, 293]]\n",
              "\n",
              "[3 rows x 6 columns]"
            ]
          },
          "metadata": {
            "tags": []
          },
          "execution_count": 39
        }
      ]
    },
    {
      "cell_type": "markdown",
      "metadata": {
        "id": "h8eispF5sNAc"
      },
      "source": [
        "Мне кажется нам тут важнее будет `Precision`, так как мы тратим на каждое предложение клиенту деньги, и каждый `FP` это потеря денег, нам важно получить как можно больше `TP` ."
      ]
    },
    {
      "cell_type": "code",
      "metadata": {
        "colab": {
          "base_uri": "https://localhost:8080/",
          "height": 648
        },
        "id": "ywD9I2Q5sIUo",
        "outputId": "16fdc31a-3775-4a9b-992e-cc3e20c80d82"
      },
      "source": [
        "font = {'size' : 15}\n",
        "\n",
        "plt.rc('font', **font)\n",
        "\n",
        "plt.figure(figsize=(10, 8))\n",
        "plot_confusion_matrix(models_results['Confusion Matrix'][-2], classes=['NonChurn', 'Churn'],\n",
        "                      title='Confusion matrix')\n",
        "plt.savefig(\"conf_matrix.png\")\n",
        "plt.show()"
      ],
      "execution_count": 40,
      "outputs": [
        {
          "output_type": "stream",
          "text": [
            "Confusion matrix, without normalization\n",
            "[[1858  133]\n",
            " [ 202  307]]\n"
          ],
          "name": "stdout"
        },
        {
          "output_type": "display_data",
          "data": {
            "image/png": "[encoded data removed]",
            "text/plain": [
              "<Figure size 720x576 with 2 Axes>"
            ]
          },
          "metadata": {
            "tags": [],
            "needs_background": "light"
          }
        }
      ]
    },
    {
      "cell_type": "markdown",
      "metadata": {
        "id": "N5mXtMNRtSU3"
      },
      "source": [
        "сделать оценку экономической эффективности при тех же вводных, как в вопросе 2 (1 доллар на привлечение, 2 доллара - с каждого правильно классифицированного (True Positive) удержанного)"
      ]
    },
    {
      "cell_type": "code",
      "metadata": {
        "colab": {
          "base_uri": "https://localhost:8080/"
        },
        "id": "2_8ZISFgtAVg",
        "outputId": "88deddad-2622-4dd2-d447-cb2c9120bec3"
      },
      "source": [
        "FP = 133\n",
        "TP = 307\n",
        "income = TP * 2\n",
        "expense = (TP+FP)\n",
        "print(f'Экономическая эффективность: {income - expense}$')"
      ],
      "execution_count": 41,
      "outputs": [
        {
          "output_type": "stream",
          "text": [
            "Экономическая эффективность: 174$\n"
          ],
          "name": "stdout"
        }
      ]
    },
    {
      "cell_type": "markdown",
      "metadata": {
        "id": "Xjbl5oD1u5z_"
      },
      "source": [
        "Попробуем оптимизировать лучшую модель, т.е Catboost"
      ]
    },
    {
      "cell_type": "code",
      "metadata": {
        "id": "7LRuKi5MwS_w"
      },
      "source": [
        "X_train, X_val, y_train, y_val = train_test_split(df[feature_cols], df[target], \n",
        "                                                  random_state=SEED)"
      ],
      "execution_count": 284,
      "outputs": []
    },
    {
      "cell_type": "code",
      "metadata": {
        "id": "TwvwcAMLt227"
      },
      "source": [
        "frozen_params = {\n",
        "     'auto_class_weights' : 'Balanced',\n",
        "     #'class_weights':[1, disbalance], \n",
        "     'silent':True,\n",
        "     'random_state':SEED,\n",
        "     'cat_features':categorical_columns,\n",
        "     'eval_metric':'F1',\n",
        "     'early_stopping_rounds':200,\n",
        "}"
      ],
      "execution_count": 285,
      "outputs": []
    },
    {
      "cell_type": "code",
      "metadata": {
        "id": "N_aMmStkwX2l"
      },
      "source": [
        "clf_balanced = catboost.CatBoostClassifier(**frozen_params)"
      ],
      "execution_count": 286,
      "outputs": []
    },
    {
      "cell_type": "code",
      "metadata": {
        "id": "RC-L8kq_wZ8G"
      },
      "source": [
        "cv = StratifiedKFold(n_splits=5, random_state=SEED, shuffle=True)"
      ],
      "execution_count": 287,
      "outputs": []
    },
    {
      "cell_type": "code",
      "metadata": {
        "id": "Q7ZfdSCDwiI1"
      },
      "source": [
        "params = {'n_estimators':[500, 1000], \n",
        "          'max_depth':[3,5,7,9],\n",
        "          'l2_leaf_reg': [5,9]\n",
        "          }"
      ],
      "execution_count": 288,
      "outputs": []
    },
    {
      "cell_type": "code",
      "metadata": {
        "colab": {
          "base_uri": "https://localhost:8080/"
        },
        "id": "Sp9ljyUYw5kI",
        "outputId": "19a2fa2f-ba45-4d4c-deed-9efddaf4d142"
      },
      "source": [
        "grid_search = clf_balanced.grid_search(params, X_train, y_train, cv=cv, stratified=True, refit=True)"
      ],
      "execution_count": 289,
      "outputs": [
        {
          "output_type": "stream",
          "text": [
            "\n",
            "bestTest = 0.7732094915\n",
            "bestIteration = 442\n",
            "\n",
            "0:\tloss: 0.7732095\tbest: 0.7732095 (0)\ttotal: 2.76s\tremaining: 41.3s\n",
            "\n",
            "bestTest = 0.7722088206\n",
            "bestIteration = 473\n",
            "\n",
            "1:\tloss: 0.7722088\tbest: 0.7732095 (0)\ttotal: 5.56s\tremaining: 38.9s\n",
            "Stopped by overfitting detector  (200 iterations wait)\n",
            "\n",
            "bestTest = 0.7732094915\n",
            "bestIteration = 442\n",
            "\n",
            "2:\tloss: 0.7732095\tbest: 0.7732095 (0)\ttotal: 9.07s\tremaining: 39.3s\n",
            "Stopped by overfitting detector  (200 iterations wait)\n",
            "\n",
            "bestTest = 0.773543625\n",
            "bestIteration = 525\n",
            "\n",
            "3:\tloss: 0.7735436\tbest: 0.7735436 (3)\ttotal: 13.1s\tremaining: 39.3s\n",
            "Stopped by overfitting detector  (200 iterations wait)\n",
            "\n",
            "bestTest = 0.7748226561\n",
            "bestIteration = 212\n",
            "\n",
            "4:\tloss: 0.7748227\tbest: 0.7748227 (4)\ttotal: 16.2s\tremaining: 35.5s\n",
            "Stopped by overfitting detector  (200 iterations wait)\n",
            "\n",
            "bestTest = 0.7686330605\n",
            "bestIteration = 171\n",
            "\n",
            "5:\tloss: 0.7686331\tbest: 0.7748227 (4)\ttotal: 18.9s\tremaining: 31.4s\n",
            "Stopped by overfitting detector  (200 iterations wait)\n",
            "\n",
            "bestTest = 0.7748226561\n",
            "bestIteration = 212\n",
            "\n",
            "6:\tloss: 0.7748227\tbest: 0.7748227 (4)\ttotal: 21.9s\tremaining: 28.1s\n",
            "Stopped by overfitting detector  (200 iterations wait)\n",
            "\n",
            "bestTest = 0.7686330605\n",
            "bestIteration = 171\n",
            "\n",
            "7:\tloss: 0.7686331\tbest: 0.7748227 (4)\ttotal: 24.6s\tremaining: 24.6s\n",
            "Stopped by overfitting detector  (200 iterations wait)\n",
            "\n",
            "bestTest = 0.7666317143\n",
            "bestIteration = 45\n",
            "\n",
            "8:\tloss: 0.7666317\tbest: 0.7748227 (4)\ttotal: 26.9s\tremaining: 20.9s\n",
            "Stopped by overfitting detector  (200 iterations wait)\n",
            "\n",
            "bestTest = 0.7718027748\n",
            "bestIteration = 150\n",
            "\n",
            "9:\tloss: 0.7718028\tbest: 0.7748227 (4)\ttotal: 30.1s\tremaining: 18.1s\n",
            "Stopped by overfitting detector  (200 iterations wait)\n",
            "\n",
            "bestTest = 0.7666317143\n",
            "bestIteration = 45\n",
            "\n",
            "10:\tloss: 0.7666317\tbest: 0.7748227 (4)\ttotal: 32.4s\tremaining: 14.7s\n",
            "Stopped by overfitting detector  (200 iterations wait)\n",
            "\n",
            "bestTest = 0.7718027748\n",
            "bestIteration = 150\n",
            "\n",
            "11:\tloss: 0.7718028\tbest: 0.7748227 (4)\ttotal: 35.7s\tremaining: 11.9s\n",
            "Stopped by overfitting detector  (200 iterations wait)\n",
            "\n",
            "bestTest = 0.7632091927\n",
            "bestIteration = 29\n",
            "\n",
            "12:\tloss: 0.7632092\tbest: 0.7748227 (4)\ttotal: 38.8s\tremaining: 8.94s\n",
            "Stopped by overfitting detector  (200 iterations wait)\n",
            "\n",
            "bestTest = 0.7670585194\n",
            "bestIteration = 14\n",
            "\n",
            "13:\tloss: 0.7670585\tbest: 0.7748227 (4)\ttotal: 41.7s\tremaining: 5.95s\n",
            "Stopped by overfitting detector  (200 iterations wait)\n",
            "\n",
            "bestTest = 0.7632091927\n",
            "bestIteration = 29\n",
            "\n",
            "14:\tloss: 0.7632092\tbest: 0.7748227 (4)\ttotal: 44.8s\tremaining: 2.98s\n",
            "Stopped by overfitting detector  (200 iterations wait)\n",
            "\n",
            "bestTest = 0.7670585194\n",
            "bestIteration = 14\n",
            "\n",
            "15:\tloss: 0.7670585\tbest: 0.7748227 (4)\ttotal: 47.7s\tremaining: 0us\n",
            "Estimating final quality...\n",
            "Stopped by overfitting detector  (200 iterations wait)\n"
          ],
          "name": "stdout"
        }
      ]
    },
    {
      "cell_type": "code",
      "metadata": {
        "id": "mUmFQu5jxRni"
      },
      "source": [
        "preds = clf_balanced.predict_proba(X_val)[:, 1]"
      ],
      "execution_count": 290,
      "outputs": []
    },
    {
      "cell_type": "code",
      "metadata": {
        "colab": {
          "base_uri": "https://localhost:8080/"
        },
        "id": "xfPGiC3AxiLB",
        "outputId": "dfe79c2c-8d54-474a-f561-40abad4ee1e9"
      },
      "source": [
        "precision, recall, thresholds = precision_recall_curve(y_val, preds)\n",
        "\n",
        "fscore = ((1 + 0.8**2) * precision * recall) / (0.8**2 * precision + recall)\n",
        "#fscore = (2 * precision * recall) / (precision + recall)\n",
        "# locate the index of the largest f score\n",
        "ix = np.argmax(fscore)\n",
        "print('Best Threshold=%f, F-Score=%.3f, Precision=%.3f, Recall=%.3f' % (thresholds[ix], \n",
        "                                                                        fscore[ix],\n",
        "                                                                        precision[ix],\n",
        "                                                                        recall[ix]))"
      ],
      "execution_count": 291,
      "outputs": [
        {
          "output_type": "stream",
          "text": [
            "Best Threshold=0.681503, F-Score=0.655, Precision=0.666, Recall=0.639\n"
          ],
          "name": "stdout"
        }
      ]
    },
    {
      "cell_type": "code",
      "metadata": {
        "colab": {
          "base_uri": "https://localhost:8080/",
          "height": 648
        },
        "id": "_6FTY4R9xm0d",
        "outputId": "df143def-7eb7-4003-8165-aecd7f138e55"
      },
      "source": [
        "font = {'size' : 15}\n",
        "\n",
        "plt.rc('font', **font)\n",
        "\n",
        "cnf_matrix = confusion_matrix(y_val, preds>thresholds[ix])\n",
        "plt.figure(figsize=(10, 8))\n",
        "plot_confusion_matrix(cnf_matrix, classes=['NonChurn', 'Churn'],\n",
        "                      title='Confusion matrix')\n",
        "plt.savefig(\"conf_matrix.png\")\n",
        "plt.show()"
      ],
      "execution_count": 292,
      "outputs": [
        {
          "output_type": "stream",
          "text": [
            "Confusion matrix, without normalization\n",
            "[[1828  163]\n",
            " [ 185  324]]\n"
          ],
          "name": "stdout"
        },
        {
          "output_type": "display_data",
          "data": {
            "image/png": "[encoded data removed]",
            "text/plain": [
              "<Figure size 720x576 with 2 Axes>"
            ]
          },
          "metadata": {
            "tags": [],
            "needs_background": "light"
          }
        }
      ]
    },
    {
      "cell_type": "code",
      "metadata": {
        "colab": {
          "base_uri": "https://localhost:8080/"
        },
        "id": "vkW5uOEJxxlw",
        "outputId": "e4d62e06-1453-404b-dd36-b55e55c0a769"
      },
      "source": [
        "FP = 163\n",
        "TP = 324\n",
        "income = TP * 2\n",
        "expense = (TP+FP)\n",
        "print(f'Экономическая эффективность: {income - expense}$')"
      ],
      "execution_count": 293,
      "outputs": [
        {
          "output_type": "stream",
          "text": [
            "Экономическая эффективность: 161$\n"
          ],
          "name": "stdout"
        }
      ]
    },
    {
      "cell_type": "code",
      "metadata": {
        "id": "NP6NFQkV3-fk"
      },
      "source": [
        "import pickle\n",
        "import optuna"
      ],
      "execution_count": 47,
      "outputs": []
    },
    {
      "cell_type": "code",
      "metadata": {
        "id": "uJpimp1h_mBo"
      },
      "source": [
        "def objective(trial):\n",
        "    train_x, valid_x, train_y, valid_y = train_test_split(df[feature_cols], df[target], \n",
        "                                                  test_size=0.2, random_state=SEED, stratify=df[target])\n",
        "    \n",
        "    disbalance = y_train.value_counts()[0] / y_train.value_counts()[1]\n",
        "\n",
        "    param = {\n",
        "        \"objective\": \"Logloss\",\n",
        "        \"depth\": trial.suggest_int(\"depth\", 1, 12),\n",
        "        \"used_ram_limit\": \"3gb\",\n",
        "        'cat_features':categorical_columns,\n",
        "        'l2_leaf_reg': trial.suggest_int(\"l2_leaf_reg\", 1, 20),\n",
        "        'eval_metric':'F1',\n",
        "        'n_estimators':trial.suggest_int(\"n_estimators\", 1000, 10000, 500),\n",
        "        'class_weights':[1, disbalance]\n",
        "\n",
        "    }\n",
        "\n",
        "\n",
        "    gbm = catboost.CatBoostClassifier(**param)\n",
        "    # cv = StratifiedKFold(n_splits=7, random_state=SEED, shuffle=True)\n",
        "    gbm.fit(train_x, train_y, eval_set=(valid_x, valid_y), verbose=0, early_stopping_rounds=400)\n",
        "\n",
        "    preds = gbm.predict_proba(valid_x)[:, 1]\n",
        "    # pred_labels = np.rint(preds)\n",
        "    precision, recall, thresholds = precision_recall_curve(valid_y, preds)\n",
        "    fscore = ((1 + 1**2) * precision * recall) / (1**2 * precision + recall)\n",
        "    ix = np.argmax(fscore)\n",
        "    #accuracy = roc_auc_score(valid_y, preds)\n",
        "        # Save a trained model to a file.\n",
        "    with open(\"{}.pickle\".format(trial.number), \"wb\") as fout:\n",
        "         pickle.dump(gbm, fout)\n",
        "    return fscore[ix]"
      ],
      "execution_count": 86,
      "outputs": []
    },
    {
      "cell_type": "code",
      "metadata": {
        "colab": {
          "base_uri": "https://localhost:8080/"
        },
        "id": "_A_kV7hE_32Z",
        "outputId": "0d83f474-f82b-42f8-ac70-7635cfde2ef6"
      },
      "source": [
        "study = optuna.create_study(direction=\"maximize\")\n",
        "study.optimize(objective, n_trials=50, timeout=600)"
      ],
      "execution_count": 87,
      "outputs": [
        {
          "output_type": "stream",
          "text": [
            "\u001b[32m[I 2021-03-21 23:22:13,474]\u001b[0m A new study created in memory with name: no-name-1b0a81d4-813e-422e-86a2-2333f26b6c10\u001b[0m\n",
            "\u001b[32m[I 2021-03-21 23:22:20,387]\u001b[0m Trial 0 finished with value: 0.6266318537859008 and parameters: {'depth': 8, 'l2_leaf_reg': 3, 'n_estimators': 6000}. Best is trial 0 with value: 0.6266318537859008.\u001b[0m\n",
            "\u001b[32m[I 2021-03-21 23:22:42,858]\u001b[0m Trial 1 finished with value: 0.6186335403726708 and parameters: {'depth': 12, 'l2_leaf_reg': 8, 'n_estimators': 7000}. Best is trial 0 with value: 0.6266318537859008.\u001b[0m\n",
            "\u001b[32m[I 2021-03-21 23:22:50,447]\u001b[0m Trial 2 finished with value: 0.6251588310038119 and parameters: {'depth': 7, 'l2_leaf_reg': 17, 'n_estimators': 4500}. Best is trial 0 with value: 0.6266318537859008.\u001b[0m\n",
            "\u001b[32m[I 2021-03-21 23:22:59,170]\u001b[0m Trial 3 finished with value: 0.6261558784676354 and parameters: {'depth': 9, 'l2_leaf_reg': 9, 'n_estimators': 1500}. Best is trial 0 with value: 0.6266318537859008.\u001b[0m\n",
            "\u001b[32m[I 2021-03-21 23:23:07,857]\u001b[0m Trial 4 finished with value: 0.6212319790301442 and parameters: {'depth': 8, 'l2_leaf_reg': 17, 'n_estimators': 5000}. Best is trial 0 with value: 0.6266318537859008.\u001b[0m\n",
            "\u001b[32m[I 2021-03-21 23:23:10,910]\u001b[0m Trial 5 finished with value: 0.6085918854415274 and parameters: {'depth': 2, 'l2_leaf_reg': 13, 'n_estimators': 2500}. Best is trial 0 with value: 0.6266318537859008.\u001b[0m\n",
            "\u001b[32m[I 2021-03-21 23:23:16,319]\u001b[0m Trial 6 finished with value: 0.6326530612244898 and parameters: {'depth': 3, 'l2_leaf_reg': 1, 'n_estimators': 1000}. Best is trial 6 with value: 0.6326530612244898.\u001b[0m\n",
            "\u001b[32m[I 2021-03-21 23:23:20,978]\u001b[0m Trial 7 finished with value: 0.6334106728538283 and parameters: {'depth': 5, 'l2_leaf_reg': 3, 'n_estimators': 8500}. Best is trial 7 with value: 0.6334106728538283.\u001b[0m\n",
            "\u001b[32m[I 2021-03-21 23:23:25,258]\u001b[0m Trial 8 finished with value: 0.6197854588796186 and parameters: {'depth': 2, 'l2_leaf_reg': 10, 'n_estimators': 9000}. Best is trial 7 with value: 0.6334106728538283.\u001b[0m\n",
            "\u001b[32m[I 2021-03-21 23:23:33,746]\u001b[0m Trial 9 finished with value: 0.6246648793565684 and parameters: {'depth': 7, 'l2_leaf_reg': 20, 'n_estimators': 9000}. Best is trial 7 with value: 0.6334106728538283.\u001b[0m\n",
            "\u001b[32m[I 2021-03-21 23:23:39,944]\u001b[0m Trial 10 finished with value: 0.6322418136020151 and parameters: {'depth': 4, 'l2_leaf_reg': 5, 'n_estimators': 8000}. Best is trial 7 with value: 0.6334106728538283.\u001b[0m\n",
            "\u001b[32m[I 2021-03-21 23:23:45,613]\u001b[0m Trial 11 finished with value: 0.6327827191867852 and parameters: {'depth': 4, 'l2_leaf_reg': 1, 'n_estimators': 10000}. Best is trial 7 with value: 0.6334106728538283.\u001b[0m\n",
            "\u001b[32m[I 2021-03-21 23:23:51,292]\u001b[0m Trial 12 finished with value: 0.6289752650176678 and parameters: {'depth': 5, 'l2_leaf_reg': 1, 'n_estimators': 10000}. Best is trial 7 with value: 0.6334106728538283.\u001b[0m\n",
            "\u001b[32m[I 2021-03-21 23:23:56,564]\u001b[0m Trial 13 finished with value: 0.628498727735369 and parameters: {'depth': 5, 'l2_leaf_reg': 5, 'n_estimators': 10000}. Best is trial 7 with value: 0.6334106728538283.\u001b[0m\n",
            "\u001b[32m[I 2021-03-21 23:23:59,921]\u001b[0m Trial 14 finished with value: 0.5948275862068965 and parameters: {'depth': 1, 'l2_leaf_reg': 1, 'n_estimators': 8000}. Best is trial 7 with value: 0.6334106728538283.\u001b[0m\n",
            "\u001b[32m[I 2021-03-21 23:24:05,288]\u001b[0m Trial 15 finished with value: 0.628498727735369 and parameters: {'depth': 5, 'l2_leaf_reg': 5, 'n_estimators': 9500}. Best is trial 7 with value: 0.6334106728538283.\u001b[0m\n",
            "\u001b[32m[I 2021-03-21 23:24:15,668]\u001b[0m Trial 16 finished with value: 0.6150341685649203 and parameters: {'depth': 11, 'l2_leaf_reg': 3, 'n_estimators': 8000}. Best is trial 7 with value: 0.6334106728538283.\u001b[0m\n",
            "\u001b[32m[I 2021-03-21 23:24:20,916]\u001b[0m Trial 17 finished with value: 0.6296774193548387 and parameters: {'depth': 4, 'l2_leaf_reg': 7, 'n_estimators': 6500}. Best is trial 7 with value: 0.6334106728538283.\u001b[0m\n",
            "\u001b[32m[I 2021-03-21 23:24:26,956]\u001b[0m Trial 18 finished with value: 0.631979695431472 and parameters: {'depth': 6, 'l2_leaf_reg': 13, 'n_estimators': 3500}. Best is trial 7 with value: 0.6334106728538283.\u001b[0m\n",
            "\u001b[32m[I 2021-03-21 23:24:33,036]\u001b[0m Trial 19 finished with value: 0.6299019607843138 and parameters: {'depth': 3, 'l2_leaf_reg': 3, 'n_estimators': 7500}. Best is trial 7 with value: 0.6334106728538283.\u001b[0m\n",
            "\u001b[32m[I 2021-03-21 23:24:42,421]\u001b[0m Trial 20 finished with value: 0.6295336787564767 and parameters: {'depth': 10, 'l2_leaf_reg': 6, 'n_estimators': 9000}. Best is trial 7 with value: 0.6334106728538283.\u001b[0m\n",
            "\u001b[32m[I 2021-03-21 23:24:47,870]\u001b[0m Trial 21 finished with value: 0.6326530612244898 and parameters: {'depth': 3, 'l2_leaf_reg': 1, 'n_estimators': 1000}. Best is trial 7 with value: 0.6334106728538283.\u001b[0m\n",
            "\u001b[32m[I 2021-03-21 23:24:51,155]\u001b[0m Trial 22 finished with value: 0.5948275862068965 and parameters: {'depth': 1, 'l2_leaf_reg': 1, 'n_estimators': 3500}. Best is trial 7 with value: 0.6334106728538283.\u001b[0m\n",
            "\u001b[32m[I 2021-03-21 23:24:57,299]\u001b[0m Trial 23 finished with value: 0.6299019607843138 and parameters: {'depth': 3, 'l2_leaf_reg': 3, 'n_estimators': 10000}. Best is trial 7 with value: 0.6334106728538283.\u001b[0m\n",
            "\u001b[32m[I 2021-03-21 23:25:02,026]\u001b[0m Trial 24 finished with value: 0.6264441591784338 and parameters: {'depth': 4, 'l2_leaf_reg': 2, 'n_estimators': 5500}. Best is trial 7 with value: 0.6334106728538283.\u001b[0m\n",
            "\u001b[32m[I 2021-03-21 23:25:08,172]\u001b[0m Trial 25 finished with value: 0.631979695431472 and parameters: {'depth': 6, 'l2_leaf_reg': 4, 'n_estimators': 2000}. Best is trial 7 with value: 0.6334106728538283.\u001b[0m\n",
            "\u001b[32m[I 2021-03-21 23:25:10,737]\u001b[0m Trial 26 finished with value: 0.6033254156769596 and parameters: {'depth': 2, 'l2_leaf_reg': 1, 'n_estimators': 8500}. Best is trial 7 with value: 0.6334106728538283.\u001b[0m\n",
            "\u001b[32m[I 2021-03-21 23:25:16,231]\u001b[0m Trial 27 finished with value: 0.6302325581395348 and parameters: {'depth': 5, 'l2_leaf_reg': 12, 'n_estimators': 4000}. Best is trial 7 with value: 0.6334106728538283.\u001b[0m\n",
            "\u001b[32m[I 2021-03-21 23:25:20,834]\u001b[0m Trial 28 finished with value: 0.6318537859007832 and parameters: {'depth': 4, 'l2_leaf_reg': 6, 'n_estimators': 7000}. Best is trial 7 with value: 0.6334106728538283.\u001b[0m\n",
            "\u001b[32m[I 2021-03-21 23:25:27,256]\u001b[0m Trial 29 finished with value: 0.6315789473684211 and parameters: {'depth': 6, 'l2_leaf_reg': 2, 'n_estimators': 5500}. Best is trial 7 with value: 0.6334106728538283.\u001b[0m\n",
            "\u001b[32m[I 2021-03-21 23:25:33,066]\u001b[0m Trial 30 finished with value: 0.6294919454770757 and parameters: {'depth': 3, 'l2_leaf_reg': 4, 'n_estimators': 6000}. Best is trial 7 with value: 0.6334106728538283.\u001b[0m\n",
            "\u001b[32m[I 2021-03-21 23:25:38,693]\u001b[0m Trial 31 finished with value: 0.6326530612244898 and parameters: {'depth': 3, 'l2_leaf_reg': 1, 'n_estimators': 1000}. Best is trial 7 with value: 0.6334106728538283.\u001b[0m\n",
            "\u001b[32m[I 2021-03-21 23:25:41,463]\u001b[0m Trial 32 finished with value: 0.6065773447015834 and parameters: {'depth': 2, 'l2_leaf_reg': 2, 'n_estimators': 1000}. Best is trial 7 with value: 0.6334106728538283.\u001b[0m\n",
            "\u001b[32m[I 2021-03-21 23:25:48,613]\u001b[0m Trial 33 finished with value: 0.6251621271076524 and parameters: {'depth': 4, 'l2_leaf_reg': 3, 'n_estimators': 2500}. Best is trial 7 with value: 0.6334106728538283.\u001b[0m\n",
            "\u001b[32m[I 2021-03-21 23:25:52,000]\u001b[0m Trial 34 finished with value: 0.5948275862068965 and parameters: {'depth': 1, 'l2_leaf_reg': 1, 'n_estimators': 1500}. Best is trial 7 with value: 0.6334106728538283.\u001b[0m\n",
            "\u001b[32m[I 2021-03-21 23:26:00,158]\u001b[0m Trial 35 finished with value: 0.6273062730627306 and parameters: {'depth': 3, 'l2_leaf_reg': 8, 'n_estimators': 2500}. Best is trial 7 with value: 0.6334106728538283.\u001b[0m\n",
            "\u001b[32m[I 2021-03-21 23:26:06,258]\u001b[0m Trial 36 finished with value: 0.6243781094527363 and parameters: {'depth': 8, 'l2_leaf_reg': 4, 'n_estimators': 1500}. Best is trial 7 with value: 0.6334106728538283.\u001b[0m\n",
            "\u001b[32m[I 2021-03-21 23:26:12,192]\u001b[0m Trial 37 finished with value: 0.6258992805755396 and parameters: {'depth': 5, 'l2_leaf_reg': 2, 'n_estimators': 9500}. Best is trial 7 with value: 0.6334106728538283.\u001b[0m\n",
            "\u001b[32m[I 2021-03-21 23:26:17,004]\u001b[0m Trial 38 finished with value: 0.6218487394957983 and parameters: {'depth': 2, 'l2_leaf_reg': 15, 'n_estimators': 3000}. Best is trial 7 with value: 0.6334106728538283.\u001b[0m\n",
            "\u001b[32m[I 2021-03-21 23:26:24,163]\u001b[0m Trial 39 finished with value: 0.6248492159227985 and parameters: {'depth': 7, 'l2_leaf_reg': 8, 'n_estimators': 4500}. Best is trial 7 with value: 0.6334106728538283.\u001b[0m\n",
            "\u001b[32m[I 2021-03-21 23:26:28,371]\u001b[0m Trial 40 finished with value: 0.6214039125431531 and parameters: {'depth': 3, 'l2_leaf_reg': 20, 'n_estimators': 1000}. Best is trial 7 with value: 0.6334106728538283.\u001b[0m\n",
            "\u001b[32m[I 2021-03-21 23:26:34,131]\u001b[0m Trial 41 finished with value: 0.6327827191867852 and parameters: {'depth': 4, 'l2_leaf_reg': 1, 'n_estimators': 1000}. Best is trial 7 with value: 0.6334106728538283.\u001b[0m\n",
            "\u001b[32m[I 2021-03-21 23:26:38,844]\u001b[0m Trial 42 finished with value: 0.6264441591784338 and parameters: {'depth': 4, 'l2_leaf_reg': 2, 'n_estimators': 2000}. Best is trial 7 with value: 0.6334106728538283.\u001b[0m\n",
            "\u001b[32m[I 2021-03-21 23:26:44,751]\u001b[0m Trial 43 finished with value: 0.6289752650176678 and parameters: {'depth': 5, 'l2_leaf_reg': 1, 'n_estimators': 1500}. Best is trial 7 with value: 0.6334106728538283.\u001b[0m\n",
            "\u001b[32m[I 2021-03-21 23:26:48,057]\u001b[0m Trial 44 finished with value: 0.614823815309842 and parameters: {'depth': 2, 'l2_leaf_reg': 4, 'n_estimators': 1000}. Best is trial 7 with value: 0.6334106728538283.\u001b[0m\n",
            "\u001b[32m[I 2021-03-21 23:26:53,580]\u001b[0m Trial 45 finished with value: 0.6326530612244898 and parameters: {'depth': 3, 'l2_leaf_reg': 1, 'n_estimators': 2000}. Best is trial 7 with value: 0.6334106728538283.\u001b[0m\n",
            "\u001b[32m[I 2021-03-21 23:26:58,622]\u001b[0m Trial 46 finished with value: 0.6262376237623762 and parameters: {'depth': 4, 'l2_leaf_reg': 10, 'n_estimators': 9500}. Best is trial 7 with value: 0.6334106728538283.\u001b[0m\n",
            "\u001b[32m[I 2021-03-21 23:27:05,181]\u001b[0m Trial 47 finished with value: 0.6272493573264781 and parameters: {'depth': 6, 'l2_leaf_reg': 3, 'n_estimators': 8500}. Best is trial 7 with value: 0.6334106728538283.\u001b[0m\n",
            "\u001b[32m[I 2021-03-21 23:27:11,174]\u001b[0m Trial 48 finished with value: 0.6258992805755396 and parameters: {'depth': 5, 'l2_leaf_reg': 2, 'n_estimators': 2000}. Best is trial 7 with value: 0.6334106728538283.\u001b[0m\n",
            "\u001b[32m[I 2021-03-21 23:27:15,763]\u001b[0m Trial 49 finished with value: 0.6318537859007832 and parameters: {'depth': 4, 'l2_leaf_reg': 6, 'n_estimators': 3000}. Best is trial 7 with value: 0.6334106728538283.\u001b[0m\n"
          ],
          "name": "stderr"
        }
      ]
    },
    {
      "cell_type": "code",
      "metadata": {
        "colab": {
          "base_uri": "https://localhost:8080/"
        },
        "id": "FQ8TTSa-A0mr",
        "outputId": "e1fc0524-db06-4fd9-947a-823a54eaafa1"
      },
      "source": [
        "print(\"Number of finished trials: {}\".format(len(study.trials)))\n",
        "\n",
        "print(\"Best trial:\")\n",
        "trial = study.best_trial\n",
        "\n",
        "print(\"  Value: {}\".format(trial.value))\n",
        "\n",
        "print(\"  Params: \")\n",
        "for key, value in trial.params.items():\n",
        "    print(\"    {}: {}\".format(key, value))"
      ],
      "execution_count": 88,
      "outputs": [
        {
          "output_type": "stream",
          "text": [
            "Number of finished trials: 50\n",
            "Best trial:\n",
            "  Value: 0.6334106728538283\n",
            "  Params: \n",
            "    depth: 5\n",
            "    l2_leaf_reg: 3\n",
            "    n_estimators: 8500\n"
          ],
          "name": "stdout"
        }
      ]
    },
    {
      "cell_type": "code",
      "metadata": {
        "id": "c1ImKzOrDw3E"
      },
      "source": [
        "with open(\"{}.pickle\".format(study.best_trial.number), \"rb\") as fin:\n",
        "    best_clf = pickle.load(fin)"
      ],
      "execution_count": 90,
      "outputs": []
    },
    {
      "cell_type": "code",
      "metadata": {
        "id": "VLSakGtZBVay"
      },
      "source": [
        "preds =  best_clf.predict_proba(X_val)[:, 1]"
      ],
      "execution_count": 91,
      "outputs": []
    },
    {
      "cell_type": "code",
      "metadata": {
        "colab": {
          "base_uri": "https://localhost:8080/"
        },
        "id": "NCtKwU0gBeUV",
        "outputId": "4e8916f2-8b00-4721-e501-8002c1500f43"
      },
      "source": [
        "precision, recall, thresholds = precision_recall_curve(y_val, preds)\n",
        "\n",
        "fscore = ((1 + 0.8**2) * precision * recall) / (0.8**2 * precision + recall)\n",
        "#fscore = (2 * precision * recall) / (precision + recall)\n",
        "# locate the index of the largest f score\n",
        "ix = np.argmax(fscore)\n",
        "print('Best Threshold=%f, F-Score=%.3f, Precision=%.3f, Recall=%.3f' % (thresholds[ix], \n",
        "                                                                        fscore[ix],\n",
        "                                                                        precision[ix],\n",
        "                                                                        recall[ix]))"
      ],
      "execution_count": 92,
      "outputs": [
        {
          "output_type": "stream",
          "text": [
            "Best Threshold=0.699785, F-Score=0.656, Precision=0.701, Recall=0.595\n"
          ],
          "name": "stdout"
        }
      ]
    },
    {
      "cell_type": "code",
      "metadata": {
        "colab": {
          "base_uri": "https://localhost:8080/",
          "height": 648
        },
        "id": "lB9qhoTrBfYE",
        "outputId": "7ebafc65-2ea3-4666-ea2a-99989e157672"
      },
      "source": [
        "font = {'size' : 15}\n",
        "\n",
        "plt.rc('font', **font)\n",
        "\n",
        "cnf_matrix = confusion_matrix(y_val, preds>thresholds[ix])\n",
        "plt.figure(figsize=(10, 8))\n",
        "plot_confusion_matrix(cnf_matrix, classes=['NonChurn', 'Churn'],\n",
        "                      title='Confusion matrix')\n",
        "plt.savefig(\"conf_matrix.png\")\n",
        "plt.show()"
      ],
      "execution_count": 93,
      "outputs": [
        {
          "output_type": "stream",
          "text": [
            "Confusion matrix, without normalization\n",
            "[[1862  129]\n",
            " [ 207  302]]\n"
          ],
          "name": "stdout"
        },
        {
          "output_type": "display_data",
          "data": {
            "image/png": "[encoded data removed]",
            "text/plain": [
              "<Figure size 720x576 with 2 Axes>"
            ]
          },
          "metadata": {
            "tags": [],
            "needs_background": "light"
          }
        }
      ]
    },
    {
      "cell_type": "code",
      "metadata": {
        "colab": {
          "base_uri": "https://localhost:8080/"
        },
        "id": "9619wwK6Iqv8",
        "outputId": "4d2429b2-d562-4656-cfa6-deb985aa2f3f"
      },
      "source": [
        "FP = 129\n",
        "TP = 302\n",
        "income = TP * 2\n",
        "expense = (TP+FP)\n",
        "print(f'Экономическая эффективность: {income - expense}$')"
      ],
      "execution_count": 94,
      "outputs": [
        {
          "output_type": "stream",
          "text": [
            "Экономическая эффективность: 173$\n"
          ],
          "name": "stdout"
        }
      ]
    },
    {
      "cell_type": "code",
      "metadata": {
        "id": "0PRIS9u7IwUc"
      },
      "source": [
        ""
      ],
      "execution_count": null,
      "outputs": []
    }
  ]
}