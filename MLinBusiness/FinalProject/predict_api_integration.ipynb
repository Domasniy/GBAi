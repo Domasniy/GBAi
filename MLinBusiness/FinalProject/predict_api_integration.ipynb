{
  "nbformat": 4,
  "nbformat_minor": 0,
  "metadata": {
    "kernelspec": {
      "display_name": "Python 3",
      "language": "python",
      "name": "python3"
    },
    "language_info": {
      "codemirror_mode": {
        "name": "ipython",
        "version": 3
      },
      "file_extension": ".py",
      "mimetype": "text/x-python",
      "name": "python",
      "nbconvert_exporter": "python",
      "pygments_lexer": "ipython3",
      "version": "3.7.3"
    },
    "colab": {
      "name": "predict_api_integration.ipynb",
      "provenance": [],
      "collapsed_sections": [],
      "toc_visible": true
    }
  },
  "cells": [
    {
      "cell_type": "markdown",
      "metadata": {
        "id": "vrAt-6rvFJxH"
      },
      "source": [
        "### Проверка того, что наше api работает\n",
        "\n",
        "Перед началом необходимо собрать docker-образ и запустить контейнер\n",
        "\n",
        "1. Следовать инструкциям https://github.com/Domasniy/GB_ML_in_business_project/blob/master/README.md\n",
        "2. Далее уже запускать код ниже"
      ]
    },
    {
      "cell_type": "code",
      "metadata": {
        "scrolled": true,
        "id": "HD2c3pacFJxM"
      },
      "source": [
        "import pandas as pd\n",
        "import json \n",
        "from sklearn.metrics import roc_auc_score,roc_curve,scorer\n",
        "from urllib import request, parse\n",
        "import requests\n",
        "import numpy as np\n",
        "\n",
        "def get_prediction(df = None, myurl=None):\n",
        "    \"\"\"\n",
        "    Input parameters:\n",
        "        df: pandas DataFrame with the test objects\n",
        "        myurl: REST API url\n",
        "    Returns:\n",
        "        result: np.array - model prediction\n",
        "    \"\"\"\n",
        "    if df is not None:\n",
        "      data = df.to_json(orient='records')\n",
        "      header = {'Content-Type': 'application/json', \\\n",
        "                  'Accept': 'application/json'}\n",
        "      resp = requests.post(API_URL, \\\n",
        "                    data = json.dumps(data),\\\n",
        "                    headers= header)\n",
        "      if resp.status_code == 200:\n",
        "        predictions = np.array(resp.json()['predictions'])[:, 1]\n",
        "        return predictions\n",
        "    else:\n",
        "      print('No dataframe')\n",
        "    \n",
        "\n",
        "API_URL = \"http://0.0.0.0:8020/predict\"\n",
        "\n",
        "X_test = pd.read_csv(\"X_test.csv\")\n",
        "y_test = pd.read_csv(\"y_test.csv\")"
      ],
      "execution_count": 89,
      "outputs": []
    },
    {
      "cell_type": "markdown",
      "metadata": {
        "id": "HeUd5ymEFJxQ"
      },
      "source": [
        "### Getting predictions from REST API\n"
      ]
    },
    {
      "cell_type": "code",
      "metadata": {
        "id": "T7oprj6Ndb3W"
      },
      "source": [
        "# подать наш тестовый датафрейм, или часть его.\n",
        "predictions = get_prediction(X_test, API_URL)"
      ],
      "execution_count": 90,
      "outputs": []
    },
    {
      "cell_type": "code",
      "metadata": {
        "colab": {
          "base_uri": "https://localhost:8080/"
        },
        "id": "4wKPOS3kgERz",
        "outputId": "6f6f4d2a-085c-4b74-ebbe-272c02c78e99"
      },
      "source": [
        "predictions"
      ],
      "execution_count": 91,
      "outputs": [
        {
          "output_type": "execute_result",
          "data": {
            "text/plain": [
              "array([0.77398872, 0.03250943, 0.65404928, ..., 0.46003291, 0.15492709,\n",
              "       0.0051552 ])"
            ]
          },
          "metadata": {
            "tags": []
          },
          "execution_count": 91
        }
      ]
    },
    {
      "cell_type": "markdown",
      "metadata": {
        "id": "3rkiszi-FJxU"
      },
      "source": [
        "check performance (roc auc)"
      ]
    },
    {
      "cell_type": "code",
      "metadata": {
        "colab": {
          "base_uri": "https://localhost:8080/"
        },
        "id": "cWJlDGWsFJxU",
        "outputId": "fc63f2ab-58df-4f2d-c158-37c14b411e37"
      },
      "source": [
        "roc_auc_score(y_score=predictions, y_true=y_test)"
      ],
      "execution_count": 92,
      "outputs": [
        {
          "output_type": "execute_result",
          "data": {
            "text/plain": [
              "0.8387153851439566"
            ]
          },
          "metadata": {
            "tags": []
          },
          "execution_count": 92
        }
      ]
    },
    {
      "cell_type": "code",
      "metadata": {
        "id": "TDztre90opN2"
      },
      "source": [
        ""
      ],
      "execution_count": null,
      "outputs": []
    }
  ]
}