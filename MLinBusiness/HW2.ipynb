{
  "nbformat": 4,
  "nbformat_minor": 0,
  "metadata": {
    "colab": {
      "name": "HW2.ipynb",
      "provenance": [],
      "collapsed_sections": []
    },
    "kernelspec": {
      "name": "python3",
      "display_name": "Python 3"
    },
    "accelerator": "GPU"
  },
  "cells": [
    {
      "cell_type": "code",
      "metadata": {
        "id": "PgrI51biMhWH"
      },
      "source": [
        "import nltk.downloader"
      ],
      "execution_count": 3,
      "outputs": []
    },
    {
      "cell_type": "code",
      "metadata": {
        "colab": {
          "base_uri": "https://localhost:8080/"
        },
        "id": "3ZIZlxmhMqWp",
        "outputId": "5009924a-b260-49e8-c494-4b7b135a1752"
      },
      "source": [
        "nltk.download('stopwords')"
      ],
      "execution_count": 4,
      "outputs": [
        {
          "output_type": "stream",
          "text": [
            "[nltk_data] Downloading package stopwords to /root/nltk_data...\n",
            "[nltk_data]   Unzipping corpora/stopwords.zip.\n"
          ],
          "name": "stdout"
        },
        {
          "output_type": "execute_result",
          "data": {
            "text/plain": [
              "True"
            ]
          },
          "metadata": {
            "tags": []
          },
          "execution_count": 4
        }
      ]
    },
    {
      "cell_type": "code",
      "metadata": {
        "id": "UfYVaX4PK3Ji"
      },
      "source": [
        "import pandas as pd"
      ],
      "execution_count": 6,
      "outputs": []
    },
    {
      "cell_type": "code",
      "metadata": {
        "colab": {
          "base_uri": "https://localhost:8080/",
          "height": 162
        },
        "id": "q-_0P3yaMRmp",
        "outputId": "12b2110d-d023-4d92-d905-c736513f1d3f"
      },
      "source": [
        "news = pd.read_csv(\"articles.csv\")\r\n",
        "print(news.shape)\r\n",
        "news.head(3)"
      ],
      "execution_count": 7,
      "outputs": [
        {
          "output_type": "stream",
          "text": [
            "(27000, 2)\n"
          ],
          "name": "stdout"
        },
        {
          "output_type": "execute_result",
          "data": {
            "text/html": [
              "<div>\n",
              "<style scoped>\n",
              "    .dataframe tbody tr th:only-of-type {\n",
              "        vertical-align: middle;\n",
              "    }\n",
              "\n",
              "    .dataframe tbody tr th {\n",
              "        vertical-align: top;\n",
              "    }\n",
              "\n",
              "    .dataframe thead th {\n",
              "        text-align: right;\n",
              "    }\n",
              "</style>\n",
              "<table border=\"1\" class=\"dataframe\">\n",
              "  <thead>\n",
              "    <tr style=\"text-align: right;\">\n",
              "      <th></th>\n",
              "      <th>doc_id</th>\n",
              "      <th>title</th>\n",
              "    </tr>\n",
              "  </thead>\n",
              "  <tbody>\n",
              "    <tr>\n",
              "      <th>0</th>\n",
              "      <td>6</td>\n",
              "      <td>Заместитель председателяnправительства РФnСерг...</td>\n",
              "    </tr>\n",
              "    <tr>\n",
              "      <th>1</th>\n",
              "      <td>4896</td>\n",
              "      <td>Матч 1/16 финала Кубка России по футболу был п...</td>\n",
              "    </tr>\n",
              "    <tr>\n",
              "      <th>2</th>\n",
              "      <td>4897</td>\n",
              "      <td>Форвард «Авангарда» Томаш Заборский прокоммент...</td>\n",
              "    </tr>\n",
              "  </tbody>\n",
              "</table>\n",
              "</div>"
            ],
            "text/plain": [
              "   doc_id                                              title\n",
              "0       6  Заместитель председателяnправительства РФnСерг...\n",
              "1    4896  Матч 1/16 финала Кубка России по футболу был п...\n",
              "2    4897  Форвард «Авангарда» Томаш Заборский прокоммент..."
            ]
          },
          "metadata": {
            "tags": []
          },
          "execution_count": 7
        }
      ]
    },
    {
      "cell_type": "code",
      "metadata": {
        "colab": {
          "base_uri": "https://localhost:8080/",
          "height": 143
        },
        "id": "AuRD-09SMVwT",
        "outputId": "06725c62-71f0-497c-fd82-f1da6f555685"
      },
      "source": [
        "users = pd.read_csv(\"users_articles.csv\")\r\n",
        "users.head(3)"
      ],
      "execution_count": 8,
      "outputs": [
        {
          "output_type": "execute_result",
          "data": {
            "text/html": [
              "<div>\n",
              "<style scoped>\n",
              "    .dataframe tbody tr th:only-of-type {\n",
              "        vertical-align: middle;\n",
              "    }\n",
              "\n",
              "    .dataframe tbody tr th {\n",
              "        vertical-align: top;\n",
              "    }\n",
              "\n",
              "    .dataframe thead th {\n",
              "        text-align: right;\n",
              "    }\n",
              "</style>\n",
              "<table border=\"1\" class=\"dataframe\">\n",
              "  <thead>\n",
              "    <tr style=\"text-align: right;\">\n",
              "      <th></th>\n",
              "      <th>uid</th>\n",
              "      <th>articles</th>\n",
              "    </tr>\n",
              "  </thead>\n",
              "  <tbody>\n",
              "    <tr>\n",
              "      <th>0</th>\n",
              "      <td>u105138</td>\n",
              "      <td>[293672, 293328, 293001, 293622, 293126, 1852]</td>\n",
              "    </tr>\n",
              "    <tr>\n",
              "      <th>1</th>\n",
              "      <td>u108690</td>\n",
              "      <td>[3405, 1739, 2972, 1158, 1599, 322665]</td>\n",
              "    </tr>\n",
              "    <tr>\n",
              "      <th>2</th>\n",
              "      <td>u108339</td>\n",
              "      <td>[1845, 2009, 2356, 1424, 2939, 323389]</td>\n",
              "    </tr>\n",
              "  </tbody>\n",
              "</table>\n",
              "</div>"
            ],
            "text/plain": [
              "       uid                                        articles\n",
              "0  u105138  [293672, 293328, 293001, 293622, 293126, 1852]\n",
              "1  u108690          [3405, 1739, 2972, 1158, 1599, 322665]\n",
              "2  u108339          [1845, 2009, 2356, 1424, 2939, 323389]"
            ]
          },
          "metadata": {
            "tags": []
          },
          "execution_count": 8
        }
      ]
    },
    {
      "cell_type": "code",
      "metadata": {
        "id": "NQQzHhTNMT3N"
      },
      "source": [
        ""
      ],
      "execution_count": null,
      "outputs": []
    },
    {
      "cell_type": "code",
      "metadata": {
        "id": "ZpzUMvPDLeV5"
      },
      "source": [
        "#from gensim.test.utils import common_texts\r\n",
        "from gensim.corpora.dictionary import Dictionary"
      ],
      "execution_count": 9,
      "outputs": []
    },
    {
      "cell_type": "code",
      "metadata": {
        "id": "7SEgj7piLf7j"
      },
      "source": [
        "#предобработка текстов\r\n",
        "import re\r\n",
        "import numpy as np\r\n",
        "from nltk.corpus import stopwords\r\n",
        "#from nltk.tokenize import word_tokenize\r\n",
        "\r\n",
        "from razdel import tokenize # https://github.com/natasha/razdel\r\n",
        "#!pip install razdel\r\n",
        "\r\n",
        "import pymorphy2  # pip install pymorphy2"
      ],
      "execution_count": 12,
      "outputs": []
    },
    {
      "cell_type": "code",
      "metadata": {
        "id": "w2QLHfyyLhYm"
      },
      "source": [
        "stopword_ru = stopwords.words('russian')\r\n",
        "len(stopword_ru)\r\n",
        "\r\n",
        "morph = pymorphy2.MorphAnalyzer()"
      ],
      "execution_count": 13,
      "outputs": []
    },
    {
      "cell_type": "code",
      "metadata": {
        "colab": {
          "base_uri": "https://localhost:8080/"
        },
        "id": "PdAHss37Lk0i",
        "outputId": "5a0c4283-01cc-46cf-8cdf-fc9ad328b224"
      },
      "source": [
        "with open('stopwords.txt') as f:\r\n",
        "    additional_stopwords = [w.strip() for w in f.readlines() if w]\r\n",
        "stopword_ru += additional_stopwords\r\n",
        "len(stopword_ru)"
      ],
      "execution_count": 15,
      "outputs": [
        {
          "output_type": "execute_result",
          "data": {
            "text/plain": [
              "776"
            ]
          },
          "metadata": {
            "tags": []
          },
          "execution_count": 15
        }
      ]
    },
    {
      "cell_type": "code",
      "metadata": {
        "id": "lXDWmXAELljy"
      },
      "source": [
        "def clean_text(text):\r\n",
        "    '''\r\n",
        "    очистка текста\r\n",
        "    \r\n",
        "    на выходе очищеный текст\r\n",
        "    \r\n",
        "    '''\r\n",
        "    if not isinstance(text, str):\r\n",
        "        text = str(text)\r\n",
        "    \r\n",
        "    text = text.lower()\r\n",
        "    text = text.strip('\\n').strip('\\r').strip('\\t')\r\n",
        "    text = re.sub(\"-\\s\\r\\n\\|-\\s\\r\\n|\\r\\n\", '', str(text))\r\n",
        "\r\n",
        "    text = re.sub(\"[0-9]|[-—.,:;_%©«»?*!@#№$^•·&()]|[+=]|[[]|[]]|[/]|\", '', text)\r\n",
        "    text = re.sub(r\"\\r\\n\\t|\\n|\\\\s|\\r\\t|\\\\n\", ' ', text)\r\n",
        "    text = re.sub(r'[\\xad]|[\\s+]', ' ', text.strip())\r\n",
        "    \r\n",
        "    #tokens = list(tokenize(text))\r\n",
        "    #words = [_.text for _ in tokens]\r\n",
        "    #words = [w for w in words if w not in stopword_ru]\r\n",
        "    \r\n",
        "    #return \" \".join(words)\r\n",
        "    return text\r\n",
        "\r\n",
        "cache = {}\r\n",
        "\r\n",
        "def lemmatization(text):\r\n",
        "    '''\r\n",
        "    лемматизация\r\n",
        "        [0] если зашел тип не `str` делаем его `str`\r\n",
        "        [1] токенизация предложения через razdel\r\n",
        "        [2] проверка есть ли в начале слова '-'\r\n",
        "        [3] проверка токена с одного символа\r\n",
        "        [4] проверка есть ли данное слово в кэше\r\n",
        "        [5] лемматизация слова\r\n",
        "        [6] проверка на стоп-слова\r\n",
        "\r\n",
        "    на выходе лист отлемматизированых токенов\r\n",
        "    '''\r\n",
        "\r\n",
        "    # [0]\r\n",
        "    if not isinstance(text, str):\r\n",
        "        text = str(text)\r\n",
        "    \r\n",
        "    # [1]\r\n",
        "    tokens = list(tokenize(text))\r\n",
        "    words = [_.text for _ in tokens]\r\n",
        "\r\n",
        "    words_lem = []\r\n",
        "    for w in words:\r\n",
        "        if w[0] == '-': # [2]\r\n",
        "            w = w[1:]\r\n",
        "        if len(w)>1: # [3]\r\n",
        "            if w in cache: # [4]\r\n",
        "                words_lem.append(cache[w])\r\n",
        "            else: # [5]\r\n",
        "                temp_cach = cache[w] = morph.parse(w)[0].normal_form\r\n",
        "                words_lem.append(temp_cach)\r\n",
        "    \r\n",
        "    words_lem_without_stopwords=[i for i in words_lem if not i in stopword_ru] # [6]\r\n",
        "    \r\n",
        "    return words_lem_without_stopwords"
      ],
      "execution_count": 16,
      "outputs": []
    },
    {
      "cell_type": "code",
      "metadata": {
        "colab": {
          "base_uri": "https://localhost:8080/"
        },
        "id": "3ZW0n05EMOq2",
        "outputId": "896c933e-7d1a-433e-bd75-0a03de56fc11"
      },
      "source": [
        "%%time\r\n",
        "#Запускаем очистку текста. Будет долго...\r\n",
        "news['title'] = news['title'].apply(lambda x: clean_text(x), 1)"
      ],
      "execution_count": 17,
      "outputs": [
        {
          "output_type": "stream",
          "text": [
            "/usr/local/lib/python3.7/dist-packages/ipykernel_launcher.py:15: FutureWarning: Possible nested set at position 39\n",
            "  from ipykernel import kernelapp as app\n"
          ],
          "name": "stderr"
        },
        {
          "output_type": "stream",
          "text": [
            "CPU times: user 21 s, sys: 916 ms, total: 22 s\n",
            "Wall time: 22 s\n"
          ],
          "name": "stdout"
        }
      ]
    },
    {
      "cell_type": "code",
      "metadata": {
        "colab": {
          "base_uri": "https://localhost:8080/"
        },
        "id": "Z7ELAr79MwBy",
        "outputId": "8258ca8b-56ea-41ce-d302-330ff4db9edf"
      },
      "source": [
        "%%time\r\n",
        "#Запускаем лемматизацию текста. Будет очень долго...\r\n",
        "news['title'] = news['title'].apply(lambda x: lemmatization(x), 1)"
      ],
      "execution_count": 18,
      "outputs": [
        {
          "output_type": "stream",
          "text": [
            "CPU times: user 3min 21s, sys: 185 ms, total: 3min 22s\n",
            "Wall time: 3min 22s\n"
          ],
          "name": "stdout"
        }
      ]
    },
    {
      "cell_type": "code",
      "metadata": {
        "id": "ZEfK_hqXM3Wx"
      },
      "source": [
        "#сформируем список наших текстов, разбив еще и на пробелы\r\n",
        "texts = [t for t in news['title'].values]\r\n",
        "\r\n",
        "# Create a corpus from a list of texts\r\n",
        "common_dictionary = Dictionary(texts)\r\n",
        "common_corpus = [common_dictionary.doc2bow(text) for text in texts]"
      ],
      "execution_count": 19,
      "outputs": []
    },
    {
      "cell_type": "code",
      "metadata": {
        "colab": {
          "base_uri": "https://localhost:8080/",
          "height": 36
        },
        "id": "cpK_WcRiQHxW",
        "outputId": "5a90b4e5-6244-433c-c120-99ccb23ddf4b"
      },
      "source": [
        "common_dictionary[10]"
      ],
      "execution_count": 20,
      "outputs": [
        {
          "output_type": "execute_result",
          "data": {
            "application/vnd.google.colaboratory.intrinsic+json": {
              "type": "string"
            },
            "text/plain": [
              "'ватутин'"
            ]
          },
          "metadata": {
            "tags": []
          },
          "execution_count": 20
        }
      ]
    },
    {
      "cell_type": "code",
      "metadata": {
        "colab": {
          "base_uri": "https://localhost:8080/"
        },
        "id": "zHyOkGz6QQdx",
        "outputId": "4289b056-1aac-4a11-d978-6dd6b137b5e7"
      },
      "source": [
        "%%time\r\n",
        "from gensim.models import LdaModel\r\n",
        "# Train the model on the corpus.\r\n",
        "lda = LdaModel(common_corpus, num_topics=25, id2word=common_dictionary)#, passes=10)"
      ],
      "execution_count": 21,
      "outputs": [
        {
          "output_type": "stream",
          "text": [
            "CPU times: user 42.1 s, sys: 20.6 s, total: 1min 2s\n",
            "Wall time: 40 s\n"
          ],
          "name": "stdout"
        }
      ]
    },
    {
      "cell_type": "code",
      "metadata": {
        "colab": {
          "base_uri": "https://localhost:8080/"
        },
        "id": "tactcZNuQvVZ",
        "outputId": "3ff47077-2803-48aa-8d7b-abcc83d82fcc"
      },
      "source": [
        "# Create a new corpus, made of previously unseen documents.\r\n",
        "other_texts = [t for t in news['title'].iloc[:3]]\r\n",
        "other_corpus = [common_dictionary.doc2bow(text) for text in other_texts]\r\n",
        "\r\n",
        "unseen_doc = other_corpus[2]\r\n",
        "print(other_texts[2])\r\n",
        "lda[unseen_doc] "
      ],
      "execution_count": 22,
      "outputs": [
        {
          "output_type": "stream",
          "text": [
            "['форвард', 'авангард', 'томаш', 'заборский', 'прокомментировать', 'игра', 'команда', 'матч', 'чемпионат', 'кхл', 'против', 'атланта', 'nnnn', 'плохой', 'матч', 'нижний', 'новгород', 'против', 'торпедо', 'настраиваться', 'первый', 'минута', 'включиться', 'заборский', 'получиться', 'забросить', 'быстрый', 'гол', 'задать', 'хороший', 'темп', 'поединок', 'играть', 'хороший', 'сторона', 'пять', 'очко', 'выезд', 'девять', 'хороший']\n"
          ],
          "name": "stdout"
        },
        {
          "output_type": "execute_result",
          "data": {
            "text/plain": [
              "[(2, 0.23330995), (4, 0.36142796), (7, 0.34970027), (9, 0.035073977)]"
            ]
          },
          "metadata": {
            "tags": []
          },
          "execution_count": 22
        }
      ]
    },
    {
      "cell_type": "code",
      "metadata": {
        "colab": {
          "base_uri": "https://localhost:8080/"
        },
        "id": "GrUEzIu4RIVf",
        "outputId": "c4e1f1e7-9885-4cb3-c558-462bc748f72d"
      },
      "source": [
        "x=lda.show_topics(num_topics=25, num_words=7,formatted=False)\r\n",
        "topics_words = [(tp[0], [wd[0] for wd in tp[1]]) for tp in x]\r\n",
        "\r\n",
        "#Below Code Prints Only Words \r\n",
        "for topic,words in topics_words:\r\n",
        "    print(\"topic_{}: \".format(topic)+\" \".join(words))"
      ],
      "execution_count": 23,
      "outputs": [
        {
          "output_type": "stream",
          "text": [
            "topic_0: военный сша американский космический запуск армия технология\n",
            "topic_1: учёный вода район остров метр статья поиск\n",
            "topic_2: журнал университет хороший солнце большой первый nn\n",
            "topic_3: ракета рост млн объём составить выплата тыс\n",
            "topic_4: гражданин журнал космос форум фронт народный городской\n",
            "topic_5: погибнуть миссия кожа операция nn предупредить пассажир\n",
            "topic_6: исследователь население ребёнок пострадать крым день район\n",
            "topic_7: всё земля первый очень жизнь тело большой\n",
            "topic_8: турист рак способность граница иран русский туристический\n",
            "topic_9: мозг всё температура автор пенсия обнаружить способ\n",
            "topic_10: самолёт источник корабль земля данные эксперимент экипаж\n",
            "topic_11: луна век клетка поверхность учёный nn новый\n",
            "topic_12: россия развитие новый рынок научный российский проект\n",
            "topic_13: доллар экономика депутат штат налог жертва тело\n",
            "topic_14: смерть проверка астероид планета астроном северный погода\n",
            "topic_15: взрыв следствие телескоп украина песок пресссекретарить путин\n",
            "topic_16: мкс nn марс лунный астронавт археолог высота\n",
            "topic_17: животное министерство операция пациент обнаружить около квартира\n",
            "topic_18: украина россия украинский государство российский станция nn\n",
            "topic_19: nn мужчина россия российский организм день ген\n",
            "topic_20: газ nn турецкий турция производитель вицепремьер опубликовать\n",
            "topic_21: россия москва санкция спутник статья сша выяснить\n",
            "topic_22: сша нефть российский валюта американский власть война\n",
            "topic_23: рубль млрд исследование фонд цена ребёнок тыс\n",
            "topic_24: сотрудник убийство уголовный орган преступление задержать область\n"
          ],
          "name": "stdout"
        }
      ]
    },
    {
      "cell_type": "code",
      "metadata": {
        "id": "oB2cPndWRKJl"
      },
      "source": [
        "def get_lda_vector(text):\r\n",
        "    unseen_doc = common_dictionary.doc2bow(text)\r\n",
        "    lda_tuple = lda[unseen_doc]\r\n",
        "    not_null_topics = dict(zip([i[0] for i in lda_tuple], [i[1] for i in lda_tuple]))\r\n",
        "\r\n",
        "    output_vector = []\r\n",
        "    for i in range(25):\r\n",
        "        if i not in not_null_topics:\r\n",
        "            output_vector.append(0)\r\n",
        "        else:\r\n",
        "            output_vector.append(not_null_topics[i])\r\n",
        "    return np.array(output_vector)"
      ],
      "execution_count": 24,
      "outputs": []
    },
    {
      "cell_type": "code",
      "metadata": {
        "colab": {
          "base_uri": "https://localhost:8080/",
          "height": 226
        },
        "id": "_YnRIg1QSOWf",
        "outputId": "0b633e17-8f90-431a-a8ed-5a20fd0397fd"
      },
      "source": [
        "topic_matrix = pd.DataFrame([get_lda_vector(text) for text in news['title'].values])\r\n",
        "topic_matrix.columns = ['topic_{}'.format(i) for i in range(25)]\r\n",
        "topic_matrix['doc_id'] = news['doc_id'].values\r\n",
        "topic_matrix = topic_matrix[['doc_id']+['topic_{}'.format(i) for i in range(25)]]\r\n",
        "topic_matrix.head(5)"
      ],
      "execution_count": 25,
      "outputs": [
        {
          "output_type": "execute_result",
          "data": {
            "text/html": [
              "<div>\n",
              "<style scoped>\n",
              "    .dataframe tbody tr th:only-of-type {\n",
              "        vertical-align: middle;\n",
              "    }\n",
              "\n",
              "    .dataframe tbody tr th {\n",
              "        vertical-align: top;\n",
              "    }\n",
              "\n",
              "    .dataframe thead th {\n",
              "        text-align: right;\n",
              "    }\n",
              "</style>\n",
              "<table border=\"1\" class=\"dataframe\">\n",
              "  <thead>\n",
              "    <tr style=\"text-align: right;\">\n",
              "      <th></th>\n",
              "      <th>doc_id</th>\n",
              "      <th>topic_0</th>\n",
              "      <th>topic_1</th>\n",
              "      <th>topic_2</th>\n",
              "      <th>topic_3</th>\n",
              "      <th>topic_4</th>\n",
              "      <th>topic_5</th>\n",
              "      <th>topic_6</th>\n",
              "      <th>topic_7</th>\n",
              "      <th>topic_8</th>\n",
              "      <th>topic_9</th>\n",
              "      <th>topic_10</th>\n",
              "      <th>topic_11</th>\n",
              "      <th>topic_12</th>\n",
              "      <th>topic_13</th>\n",
              "      <th>topic_14</th>\n",
              "      <th>topic_15</th>\n",
              "      <th>topic_16</th>\n",
              "      <th>topic_17</th>\n",
              "      <th>topic_18</th>\n",
              "      <th>topic_19</th>\n",
              "      <th>topic_20</th>\n",
              "      <th>topic_21</th>\n",
              "      <th>topic_22</th>\n",
              "      <th>topic_23</th>\n",
              "      <th>topic_24</th>\n",
              "    </tr>\n",
              "  </thead>\n",
              "  <tbody>\n",
              "    <tr>\n",
              "      <th>0</th>\n",
              "      <td>6</td>\n",
              "      <td>0.0</td>\n",
              "      <td>0.0</td>\n",
              "      <td>0.078009</td>\n",
              "      <td>0.128746</td>\n",
              "      <td>0.030664</td>\n",
              "      <td>0.0</td>\n",
              "      <td>0.0</td>\n",
              "      <td>0.000000</td>\n",
              "      <td>0.0</td>\n",
              "      <td>0.000000</td>\n",
              "      <td>0.0</td>\n",
              "      <td>0.0</td>\n",
              "      <td>0.129207</td>\n",
              "      <td>0.047848</td>\n",
              "      <td>0.0</td>\n",
              "      <td>0.000000</td>\n",
              "      <td>0.0</td>\n",
              "      <td>0.000000</td>\n",
              "      <td>0.0</td>\n",
              "      <td>0.0</td>\n",
              "      <td>0.0</td>\n",
              "      <td>0.0</td>\n",
              "      <td>0.0</td>\n",
              "      <td>0.0</td>\n",
              "      <td>0.570028</td>\n",
              "    </tr>\n",
              "    <tr>\n",
              "      <th>1</th>\n",
              "      <td>4896</td>\n",
              "      <td>0.0</td>\n",
              "      <td>0.0</td>\n",
              "      <td>0.066648</td>\n",
              "      <td>0.000000</td>\n",
              "      <td>0.000000</td>\n",
              "      <td>0.0</td>\n",
              "      <td>0.0</td>\n",
              "      <td>0.128966</td>\n",
              "      <td>0.0</td>\n",
              "      <td>0.000000</td>\n",
              "      <td>0.0</td>\n",
              "      <td>0.0</td>\n",
              "      <td>0.000000</td>\n",
              "      <td>0.000000</td>\n",
              "      <td>0.0</td>\n",
              "      <td>0.782922</td>\n",
              "      <td>0.0</td>\n",
              "      <td>0.000000</td>\n",
              "      <td>0.0</td>\n",
              "      <td>0.0</td>\n",
              "      <td>0.0</td>\n",
              "      <td>0.0</td>\n",
              "      <td>0.0</td>\n",
              "      <td>0.0</td>\n",
              "      <td>0.000000</td>\n",
              "    </tr>\n",
              "    <tr>\n",
              "      <th>2</th>\n",
              "      <td>4897</td>\n",
              "      <td>0.0</td>\n",
              "      <td>0.0</td>\n",
              "      <td>0.233470</td>\n",
              "      <td>0.000000</td>\n",
              "      <td>0.361432</td>\n",
              "      <td>0.0</td>\n",
              "      <td>0.0</td>\n",
              "      <td>0.349537</td>\n",
              "      <td>0.0</td>\n",
              "      <td>0.035072</td>\n",
              "      <td>0.0</td>\n",
              "      <td>0.0</td>\n",
              "      <td>0.000000</td>\n",
              "      <td>0.000000</td>\n",
              "      <td>0.0</td>\n",
              "      <td>0.000000</td>\n",
              "      <td>0.0</td>\n",
              "      <td>0.000000</td>\n",
              "      <td>0.0</td>\n",
              "      <td>0.0</td>\n",
              "      <td>0.0</td>\n",
              "      <td>0.0</td>\n",
              "      <td>0.0</td>\n",
              "      <td>0.0</td>\n",
              "      <td>0.000000</td>\n",
              "    </tr>\n",
              "    <tr>\n",
              "      <th>3</th>\n",
              "      <td>4898</td>\n",
              "      <td>0.0</td>\n",
              "      <td>0.0</td>\n",
              "      <td>0.716187</td>\n",
              "      <td>0.000000</td>\n",
              "      <td>0.000000</td>\n",
              "      <td>0.0</td>\n",
              "      <td>0.0</td>\n",
              "      <td>0.214900</td>\n",
              "      <td>0.0</td>\n",
              "      <td>0.000000</td>\n",
              "      <td>0.0</td>\n",
              "      <td>0.0</td>\n",
              "      <td>0.058437</td>\n",
              "      <td>0.000000</td>\n",
              "      <td>0.0</td>\n",
              "      <td>0.000000</td>\n",
              "      <td>0.0</td>\n",
              "      <td>0.000000</td>\n",
              "      <td>0.0</td>\n",
              "      <td>0.0</td>\n",
              "      <td>0.0</td>\n",
              "      <td>0.0</td>\n",
              "      <td>0.0</td>\n",
              "      <td>0.0</td>\n",
              "      <td>0.000000</td>\n",
              "    </tr>\n",
              "    <tr>\n",
              "      <th>4</th>\n",
              "      <td>4899</td>\n",
              "      <td>0.0</td>\n",
              "      <td>0.0</td>\n",
              "      <td>0.000000</td>\n",
              "      <td>0.000000</td>\n",
              "      <td>0.000000</td>\n",
              "      <td>0.0</td>\n",
              "      <td>0.0</td>\n",
              "      <td>0.000000</td>\n",
              "      <td>0.0</td>\n",
              "      <td>0.000000</td>\n",
              "      <td>0.0</td>\n",
              "      <td>0.0</td>\n",
              "      <td>0.000000</td>\n",
              "      <td>0.000000</td>\n",
              "      <td>0.0</td>\n",
              "      <td>0.000000</td>\n",
              "      <td>0.0</td>\n",
              "      <td>0.974054</td>\n",
              "      <td>0.0</td>\n",
              "      <td>0.0</td>\n",
              "      <td>0.0</td>\n",
              "      <td>0.0</td>\n",
              "      <td>0.0</td>\n",
              "      <td>0.0</td>\n",
              "      <td>0.000000</td>\n",
              "    </tr>\n",
              "  </tbody>\n",
              "</table>\n",
              "</div>"
            ],
            "text/plain": [
              "   doc_id  topic_0  topic_1   topic_2  ...  topic_21  topic_22  topic_23  topic_24\n",
              "0       6      0.0      0.0  0.078009  ...       0.0       0.0       0.0  0.570028\n",
              "1    4896      0.0      0.0  0.066648  ...       0.0       0.0       0.0  0.000000\n",
              "2    4897      0.0      0.0  0.233470  ...       0.0       0.0       0.0  0.000000\n",
              "3    4898      0.0      0.0  0.716187  ...       0.0       0.0       0.0  0.000000\n",
              "4    4899      0.0      0.0  0.000000  ...       0.0       0.0       0.0  0.000000\n",
              "\n",
              "[5 rows x 26 columns]"
            ]
          },
          "metadata": {
            "tags": []
          },
          "execution_count": 25
        }
      ]
    },
    {
      "cell_type": "code",
      "metadata": {
        "id": "wGjhEOXmSPph"
      },
      "source": [
        "doc_dict = dict(zip(topic_matrix['doc_id'].values, topic_matrix[['topic_{}'.format(i) for i in range(25)]].values))"
      ],
      "execution_count": 26,
      "outputs": []
    },
    {
      "cell_type": "code",
      "metadata": {
        "colab": {
          "base_uri": "https://localhost:8080/"
        },
        "id": "u6DB8EF_SyUy",
        "outputId": "f3e7849e-1d5d-4e7f-faa1-b667e0fdbb9e"
      },
      "source": [
        "doc_dict[293622]"
      ],
      "execution_count": 27,
      "outputs": [
        {
          "output_type": "execute_result",
          "data": {
            "text/plain": [
              "array([0.        , 0.0214393 , 0.        , 0.        , 0.02087479,\n",
              "       0.        , 0.22581194, 0.        , 0.11955556, 0.01742761,\n",
              "       0.        , 0.10877936, 0.06238631, 0.        , 0.        ,\n",
              "       0.0397971 , 0.13762569, 0.0571178 , 0.02027267, 0.        ,\n",
              "       0.        , 0.        , 0.        , 0.13827708, 0.02547345])"
            ]
          },
          "metadata": {
            "tags": []
          },
          "execution_count": 27
        }
      ]
    },
    {
      "cell_type": "code",
      "metadata": {
        "id": "Pp-3tS9aWmz6"
      },
      "source": [
        "user_articles_list = users['articles'].iloc[33]"
      ],
      "execution_count": 28,
      "outputs": []
    },
    {
      "cell_type": "markdown",
      "metadata": {
        "id": "kl4dr0HoZadd"
      },
      "source": [
        "### Домашнее задание"
      ]
    },
    {
      "cell_type": "code",
      "metadata": {
        "id": "vrG9Oq1K0ati"
      },
      "source": [
        "from sklearn.linear_model import LogisticRegression\r\n",
        "from sklearn.model_selection import train_test_split\r\n",
        "#import itertools\r\n",
        "\r\n",
        "import matplotlib.pyplot as plt\r\n",
        "\r\n",
        "from sklearn.metrics import f1_score, roc_auc_score, precision_score, classification_report, precision_recall_curve, confusion_matrix\r\n",
        "import itertools\r\n",
        "\r\n",
        "%matplotlib inline"
      ],
      "execution_count": 44,
      "outputs": []
    },
    {
      "cell_type": "code",
      "metadata": {
        "colab": {
          "base_uri": "https://localhost:8080/",
          "height": 143
        },
        "id": "3u2gJ3fOzedB",
        "outputId": "f09cd161-74d0-44a2-82c2-bf129493d922"
      },
      "source": [
        "target = pd.read_csv(\"users_churn.csv\")\r\n",
        "target.head(3)"
      ],
      "execution_count": 36,
      "outputs": [
        {
          "output_type": "execute_result",
          "data": {
            "text/html": [
              "<div>\n",
              "<style scoped>\n",
              "    .dataframe tbody tr th:only-of-type {\n",
              "        vertical-align: middle;\n",
              "    }\n",
              "\n",
              "    .dataframe tbody tr th {\n",
              "        vertical-align: top;\n",
              "    }\n",
              "\n",
              "    .dataframe thead th {\n",
              "        text-align: right;\n",
              "    }\n",
              "</style>\n",
              "<table border=\"1\" class=\"dataframe\">\n",
              "  <thead>\n",
              "    <tr style=\"text-align: right;\">\n",
              "      <th></th>\n",
              "      <th>uid</th>\n",
              "      <th>churn</th>\n",
              "    </tr>\n",
              "  </thead>\n",
              "  <tbody>\n",
              "    <tr>\n",
              "      <th>0</th>\n",
              "      <td>u107120</td>\n",
              "      <td>0</td>\n",
              "    </tr>\n",
              "    <tr>\n",
              "      <th>1</th>\n",
              "      <td>u102277</td>\n",
              "      <td>0</td>\n",
              "    </tr>\n",
              "    <tr>\n",
              "      <th>2</th>\n",
              "      <td>u102444</td>\n",
              "      <td>0</td>\n",
              "    </tr>\n",
              "  </tbody>\n",
              "</table>\n",
              "</div>"
            ],
            "text/plain": [
              "       uid  churn\n",
              "0  u107120      0\n",
              "1  u102277      0\n",
              "2  u102444      0"
            ]
          },
          "metadata": {
            "tags": []
          },
          "execution_count": 36
        }
      ]
    },
    {
      "cell_type": "markdown",
      "metadata": {
        "id": "OsKKCi5rzF-8"
      },
      "source": [
        "Передалаем функцию и добавим в нее параметр выбора функции для обработки(mean, median, etc)"
      ]
    },
    {
      "cell_type": "code",
      "metadata": {
        "id": "_9fjGqsRzFSd"
      },
      "source": [
        "def get_user_embedding(user_articles_list, func = np.mean):\r\n",
        "    user_articles_list = eval(user_articles_list)\r\n",
        "    user_vector = np.array([doc_dict[doc_id] for doc_id in user_articles_list])\r\n",
        "    user_vector = func(user_vector, 0)\r\n",
        "    return user_vector"
      ],
      "execution_count": 37,
      "outputs": []
    },
    {
      "cell_type": "markdown",
      "metadata": {
        "id": "M2RLokqizr4y"
      },
      "source": [
        "Сделаем вспомогательную функцию, для получения метрик, для разных функций запуска"
      ]
    },
    {
      "cell_type": "code",
      "metadata": {
        "id": "PBQMbrOyzPrX"
      },
      "source": [
        "def get_model_metrics(func=np.mean):\r\n",
        "  user_embeddings = pd.DataFrame([i for i in users['articles'].apply(lambda x: get_user_embedding(x, func), 1)])\r\n",
        "  user_embeddings.columns = ['topic_{}'.format(i) for i in range(25)]\r\n",
        "  user_embeddings['uid'] = users['uid'].values\r\n",
        "  user_embeddings = user_embeddings[['uid']+['topic_{}'.format(i) for i in range(25)]]\r\n",
        "  X = pd.merge(user_embeddings, target, 'left')\r\n",
        "  X_train, X_test, y_train, y_test = train_test_split(X[['topic_{}'.format(i) for i in range(25)]], \r\n",
        "                                                    X['churn'], random_state=0)\r\n",
        "  logreg = LogisticRegression()\r\n",
        "  logreg.fit(X_train, y_train)\r\n",
        "\r\n",
        "  preds = logreg.predict_proba(X_test)[:, 1]\r\n",
        "  precision, recall, thresholds = precision_recall_curve(y_test, preds)\r\n",
        "  fscore = (2 * precision * recall) / (precision + recall)\r\n",
        "  # locate the index of the largest f score\r\n",
        "  ix = np.argmax(fscore)\r\n",
        "  roc_auc = roc_auc_score(y_test, preds)\r\n",
        "  return thresholds[ix], fscore[ix], precision[ix], recall[ix], roc_auc\r\n",
        "\r\n",
        "  "
      ],
      "execution_count": 51,
      "outputs": []
    },
    {
      "cell_type": "code",
      "metadata": {
        "id": "xTNCpK9n1Fxr"
      },
      "source": [
        "all_metrics = []"
      ],
      "execution_count": 52,
      "outputs": []
    },
    {
      "cell_type": "markdown",
      "metadata": {
        "id": "VDbwBYZLaZ_-"
      },
      "source": [
        "#### Получим результаты для разных моделей"
      ]
    },
    {
      "cell_type": "code",
      "metadata": {
        "id": "KZ27rXPI1RER"
      },
      "source": [
        "all_metrics.append(get_model_metrics(func=np.mean))\r\n",
        "all_metrics.append(get_model_metrics(func=np.median))\r\n",
        "all_metrics.append(get_model_metrics(func=np.max))"
      ],
      "execution_count": 53,
      "outputs": []
    },
    {
      "cell_type": "code",
      "metadata": {
        "colab": {
          "base_uri": "https://localhost:8080/",
          "height": 143
        },
        "id": "z8YhEGXkeLxE",
        "outputId": "572562a0-4ef5-45f0-9200-ac38c6ce5b4e"
      },
      "source": [
        "result = pd.DataFrame(all_metrics, columns=['threshold', 'F-Score', 'Precision', 'Recall', 'ROC_AUC'], index=['Mean','Median','Max'])\r\n",
        "result"
      ],
      "execution_count": 54,
      "outputs": [
        {
          "output_type": "execute_result",
          "data": {
            "text/html": [
              "<div>\n",
              "<style scoped>\n",
              "    .dataframe tbody tr th:only-of-type {\n",
              "        vertical-align: middle;\n",
              "    }\n",
              "\n",
              "    .dataframe tbody tr th {\n",
              "        vertical-align: top;\n",
              "    }\n",
              "\n",
              "    .dataframe thead th {\n",
              "        text-align: right;\n",
              "    }\n",
              "</style>\n",
              "<table border=\"1\" class=\"dataframe\">\n",
              "  <thead>\n",
              "    <tr style=\"text-align: right;\">\n",
              "      <th></th>\n",
              "      <th>threshold</th>\n",
              "      <th>F-Score</th>\n",
              "      <th>Precision</th>\n",
              "      <th>Recall</th>\n",
              "      <th>ROC_AUC</th>\n",
              "    </tr>\n",
              "  </thead>\n",
              "  <tbody>\n",
              "    <tr>\n",
              "      <th>Mean</th>\n",
              "      <td>0.216622</td>\n",
              "      <td>0.559603</td>\n",
              "      <td>0.470752</td>\n",
              "      <td>0.689796</td>\n",
              "      <td>0.902027</td>\n",
              "    </tr>\n",
              "    <tr>\n",
              "      <th>Median</th>\n",
              "      <td>0.276677</td>\n",
              "      <td>0.688391</td>\n",
              "      <td>0.686992</td>\n",
              "      <td>0.689796</td>\n",
              "      <td>0.954339</td>\n",
              "    </tr>\n",
              "    <tr>\n",
              "      <th>Max</th>\n",
              "      <td>0.284486</td>\n",
              "      <td>0.757042</td>\n",
              "      <td>0.665635</td>\n",
              "      <td>0.877551</td>\n",
              "      <td>0.970624</td>\n",
              "    </tr>\n",
              "  </tbody>\n",
              "</table>\n",
              "</div>"
            ],
            "text/plain": [
              "        threshold   F-Score  Precision    Recall   ROC_AUC\n",
              "Mean     0.216622  0.559603   0.470752  0.689796  0.902027\n",
              "Median   0.276677  0.688391   0.686992  0.689796  0.954339\n",
              "Max      0.284486  0.757042   0.665635  0.877551  0.970624"
            ]
          },
          "metadata": {
            "tags": []
          },
          "execution_count": 54
        }
      ]
    },
    {
      "cell_type": "code",
      "metadata": {
        "id": "DP0h9tpEfKLV"
      },
      "source": [
        ""
      ],
      "execution_count": null,
      "outputs": []
    }
  ]
}